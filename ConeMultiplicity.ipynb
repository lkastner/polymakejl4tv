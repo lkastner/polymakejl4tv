{
 "cells": [
  {
   "cell_type": "code",
   "execution_count": 135,
   "id": "weekly-adapter",
   "metadata": {},
   "outputs": [],
   "source": []
  },
  {
   "cell_type": "code",
   "execution_count": null,
   "id": "interim-wayne",
   "metadata": {},
   "outputs": [],
   "source": []
  },
  {
   "cell_type": "code",
   "execution_count": null,
   "id": "informed-study",
   "metadata": {},
   "outputs": [],
   "source": []
  },
  {
   "cell_type": "code",
   "execution_count": null,
   "id": "welsh-shark",
   "metadata": {},
   "outputs": [],
   "source": []
  },
  {
   "cell_type": "code",
   "execution_count": null,
   "id": "blank-barrier",
   "metadata": {},
   "outputs": [],
   "source": []
  },
  {
   "cell_type": "code",
   "execution_count": null,
   "id": "atmospheric-sleeping",
   "metadata": {},
   "outputs": [],
   "source": []
  },
  {
   "cell_type": "code",
   "execution_count": null,
   "id": "defined-local",
   "metadata": {},
   "outputs": [],
   "source": []
  },
  {
   "cell_type": "code",
   "execution_count": 81,
   "id": "discrete-while",
   "metadata": {},
   "outputs": [
    {
     "data": {
      "text/plain": [
       "coneMultiplicity (generic function with 1 method)"
      ]
     },
     "execution_count": 81,
     "metadata": {},
     "output_type": "execute_result"
    }
   ],
   "source": [
    "using Oscar\n",
    "\n",
    "function coneMultiplicity(C)\n",
    "    A=Polymake.common.primitive(C.RAYS)\n",
    "    M=matrix(ZZ,[fmpz.(y) for y in A])\n",
    "    SNF=Nemo.snf(M)\n",
    "    mult=1\n",
    "    for i in 1:size(SNF,1)\n",
    "        mult*=SNF[i,i]\n",
    "    end\n",
    "    return mult\n",
    "end"
   ]
  },
  {
   "cell_type": "code",
   "execution_count": null,
   "id": "cultural-frequency",
   "metadata": {},
   "outputs": [],
   "source": []
  },
  {
   "cell_type": "code",
   "execution_count": 143,
   "id": "selective-missouri",
   "metadata": {},
   "outputs": [
    {
     "data": {
      "text/plain": [
       "coneRayDecomposition (generic function with 2 methods)"
      ]
     },
     "execution_count": 143,
     "metadata": {},
     "output_type": "execute_result"
    }
   ],
   "source": [
    "using Oscar\n",
    "using LinearAlgebra\n",
    "\n",
    "function coneRayDecomposition(C,R,stack)\n",
    "    A=Polymake.common.primitive(C.RAYS)\n",
    "    M=convert(Array{Int64},[y for y in A])\n",
    "    M\n",
    "    if rank(M)<size(M,1)\n",
    "       error(\"The given cone is not simplicial.\") \n",
    "    end\n",
    "    M=diagm(stack)*M\n",
    "    B=Polymake.common.null_space(hcat(transpose(M),-R))\n",
    "    N=convert(Array{Int64},[y for y in B])\n",
    "    if size(N,1)==0\n",
    "        error(\"The given ray is not in the span of the cone generators.\")\n",
    "    end\n",
    "    if N[end] < 0\n",
    "        N*=-1\n",
    "    end\n",
    "    return (N[1:(size(N,2)-1)],N[end])\n",
    "end\n",
    "    \n",
    "    "
   ]
  },
  {
   "cell_type": "code",
   "execution_count": null,
   "id": "derived-macedonia",
   "metadata": {},
   "outputs": [],
   "source": []
  },
  {
   "cell_type": "code",
   "execution_count": null,
   "id": "representative-williams",
   "metadata": {},
   "outputs": [],
   "source": []
  },
  {
   "cell_type": "code",
   "execution_count": null,
   "id": "coupled-christmas",
   "metadata": {},
   "outputs": [],
   "source": []
  },
  {
   "cell_type": "code",
   "execution_count": null,
   "id": "hairy-austria",
   "metadata": {},
   "outputs": [],
   "source": []
  },
  {
   "cell_type": "code",
   "execution_count": null,
   "id": "accessory-toddler",
   "metadata": {},
   "outputs": [],
   "source": []
  },
  {
   "cell_type": "code",
   "execution_count": null,
   "id": "surrounded-scenario",
   "metadata": {},
   "outputs": [],
   "source": []
  },
  {
   "cell_type": "code",
   "execution_count": null,
   "id": "lyric-survival",
   "metadata": {},
   "outputs": [],
   "source": []
  }
 ],
 "metadata": {
  "kernelspec": {
   "display_name": "Julia 1.5.3",
   "language": "julia",
   "name": "julia-1.5"
  },
  "language_info": {
   "file_extension": ".jl",
   "mimetype": "application/julia",
   "name": "julia",
   "version": "1.5.3"
  }
 },
 "nbformat": 4,
 "nbformat_minor": 5
}
