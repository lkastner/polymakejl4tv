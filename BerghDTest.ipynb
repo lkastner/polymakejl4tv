{
 "cells": [
  {
   "cell_type": "code",
   "execution_count": 7,
   "id": "e6349da4-bc20-4175-a1c5-9279b09a5c0d",
   "metadata": {},
   "outputs": [
    {
     "data": {
      "text/plain": [
       "divAlongDivisor"
      ]
     },
     "execution_count": 7,
     "metadata": {},
     "output_type": "execute_result"
    }
   ],
   "source": [
    "include(\"AlgDp.jl\")"
   ]
  },
  {
   "cell_type": "code",
   "execution_count": 8,
   "id": "7898a87b-0883-4357-9e1a-e0393fa48bd3",
   "metadata": {},
   "outputs": [
    {
     "data": {
      "text/plain": [
       "StackyFan(Polymake.BigObjectAllocated(Ptr{Nothing} @0x0000000010cc35a0), Dict(\"0,1,0\" => 2,\"1,0,2\" => 1,\"1,0,0\" => 1))"
      ]
     },
     "execution_count": 8,
     "metadata": {},
     "output_type": "execute_result"
    }
   ],
   "source": [
    "# Initialize fan\n",
    "F=makeStackyFan([1 0 0; 0 1 0; 1 0 2],[[0,1,2]],[1,2,1])"
   ]
  },
  {
   "cell_type": "code",
   "execution_count": 9,
   "id": "38ff07a4-6962-47b2-8975-2c76ab54e721",
   "metadata": {},
   "outputs": [
    {
     "data": {
      "text/html": [
       "$2$"
      ],
      "text/plain": [
       "2"
      ]
     },
     "execution_count": 9,
     "metadata": {},
     "output_type": "execute_result"
    }
   ],
   "source": [
    "div=Dict([1,0,0]=>0,[0,1,0]=>0,[1,0,2]=>1)\n",
    "divAlongDivisor([1,2,3],F,div,[1,0,2])"
   ]
  },
  {
   "cell_type": "code",
   "execution_count": 10,
   "id": "50dd8832-a68c-4bb3-a626-c5531bf4fa52",
   "metadata": {},
   "outputs": [
    {
     "data": {
      "text/html": [
       "$1$"
      ],
      "text/plain": [
       "1"
      ]
     },
     "execution_count": 10,
     "metadata": {},
     "output_type": "execute_result"
    }
   ],
   "source": [
    "div=Dict([1,0,0]=>0,[0,1,0]=>1,[1,0,2]=>1) #[1 0 0] [1 0 2] - [1 0 0] has non-zero projection\n",
    "divAlongDivisor([1,2,3],F,div,[1,0,2])"
   ]
  },
  {
   "cell_type": "code",
   "execution_count": 11,
   "id": "3d3bd7f7-4f0a-48d9-a170-9d7d9bea133e",
   "metadata": {},
   "outputs": [
    {
     "data": {
      "text/html": [
       "$1$"
      ],
      "text/plain": [
       "1"
      ]
     },
     "execution_count": 11,
     "metadata": {},
     "output_type": "execute_result"
    }
   ],
   "source": [
    "div=Dict([1,0,0]=>1,[0,1,0]=>0,[1,0,2]=>1) #[0 1 0] has stacky value >1\n",
    "divAlongDivisor([1,2,3],F,div,[1,0,2])"
   ]
  },
  {
   "cell_type": "code",
   "execution_count": 12,
   "id": "d33040d9-4ea1-4720-9dbb-d29fa8b24dd4",
   "metadata": {},
   "outputs": [
    {
     "data": {
      "text/html": [
       "$0$"
      ],
      "text/plain": [
       "0"
      ]
     },
     "execution_count": 12,
     "metadata": {},
     "output_type": "execute_result"
    }
   ],
   "source": [
    "div=Dict([1,0,0]=>0,[0,1,0]=>1,[1,0,2]=>1) #[1 0 0] [0 1 0] - [1 0 0] is independent\n",
    "divAlongDivisor([1,2,3],F,div,[0,1,0])"
   ]
  },
  {
   "cell_type": "code",
   "execution_count": null,
   "id": "b6b2417f-3f99-4b2a-820e-8273441f85ce",
   "metadata": {},
   "outputs": [],
   "source": []
  }
 ],
 "metadata": {
  "kernelspec": {
   "display_name": "Julia 1.5.4",
   "language": "julia",
   "name": "julia-1.5"
  },
  "language_info": {
   "file_extension": ".jl",
   "mimetype": "application/julia",
   "name": "julia",
   "version": "1.5.4"
  }
 },
 "nbformat": 4,
 "nbformat_minor": 5
}
