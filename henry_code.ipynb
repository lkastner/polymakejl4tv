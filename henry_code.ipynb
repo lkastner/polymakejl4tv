{
 "cells": [
  {
   "cell_type": "code",
   "execution_count": 13,
   "id": "anticipated-three",
   "metadata": {},
   "outputs": [
    {
     "name": "stdout",
     "output_type": "stream",
     "text": [
      " -----    -----    -----      -      -----   \n",
      "|     |  |     |  |     |    | |    |     |  \n",
      "|     |  |        |         |   |   |     |  \n",
      "|     |   -----   |        |     |  |-----   \n",
      "|     |        |  |        |-----|  |   |    \n",
      "|     |  |     |  |     |  |     |  |    |   \n",
      " -----    -----    -----   -     -  -     -  \n",
      "\n",
      "...combining (and extending) ANTIC, GAP, Polymake and Singular\n",
      "Version\u001b[32m 0.5.1 \u001b[39m... \n",
      " ... which comes with absolutely no warranty whatsoever\n",
      "Type: '?Oscar' for more information\n",
      "(c) 2019-2021 by The Oscar Development Team\n"
     ]
    }
   ],
   "source": [
    "using Oscar\n",
    "using Polymake"
   ]
  },
  {
   "cell_type": "code",
   "execution_count": 14,
   "id": "bridal-cooking",
   "metadata": {},
   "outputs": [
    {
     "data": {
      "text/html": [
       "<dl> <dt>type</dt><dd> NormalToricVariety</dd> </dl><details><summary>INPUT_CONES</summary><pre>{0 1}\n",
       "{1 2}\n",
       "{2 3}\n",
       "{0 3}</pre></details>\n",
       "<details><summary>INPUT_RAYS</summary><pre>0 1\n",
       "1 0\n",
       "0 -1\n",
       "-2 1</pre></details>"
      ],
      "text/plain": [
       "type: NormalToricVariety\n",
       "\n",
       "INPUT_CONES\n",
       "\t{0 1}\n",
       "\t{1 2}\n",
       "\t{2 3}\n",
       "\t{0 3}\n",
       "\n",
       "INPUT_RAYS\n",
       "\t0 1\n",
       "\t1 0\n",
       "\t0 -1\n",
       "\t-2 1\n"
      ]
     },
     "execution_count": 14,
     "metadata": {},
     "output_type": "execute_result"
    }
   ],
   "source": [
    "tv = fulton.NormalToricVariety(INPUT_RAYS=[0 1; 1 0; 0 -1; -2 1]; INPUT_CONES=[[0,1],[1,2],[2,3],[0,3]])"
   ]
  },
  {
   "cell_type": "code",
   "execution_count": 43,
   "id": "authorized-immigration",
   "metadata": {},
   "outputs": [
    {
     "name": "stdout",
     "output_type": "stream",
     "text": [
      "pm::IncidenceMatrix<pm::NonSymmetric>\n",
      "{0 1}\n",
      "{1 2}\n",
      "{2 3}\n",
      "{0 3}\n",
      "\n",
      "Bool[1, 1, 0, 0]\n",
      "CxxWrap.CxxWrapCore.CxxBool[true true false false; false true true false; false false true true; true false false true]\n"
     ]
    }
   ],
   "source": [
    "l = tv.MAXIMAL_CONES\n",
    "println(l)\n",
    "println(l[1,:])\n",
    "println(Array(l))"
   ]
  },
  {
   "cell_type": "code",
   "execution_count": 31,
   "id": "specific-plymouth",
   "metadata": {},
   "outputs": [
    {
     "data": {
      "text/plain": [
       "slicematrix (generic function with 1 method)"
      ]
     },
     "execution_count": 31,
     "metadata": {},
     "output_type": "execute_result"
    }
   ],
   "source": [
    "function slicematrix(A::AbstractMatrix)\n",
    "    return [A[i, :] for i in 1:size(A,1)]\n",
    "end"
   ]
  },
  {
   "cell_type": "code",
   "execution_count": 32,
   "id": "about-manufacturer",
   "metadata": {},
   "outputs": [
    {
     "data": {
      "text/plain": [
       "rowMinors (generic function with 1 method)"
      ]
     },
     "execution_count": 32,
     "metadata": {},
     "output_type": "execute_result"
    }
   ],
   "source": [
    "function rowMinors(A::AbstractMatrix,S::Set)\n",
    "    outList=[]\n",
    "    slices=slicematrix(A)\n",
    "    for i in 1:size(A,1)\n",
    "        if i in S\n",
    "            append!(outList,slices[i])\n",
    "        end\n",
    "    end\n",
    "    return transpose(hcat(outList...))\n",
    "end"
   ]
  },
  {
   "cell_type": "code",
   "execution_count": 36,
   "id": "cognitive-bulgaria",
   "metadata": {},
   "outputs": [
    {
     "data": {
      "text/plain": [
       "coneListFormat (generic function with 2 methods)"
      ]
     },
     "execution_count": 36,
     "metadata": {},
     "output_type": "execute_result"
    }
   ],
   "source": [
    "function coneListFormat(coneList, X)\n",
    "    memberList=[]\n",
    "    denseList=slicematrix(Array(Polymake.common.dense(coneList)))\n",
    "    for row in denseList\n",
    "        members=[]\n",
    "        for i in 1:size(X,1)\n",
    "            if row[i]==1\n",
    "                append!(members,i-1)\n",
    "            end\n",
    "        end\n",
    "        append!(memberList,members)\n",
    "    end\n",
    "    return memberList\n",
    "end"
   ]
  },
  {
   "cell_type": "code",
   "execution_count": 37,
   "id": "roman-logistics",
   "metadata": {},
   "outputs": [
    {
     "name": "stdout",
     "output_type": "stream",
     "text": [
      "Any[0, 1, 1, 2, 2, 3, 0, 3]\n"
     ]
    }
   ],
   "source": [
    "println(coneListFormat(l, tv.RAYS))"
   ]
  },
  {
   "cell_type": "code",
   "execution_count": 20,
   "id": "occasional-andrews",
   "metadata": {},
   "outputs": [
    {
     "data": {
      "text/plain": [
       "pm::Matrix<pm::Rational>\n",
       "0 1\n",
       "1 0\n",
       "0 -1\n",
       "-1 1/2\n"
      ]
     },
     "execution_count": 20,
     "metadata": {},
     "output_type": "execute_result"
    }
   ],
   "source": [
    "tv.RAYS"
   ]
  },
  {
   "cell_type": "code",
   "execution_count": 21,
   "id": "explicit-recovery",
   "metadata": {},
   "outputs": [
    {
     "data": {
      "text/html": [
       "$4$"
      ],
      "text/plain": [
       "4"
      ]
     },
     "execution_count": 21,
     "metadata": {},
     "output_type": "execute_result"
    }
   ],
   "source": [
    "size(tv.RAYS, 1)"
   ]
  },
  {
   "cell_type": "code",
   "execution_count": 24,
   "id": "cathedral-bangladesh",
   "metadata": {},
   "outputs": [
    {
     "data": {
      "text/plain": [
       "makeSmooth (generic function with 1 method)"
      ]
     },
     "execution_count": 24,
     "metadata": {},
     "output_type": "execute_result"
    }
   ],
   "source": [
    "function makeSmooth(X)\n",
    "    Y  = copy(X)\n",
    "    while(true)\n",
    "        coneList = Y.MAXIMAL_CONES\n",
    "        rayMatrix = Y.RAYS\n",
    "        k = 1\n",
    "        for cone in coneList\n",
    "            coneSet=coneListFormat(cone)\n",
    "            S=size(coneSet)[1]\n",
    "            coneRays=rowMinors(coneList,coneSet)\n",
    "            R=rank(coneRays)\n",
    "            smoothCheck=Polymake.fan.check_fan_objects(Polymake.polytope.Cone(RAYS=coneRays)).SMOOTH_FAN\n",
    "            if R != S  !smoothCheck\n",
    "                break\n",
    "            else\n",
    "                k+=1\n",
    "            end\n",
    "        end\n",
    "        if k == 0\n",
    "            break\n",
    "        end\n",
    "        sigma=coneListFormat(coneList[k])\n",
    "        for subset in powerset(sigma,min=2,max=length(sigma))\n",
    "            S=size(subset)[1]\n",
    "            subsetRays=rowMinors(coneList,subset)\n",
    "            R=rank(subsetRays)\n",
    "            smoothCheck=Polymake.fan.check_fan_objects(Polymake.polytope.Cone(Rays=subsetRays)).SMOOTH_FAN\n",
    "            if R != S  !smoothCheck\n",
    "                tau=subset\n",
    "                break\n",
    "            end\n",
    "        end\n",
    "    end\n",
    "end\n"
   ]
  },
  {
   "cell_type": "code",
   "execution_count": 25,
   "id": "friendly-composition",
   "metadata": {},
   "outputs": [
    {
     "ename": "LoadError",
     "evalue": "\u001b[91mno matching overloaded instance of Polymake::common::dense(Integer) at -e line 0.\u001b[39m\n\u001b[91m\teval {...} called at -e line 0\u001b[39m\n",
     "output_type": "error",
     "traceback": [
      "\u001b[91mno matching overloaded instance of Polymake::common::dense(Integer) at -e line 0.\u001b[39m\n\u001b[91m\teval {...} called at -e line 0\u001b[39m\n",
      "",
      "Stacktrace:",
      " [1] internal_call_function(::String, ::CxxWrap.StdLib.StdVectorAllocated{CxxWrap.StdLib.StdString}, ::Array{Any,1}) at /home/dhruvbhatia00/.julia/packages/CxxWrap/OcN1Z/src/CxxWrap.jl:618",
      " [2] #22 at /home/dhruvbhatia00/.julia/packages/Polymake/qeOTA/src/call_function.jl:20 [inlined]",
      " [3] disable_sigint at ./c.jl:446 [inlined]",
      " [4] call_function(::Type{Polymake.PropertyValue}, ::Symbol, ::Symbol, ::Bool; template_parameters::Array{String,1}, kwargs::Base.Iterators.Pairs{Union{},Union{},Tuple{},NamedTuple{(),Tuple{}}}) at /home/dhruvbhatia00/.julia/packages/Polymake/qeOTA/src/call_function.jl:19",
      " [5] #call_function#24 at /home/dhruvbhatia00/.julia/packages/Polymake/qeOTA/src/call_function.jl:27 [inlined]",
      " [6] dense at /home/dhruvbhatia00/.julia/packages/Polymake/qeOTA/src/meta.jl:291 [inlined]",
      " [7] dense at /home/dhruvbhatia00/.julia/packages/Polymake/qeOTA/src/meta.jl:291 [inlined]",
      " [8] coneListFormat(::Bool) at ./In[18]:3",
      " [9] makeSmooth(::Polymake.BigObjectAllocated) at ./In[24]:8",
      " [10] top-level scope at In[25]:1",
      " [11] include_string(::Function, ::Module, ::String, ::String) at ./loading.jl:1091"
     ]
    }
   ],
   "source": [
    "makeSmooth(tv)"
   ]
  },
  {
   "cell_type": "code",
   "execution_count": null,
   "id": "stupid-remedy",
   "metadata": {},
   "outputs": [],
   "source": []
  }
 ],
 "metadata": {
  "kernelspec": {
   "display_name": "Julia 1.5.3",
   "language": "julia",
   "name": "julia-1.5"
  },
  "language_info": {
   "file_extension": ".jl",
   "mimetype": "application/julia",
   "name": "julia",
   "version": "1.5.3"
  }
 },
 "nbformat": 4,
 "nbformat_minor": 5
}
