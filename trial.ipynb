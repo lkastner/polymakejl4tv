{
 "cells": [
  {
   "cell_type": "code",
   "execution_count": 2,
   "id": "solid-sterling",
   "metadata": {},
   "outputs": [
    {
     "name": "stdout",
     "output_type": "stream",
     "text": [
      " -----    -----    -----      -      -----   \n",
      "|     |  |     |  |     |    | |    |     |  \n",
      "|     |  |        |         |   |   |     |  \n",
      "|     |   -----   |        |     |  |-----   \n",
      "|     |        |  |        |-----|  |   |    \n",
      "|     |  |     |  |     |  |     |  |    |   \n",
      " -----    -----    -----   -     -  -     -  \n",
      "\n",
      "...combining (and extending) ANTIC, GAP, Polymake and Singular\n",
      "Version\u001b[32m 0.5.1 \u001b[39m... \n",
      " ... which comes with absolutely no warranty whatsoever\n",
      "Type: '?Oscar' for more information\n",
      "(c) 2019-2021 by The Oscar Development Team\n"
     ]
    }
   ],
   "source": [
    "using Oscar\n",
    "using Polymake"
   ]
  },
  {
   "cell_type": "code",
   "execution_count": 3,
   "id": "amber-entry",
   "metadata": {},
   "outputs": [
    {
     "data": {
      "text/html": [
       "<dl> <dt>type</dt><dd> NormalToricVariety</dd> </dl><details><summary>INPUT_CONES</summary><pre>{0 1}\n",
       "{1 2}\n",
       "{2 3}\n",
       "{0 3}</pre></details>\n",
       "<details><summary>INPUT_RAYS</summary><pre>0 1\n",
       "1 0\n",
       "0 -1\n",
       "-2 1</pre></details>"
      ],
      "text/plain": [
       "type: NormalToricVariety\n",
       "\n",
       "INPUT_CONES\n",
       "\t{0 1}\n",
       "\t{1 2}\n",
       "\t{2 3}\n",
       "\t{0 3}\n",
       "\n",
       "INPUT_RAYS\n",
       "\t0 1\n",
       "\t1 0\n",
       "\t0 -1\n",
       "\t-2 1\n"
      ]
     },
     "execution_count": 3,
     "metadata": {},
     "output_type": "execute_result"
    }
   ],
   "source": [
    "tv = fulton.NormalToricVariety(INPUT_RAYS=[0 1; 1 0; 0 -1; -2 1]; INPUT_CONES=[[0,1],[1,2],[2,3],[0,3]])"
   ]
  },
  {
   "cell_type": "code",
   "execution_count": 4,
   "id": "gothic-deviation",
   "metadata": {},
   "outputs": [
    {
     "data": {
      "text/html": [
       "<dl> <dt>type</dt><dd> Lattice<BasicDecoration, Nonsequential> as PolyhedralFan<Rational>::HASSE_DIAGRAM</dd> </dl><details><summary>ADJACENCY</summary><pre>{}\n",
       "{0}\n",
       "{0}\n",
       "{0}\n",
       "{0}\n",
       "{1 4}\n",
       "{1 2}\n",
       "{2 3}\n",
       "{3 4}\n",
       "{5 6 7 8}</pre></details>\n",
       "<details><summary>BOTTOM_NODE</summary><pre>9</pre></details>\n",
       "<details><summary>DECORATION</summary><pre>({-1} 3)\n",
       "({0 1} 2)\n",
       "({1 2} 2)\n",
       "({2 3} 2)\n",
       "({0 3} 2)\n",
       "({0} 1)\n",
       "({1} 1)\n",
       "({2} 1)\n",
       "({3} 1)\n",
       "({} 0)</pre></details>\n",
       "<details><summary>INVERSE_RANK_MAP</summary><pre>{(0 {9}) (1 {5 6 7 8}) (2 {1 2 3 4}) (3 {0})}</pre></details>\n",
       "<details><summary>TOP_NODE</summary><pre>0</pre></details>"
      ],
      "text/plain": [
       "type: Lattice<BasicDecoration, Nonsequential> as PolyhedralFan<Rational>::HASSE_DIAGRAM\n",
       "\n",
       "ADJACENCY\n",
       "\t{}\n",
       "\t{0}\n",
       "\t{0}\n",
       "\t{0}\n",
       "\t{0}\n",
       "\t{1 4}\n",
       "\t{1 2}\n",
       "\t{2 3}\n",
       "\t{3 4}\n",
       "\t{5 6 7 8}\n",
       "\n",
       "BOTTOM_NODE\n",
       "\t9\n",
       "\n",
       "DECORATION\n",
       "\t({-1} 3)\n",
       "\t({0 1} 2)\n",
       "\t({1 2} 2)\n",
       "\t({2 3} 2)\n",
       "\t({0 3} 2)\n",
       "\t({0} 1)\n",
       "\t({1} 1)\n",
       "\t({2} 1)\n",
       "\t({3} 1)\n",
       "\t({} 0)\n",
       "\n",
       "INVERSE_RANK_MAP\n",
       "\t{(0 {9}) (1 {5 6 7 8}) (2 {1 2 3 4}) (3 {0})}\n",
       "\n",
       "TOP_NODE\n",
       "\t0\n"
      ]
     },
     "execution_count": 4,
     "metadata": {},
     "output_type": "execute_result"
    }
   ],
   "source": [
    "lattice = tv.HASSE_DIAGRAM"
   ]
  },
  {
   "cell_type": "code",
   "execution_count": 5,
   "id": "vocal-pitch",
   "metadata": {},
   "outputs": [
    {
     "data": {
      "text/plain": [
       "pm::Array<pm::Set<long, pm::operations::cmp>>\n",
       "{-1}\n",
       "{0 1}\n",
       "{1 2}\n",
       "{2 3}\n",
       "{0 3}\n",
       "{0}\n",
       "{1}\n",
       "{2}\n",
       "{3}\n",
       "{}\n"
      ]
     },
     "execution_count": 5,
     "metadata": {},
     "output_type": "execute_result"
    }
   ],
   "source": [
    "faces = @Polymake.convert_to Array{Set{Int}} lattice.FACES"
   ]
  },
  {
   "cell_type": "code",
   "execution_count": 6,
   "id": "standing-profession",
   "metadata": {},
   "outputs": [
    {
     "data": {
      "text/plain": [
       "pm::Array<long>\n",
       "1 2 3 4"
      ]
     },
     "execution_count": 6,
     "metadata": {},
     "output_type": "execute_result"
    }
   ],
   "source": [
    "rk2 = @Polymake.convert_to Array{Int} Polymake.graph.nodes_of_rank(lattice,2)"
   ]
  },
  {
   "cell_type": "code",
   "execution_count": 8,
   "id": "appreciated-society",
   "metadata": {},
   "outputs": [
    {
     "data": {
      "text/plain": [
       "4-element Array{Polymake.SetAllocated{Int64},1}:\n",
       " pm::Set<long, pm::operations::cmp>\n",
       "{0 1}\n",
       " pm::Set<long, pm::operations::cmp>\n",
       "{1 2}\n",
       " pm::Set<long, pm::operations::cmp>\n",
       "{2 3}\n",
       " pm::Set<long, pm::operations::cmp>\n",
       "{0 3}"
      ]
     },
     "execution_count": 8,
     "metadata": {},
     "output_type": "execute_result"
    }
   ],
   "source": [
    "[faces[i+1] for i in rk2]"
   ]
  },
  {
   "cell_type": "code",
   "execution_count": null,
   "id": "conventional-dublin",
   "metadata": {},
   "outputs": [],
   "source": []
  }
 ],
 "metadata": {
  "kernelspec": {
   "display_name": "Julia 1.5.3",
   "language": "julia",
   "name": "julia-1.5"
  },
  "language_info": {
   "file_extension": ".jl",
   "mimetype": "application/julia",
   "name": "julia",
   "version": "1.5.3"
  }
 },
 "nbformat": 4,
 "nbformat_minor": 5
}
