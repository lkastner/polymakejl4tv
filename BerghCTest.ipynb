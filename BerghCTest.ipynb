{
 "cells": [
  {
   "cell_type": "code",
   "execution_count": 3,
   "id": "721c1af3-15de-4177-81f2-a9dd411a54bc",
   "metadata": {},
   "outputs": [
    {
     "data": {
      "text/plain": [
       "BerghC"
      ]
     },
     "execution_count": 3,
     "metadata": {},
     "output_type": "execute_result"
    }
   ],
   "source": [
    "include(\"AlgC.jl\")"
   ]
  },
  {
   "cell_type": "code",
   "execution_count": 7,
   "id": "36ff72a0-f1d7-4a79-bd1d-d360de6f6a8c",
   "metadata": {},
   "outputs": [
    {
     "data": {
      "text/html": [
       "$2$"
      ],
      "text/plain": [
       "2"
      ]
     },
     "execution_count": 7,
     "metadata": {},
     "output_type": "execute_result"
    }
   ],
   "source": [
    "F=makeStackyFan([1 0 0; 0 1 0; 1 0 2],[[0,1,2]],[1,2,1]);\n",
    "\n",
    "div=Dict([1,0,0]=>0,[0,1,0]=>0,[1,0,2]=>1);\n",
    "    \n",
    "toroidalIndex([1,2,3],F,div)"
   ]
  },
  {
   "cell_type": "code",
   "execution_count": 112,
   "id": "0f5d6c26-6361-4d3e-aba1-4a1a416dce5c",
   "metadata": {},
   "outputs": [
    {
     "data": {
      "text/plain": [
       "Dict{Vector{Int64}, Int64} with 3 entries:\n",
       "  [1, 1, 0] => 0\n",
       "  [3, 0, 1] => 0\n",
       "  [1, 3, 0] => 0"
      ]
     },
     "execution_count": 112,
     "metadata": {},
     "output_type": "execute_result"
    }
   ],
   "source": [
    "F=makeStackyFan([1 1 0;1 3 0; 3 0 1],[[0,1,2]],[1,1,5])\n",
    "div=Dict([1,1,0]=>0,[1,3,0]=>0,[3,0,1]=>0)"
   ]
  },
  {
   "cell_type": "code",
   "execution_count": 113,
   "id": "76d2f051-453f-4e3d-84a5-fc979a707d65",
   "metadata": {},
   "outputs": [
    {
     "data": {
      "text/html": [
       "[[$1$, $2$, $3$]]"
      ],
      "text/plain": [
       "1-element Vector{Vector{Int64}}:\n",
       " [1, 2, 3]"
      ]
     },
     "execution_count": 113,
     "metadata": {},
     "output_type": "execute_result"
    }
   ],
   "source": [
    "minMaxDivisorial(F,div)"
   ]
  },
  {
   "cell_type": "code",
   "execution_count": null,
   "id": "d73e2918-4108-4a6c-a30e-7d9adb4cbbf5",
   "metadata": {},
   "outputs": [],
   "source": []
  },
  {
   "cell_type": "code",
   "execution_count": 55,
   "id": "87841eda-0cc4-4dba-a11b-2afe22f7d258",
   "metadata": {},
   "outputs": [
    {
     "data": {
      "text/html": [
       "[$3$]"
      ],
      "text/plain": [
       "1-element Vector{Int64}:\n",
       " 3"
      ]
     },
     "execution_count": 55,
     "metadata": {},
     "output_type": "execute_result"
    }
   ],
   "source": [
    "indices=Int64[]\n",
    "push!(indices,findall(x->x==5,[1,2,5,7])[1])"
   ]
  },
  {
   "cell_type": "code",
   "execution_count": null,
   "id": "6e3d470d-a024-4147-9d69-c38d209cecf2",
   "metadata": {},
   "outputs": [],
   "source": []
  }
 ],
 "metadata": {
  "kernelspec": {
   "display_name": "Julia 1.6.1",
   "language": "julia",
   "name": "julia-1.6"
  },
  "language_info": {
   "file_extension": ".jl",
   "mimetype": "application/julia",
   "name": "julia",
   "version": "1.6.1"
  }
 },
 "nbformat": 4,
 "nbformat_minor": 5
}
