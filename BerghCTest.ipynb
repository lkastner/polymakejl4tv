{
 "cells": [
  {
   "cell_type": "code",
   "execution_count": 90,
   "id": "721c1af3-15de-4177-81f2-a9dd411a54bc",
   "metadata": {},
   "outputs": [
    {
     "data": {
      "text/plain": [
       "independencyIndex"
      ]
     },
     "execution_count": 90,
     "metadata": {},
     "output_type": "execute_result"
    }
   ],
   "source": [
    "include(\"AlgC.jl\")"
   ]
  },
  {
   "cell_type": "code",
   "execution_count": 91,
   "id": "36ff72a0-f1d7-4a79-bd1d-d360de6f6a8c",
   "metadata": {},
   "outputs": [
    {
     "data": {
      "text/plain": [
       "isRelevant (generic function with 1 method)"
      ]
     },
     "execution_count": 91,
     "metadata": {},
     "output_type": "execute_result"
    }
   ],
   "source": [
    "\"\"\"\n",
    "    isRelevant(::Array{Int64,1},::Array{Int64,1},::StackyFan)\n",
    "\n",
    "    Determines if the given ray, relative to the given cone, either has a stacky value greater than 1 or is not independent.\n",
    "\n",
    "# Examples\n",
    "```jldoctest AlgC\n",
    "julia> F=makeStackyFan([1 0 0; 1 2 0; 0 0 1],[[0,1,2]],[1,1,2]);\n",
    "\n",
    "julia> isRelevant([1,2,0],[1,2,3],F)\n",
    "true\n",
    "\n",
    "julia> F=makeStackyFan([1 0 0; 0 1 0; 0 0 1],[[0,1,2]],[1,1,2]);\n",
    "\n",
    "julia> isRelevant([0,1,0],[1,2,3],F)\n",
    "false\n",
    "\"\"\"\n",
    "function isRelevant(ray::Array{Int64,1},cone::Array{Int64,1},F::StackyFan)\n",
    "    rayMatrix=convert(Array{Int64,2},Array(Polymake.common.primitive(F.fan.RAYS)))\n",
    "    rayStack=F.stacks[encode(ray)]\n",
    "    rayIndex=getIndex(ray,rayMatrix)\n",
    "    rayIndependent=isIndependent(rayIndex,cone,rayMatrix)\n",
    "    if rayStack != 1 || rayIndependent == false\n",
    "        return true\n",
    "    else\n",
    "        return false\n",
    "    end\n",
    "end"
   ]
  },
  {
   "cell_type": "code",
   "execution_count": 98,
   "id": "0f5d6c26-6361-4d3e-aba1-4a1a416dce5c",
   "metadata": {},
   "outputs": [
    {
     "data": {
      "text/html": [
       "true"
      ],
      "text/plain": [
       "true"
      ]
     },
     "execution_count": 98,
     "metadata": {},
     "output_type": "execute_result"
    }
   ],
   "source": [
    "F=makeStackyFan([1 0 0; 1 2 0; 0 0 1],[[0,1,2]],[1,1,2])\n",
    "isRelevant([1,2,0],[1,2,3],F)"
   ]
  },
  {
   "cell_type": "code",
   "execution_count": null,
   "id": "76d2f051-453f-4e3d-84a5-fc979a707d65",
   "metadata": {},
   "outputs": [],
   "source": []
  },
  {
   "cell_type": "code",
   "execution_count": null,
   "id": "d73e2918-4108-4a6c-a30e-7d9adb4cbbf5",
   "metadata": {},
   "outputs": [],
   "source": []
  },
  {
   "cell_type": "code",
   "execution_count": 89,
   "id": "87841eda-0cc4-4dba-a11b-2afe22f7d258",
   "metadata": {},
   "outputs": [
    {
     "data": {
      "text/html": [
       "$1$"
      ],
      "text/latex": [
       "1"
      ],
      "text/plain": [
       "1"
      ]
     },
     "execution_count": 89,
     "metadata": {},
     "output_type": "execute_result"
    }
   ],
   "source": [
    "coneMultiplicity(C)"
   ]
  },
  {
   "cell_type": "code",
   "execution_count": null,
   "id": "6e3d470d-a024-4147-9d69-c38d209cecf2",
   "metadata": {},
   "outputs": [],
   "source": []
  }
 ],
 "metadata": {
  "kernelspec": {
   "display_name": "Julia 1.6.1",
   "language": "julia",
   "name": "julia-1.6"
  },
  "language_info": {
   "file_extension": ".jl",
   "mimetype": "application/julia",
   "name": "julia",
   "version": "1.6.1"
  }
 },
 "nbformat": 4,
 "nbformat_minor": 5
}
