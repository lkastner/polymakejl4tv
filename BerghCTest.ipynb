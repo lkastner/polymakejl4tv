{
 "cells": [
  {
   "cell_type": "code",
   "execution_count": 84,
   "id": "721c1af3-15de-4177-81f2-a9dd411a54bc",
   "metadata": {},
   "outputs": [
    {
     "data": {
      "text/plain": [
       "BerghC (generic function with 2 methods)"
      ]
     },
     "execution_count": 84,
     "metadata": {},
     "output_type": "execute_result"
    }
   ],
   "source": [
    "include(\"AlgC.jl\")"
   ]
  },
  {
   "cell_type": "code",
   "execution_count": 85,
   "id": "36ff72a0-f1d7-4a79-bd1d-d360de6f6a8c",
   "metadata": {},
   "outputs": [
    {
     "data": {
      "text/html": [
       "[[$1$, $2$, $3$]]"
      ],
      "text/plain": [
       "1-element Vector{Vector{Int64}}:\n",
       " [1, 2, 3]"
      ]
     },
     "execution_count": 85,
     "metadata": {},
     "output_type": "execute_result"
    }
   ],
   "source": [
    "minMaxDivisorial(F,[0,0,0])"
   ]
  },
  {
   "cell_type": "code",
   "execution_count": 86,
   "id": "0f5d6c26-6361-4d3e-aba1-4a1a416dce5c",
   "metadata": {},
   "outputs": [
    {
     "data": {
      "text/plain": [
       "StackyFan(Polymake.BigObjectAllocated(Ptr{Nothing} @0x000000001b4b3a70), Dict(\"0,0,1\" => 2, \"1,3,0\" => 1, \"1,0,0\" => 1))"
      ]
     },
     "execution_count": 86,
     "metadata": {},
     "output_type": "execute_result"
    }
   ],
   "source": [
    "F=makeStackyFan([1 0 0; 1 3 0; 0 0 1],[[0,1,2]],[1,1,2])"
   ]
  },
  {
   "cell_type": "code",
   "execution_count": 87,
   "id": "76d2f051-453f-4e3d-84a5-fc979a707d65",
   "metadata": {},
   "outputs": [
    {
     "data": {
      "text/plain": [
       "StackyFan(Polymake.BigObjectAllocated(Ptr{Nothing} @0x000000001ad5ac10), Dict(\"2,3,2\" => 1, \"0,0,1\" => 2, \"1,3,0\" => 1, \"1,0,0\" => 1))"
      ]
     },
     "execution_count": 87,
     "metadata": {},
     "output_type": "execute_result"
    }
   ],
   "source": [
    "BerghC(F,[0,0,0])"
   ]
  },
  {
   "cell_type": "code",
   "execution_count": 52,
   "id": "d73e2918-4108-4a6c-a30e-7d9adb4cbbf5",
   "metadata": {},
   "outputs": [
    {
     "data": {
      "text/html": [
       "$3$"
      ],
      "text/plain": [
       "3"
      ]
     },
     "execution_count": 52,
     "metadata": {},
     "output_type": "execute_result"
    }
   ],
   "source": [
    "findall(x->x==5,[1,2,5,6])[1]"
   ]
  },
  {
   "cell_type": "code",
   "execution_count": 55,
   "id": "87841eda-0cc4-4dba-a11b-2afe22f7d258",
   "metadata": {},
   "outputs": [
    {
     "data": {
      "text/html": [
       "[$3$]"
      ],
      "text/plain": [
       "1-element Vector{Int64}:\n",
       " 3"
      ]
     },
     "execution_count": 55,
     "metadata": {},
     "output_type": "execute_result"
    }
   ],
   "source": [
    "indices=Int64[]\n",
    "push!(indices,findall(x->x==5,[1,2,5,7])[1])"
   ]
  },
  {
   "cell_type": "code",
   "execution_count": null,
   "id": "6e3d470d-a024-4147-9d69-c38d209cecf2",
   "metadata": {},
   "outputs": [],
   "source": []
  }
 ],
 "metadata": {
  "kernelspec": {
   "display_name": "Julia 1.6.1",
   "language": "julia",
   "name": "julia-1.6"
  },
  "language_info": {
   "file_extension": ".jl",
   "mimetype": "application/julia",
   "name": "julia",
   "version": "1.6.1"
  }
 },
 "nbformat": 4,
 "nbformat_minor": 5
}
