{
 "cells": [
  {
   "cell_type": "code",
   "execution_count": 4,
   "id": "amino-gospel",
   "metadata": {},
   "outputs": [],
   "source": [
    "using Oscar"
   ]
  },
  {
   "cell_type": "code",
   "execution_count": 5,
   "id": "connected-lunch",
   "metadata": {},
   "outputs": [
    {
     "data": {
      "text/plain": [
       "isIndependent (generic function with 1 method)"
      ]
     },
     "execution_count": 5,
     "metadata": {},
     "output_type": "execute_result"
    }
   ],
   "source": [
    "function isIndependent(C,r)\n",
    "    rayMatrix=Array(C.RAYS)\n",
    "    Rb=rank(rayMatrix)\n",
    "    augMatrix=vcat(rayMatrix,r)\n",
    "    Ra=rank(augMatrix)\n",
    "    if Ra>Rb\n",
    "        return true\n",
    "    else\n",
    "        return false\n",
    "    end\n",
    "end"
   ]
  },
  {
   "cell_type": "code",
   "execution_count": 13,
   "id": "royal-alliance",
   "metadata": {},
   "outputs": [
    {
     "data": {
      "text/html": [
       "<dl> <dt>type</dt><dd> Cone<Rational></dd> </dl><details><summary>RAYS</summary><pre>1 1 0\n",
       "1 0 1</pre></details>"
      ],
      "text/plain": [
       "type: Cone<Rational>\n",
       "\n",
       "RAYS\n",
       "\t1 1 0\n",
       "\t1 0 1\n"
      ]
     },
     "execution_count": 13,
     "metadata": {},
     "output_type": "execute_result"
    }
   ],
   "source": [
    "C=Polymake.polytope.Cone(RAYS=[1 1 0; 1 0 1])"
   ]
  },
  {
   "cell_type": "code",
   "execution_count": 14,
   "id": "later-nashville",
   "metadata": {},
   "outputs": [
    {
     "data": {
      "text/html": [
       "true"
      ],
      "text/plain": [
       "true"
      ]
     },
     "execution_count": 14,
     "metadata": {},
     "output_type": "execute_result"
    }
   ],
   "source": [
    "isIndependent(C,[1 1 1])"
   ]
  },
  {
   "cell_type": "code",
   "execution_count": null,
   "id": "imperial-helen",
   "metadata": {},
   "outputs": [],
   "source": []
  },
  {
   "cell_type": "code",
   "execution_count": null,
   "id": "trained-leeds",
   "metadata": {},
   "outputs": [],
   "source": []
  }
 ],
 "metadata": {
  "kernelspec": {
   "display_name": "Julia 1.6.1",
   "language": "julia",
   "name": "julia-1.6"
  },
  "language_info": {
   "file_extension": ".jl",
   "mimetype": "application/julia",
   "name": "julia",
   "version": "1.6.1"
  }
 },
 "nbformat": 4,
 "nbformat_minor": 5
}
