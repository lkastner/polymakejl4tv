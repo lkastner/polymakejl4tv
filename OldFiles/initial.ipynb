{
 "cells": [
  {
   "cell_type": "code",
   "execution_count": null,
   "metadata": {},
   "outputs": [],
   "source": [
    "import Pkg\n",
    "Pkg.add(\"Polymake\")\n",
    "Pkg.add(\"Oscar\")"
   ]
  },
  {
   "cell_type": "code",
   "execution_count": null,
   "metadata": {},
   "outputs": [],
   "source": [
    "using Polymake\n",
    "using Oscar"
   ]
  },
  {
   "cell_type": "markdown",
   "metadata": {},
   "source": [
    "# Representation conversion\n",
    "There are several different types of properties of objects in polymake. The first big distiction is between input properties, these are the ones that the user is supposed to use for inputing data with 'imperfections', like redundant rays, points that aren't vertices, etc., and computed properties. The user may specify any property, but if for example 'VERTICES' are given instead of 'POINTS', then polymake will assume that any redundancies have been eliminated."
   ]
  },
  {
   "cell_type": "markdown",
   "metadata": {},
   "source": [
    "## Cones"
   ]
  },
  {
   "cell_type": "markdown",
   "metadata": {},
   "source": [
    "### In Oscar.jl"
   ]
  },
  {
   "cell_type": "code",
   "execution_count": null,
   "metadata": {},
   "outputs": [],
   "source": [
    "pts = [0 0; 1 0; 0 1; 1 1]\n",
    "\n",
    "square = convex_hull(pts)\n",
    "println(\"#vertices of square: \",n_vertices(square))\n",
    "println(\"Vertices of square: \",vertices(square; as = :point_matrix))"
   ]
  },
  {
   "cell_type": "code",
   "execution_count": null,
   "metadata": {},
   "outputs": [],
   "source": [
    "ray = [1 1]\n",
    "square_with_tail = convex_hull(pts, ray)\n",
    "rc = recession_cone(square_with_tail)\n",
    "println(\"#vertices of square with recession cone: \",n_vertices(square_with_tail))\n",
    "println(\"Vertices of square with recession cone: \",vertices(square_with_tail; as = :point_matrix))\n",
    "println(\"Rays of square with rc: \",rays(square_with_tail; as = :point_matrix))"
   ]
  },
  {
   "cell_type": "markdown",
   "metadata": {},
   "source": [
    "### In polymake.jl"
   ]
  },
  {
   "cell_type": "markdown",
   "metadata": {},
   "source": [
    "The input properties and their corresponding computed counterparts are:\n",
    "  - (INPUT_RAYS,INPUT_LINEALITY) and (RAYS, LINEALITY_SPACE)\n",
    "  - (INEQUALITIES, EQUATIONS) and (FACETS, LINEAR_SPAN)\n",
    "  \n",
    "The different elements are always rows of the corresponding matrices and the convention is that facets evaluate $\\ge 0$ with rays."
   ]
  },
  {
   "cell_type": "markdown",
   "metadata": {},
   "source": [
    "Some examples with cones."
   ]
  },
  {
   "cell_type": "code",
   "execution_count": null,
   "metadata": {},
   "outputs": [],
   "source": [
    "C0 = polytope.Cone(INPUT_RAYS=[0 1; 2 1])"
   ]
  },
  {
   "cell_type": "code",
   "execution_count": null,
   "metadata": {},
   "outputs": [],
   "source": [
    "print(C0.FACETS)"
   ]
  },
  {
   "cell_type": "code",
   "execution_count": null,
   "metadata": {},
   "outputs": [],
   "source": [
    "C1 = polytope.Cone(INEQUALITIES=[1 0], EQUATIONS=[0 1])\n",
    "print(C1.RAYS)"
   ]
  },
  {
   "cell_type": "markdown",
   "metadata": {},
   "source": [
    "## Polytopes\n",
    "Polytopes are always given in homogenized form, that means that a 2-dim polytope will have three coordinates. This comes from internally considering it as the intersection of a cone with the hyperplane $[x_0=1]$.\n",
    "\n",
    "A polytope has three parts in the V-representation, since the infinite part can be subdivided into rays and lineality here. Nevertheless we only have the following representations:\n",
    "  - (POINTS, INPUT_LINEALITY) and (VERTICES, LINEALITY_SPACE)\n",
    "  - (INEQUALITIES, EQUATIONS) and (FACETS, AFFINE_HULL)\n",
    "  \n",
    "This is due to the fact that rays will show up as vertices with leading coordinate zero."
   ]
  },
  {
   "cell_type": "code",
   "execution_count": null,
   "metadata": {},
   "outputs": [],
   "source": [
    "square = polytope.Polytope(POINTS=[1 0 0; 1 1 0; 1 0 1; 1 1 1])\n",
    "print(square.FACETS)"
   ]
  },
  {
   "cell_type": "code",
   "execution_count": null,
   "metadata": {},
   "outputs": [],
   "source": [
    "entire = polytope.Polytope(INEQUALITIES=[1 0 0])\n",
    "print(entire.VERTICES)\n",
    "print(entire.LINEALITY_SPACE)"
   ]
  },
  {
   "cell_type": "markdown",
   "metadata": {},
   "source": [
    "# Lattice points of polytopes\n",
    "The easiest way is just to ask for 'LATTICE_POINTS_GENERATORS'. The following gives the 3dim cube $[0,2]^3$. The answer will be a triple of matrices, but lets consider these as three sets $S_0,S_1,S_2$ of their row vectors. Then every lattice point in a polyhedron can be written as\n",
    "$$s_0+\\mathbb{Z}_{\\ge 0}s_1+\\mathbb{Z}s_2,\\quad s_i\\in S_i$$"
   ]
  },
  {
   "cell_type": "code",
   "execution_count": null,
   "metadata": {},
   "outputs": [],
   "source": [
    "cube = polytope.cube(3,2,0)\n",
    "print(cube.LATTICE_POINTS_GENERATORS)"
   ]
  },
  {
   "cell_type": "markdown",
   "metadata": {},
   "source": [
    "# Polyhedral fans in polymake"
   ]
  },
  {
   "cell_type": "markdown",
   "metadata": {},
   "source": [
    "# Toric varieties in polymake\n",
    "For some reason, polymake.jl needs the cone indices counted from 0 (instead of julia convention counting from 1). I will investigate this."
   ]
  },
  {
   "cell_type": "code",
   "execution_count": 1,
   "metadata": {},
   "outputs": [
    {
     "ename": "LoadError",
     "evalue": "\u001b[91mUndefVarError: fulton not defined\u001b[39m",
     "output_type": "error",
     "traceback": [
      "\u001b[91mUndefVarError: fulton not defined\u001b[39m",
      "",
      "Stacktrace:",
      " [1] top-level scope at In[1]:1",
      " [2] include_string(::Function, ::Module, ::String, ::String) at ./loading.jl:1091"
     ]
    }
   ],
   "source": [
    "tv = fulton.NormalToricVariety(INPUT_RAYS=[0 1; 1 0; 0 -1; -2 1]; INPUT_CONES=[[0,1],[1,2],[2,3],[0,3]])"
   ]
  },
  {
   "cell_type": "code",
   "execution_count": null,
   "metadata": {},
   "outputs": [],
   "source": [
    "print(tv.SMOOTH)"
   ]
  },
  {
   "cell_type": "code",
   "execution_count": null,
   "metadata": {},
   "outputs": [],
   "source": [
    "print(tv.COMPLETE)"
   ]
  },
  {
   "cell_type": "code",
   "execution_count": null,
   "metadata": {},
   "outputs": [],
   "source": [
    "print(tv.REGULAR)"
   ]
  },
  {
   "cell_type": "code",
   "execution_count": null,
   "metadata": {},
   "outputs": [],
   "source": []
  }
 ],
 "metadata": {
  "kernelspec": {
   "display_name": "Julia 1.5.3",
   "language": "julia",
   "name": "julia-1.5"
  },
  "language_info": {
   "file_extension": ".jl",
   "mimetype": "application/julia",
   "name": "julia",
   "version": "1.5.3"
  }
 },
 "nbformat": 4,
 "nbformat_minor": 4
}
