{
 "cells": [
  {
   "cell_type": "code",
   "execution_count": 10,
   "id": "established-economy",
   "metadata": {},
   "outputs": [
    {
     "name": "stderr",
     "output_type": "stream",
     "text": [
      "\u001b[32m\u001b[1m   Resolving\u001b[22m\u001b[39m package versions...\n",
      "\u001b[32m\u001b[1m  No Changes\u001b[22m\u001b[39m to `~/.julia/environments/v1.6/Project.toml`\n",
      "\u001b[32m\u001b[1m  No Changes\u001b[22m\u001b[39m to `~/.julia/environments/v1.6/Manifest.toml`\n",
      "\u001b[32m\u001b[1m   Resolving\u001b[22m\u001b[39m package versions...\n",
      "\u001b[32m\u001b[1m  No Changes\u001b[22m\u001b[39m to `~/.julia/environments/v1.6/Project.toml`\n",
      "\u001b[32m\u001b[1m  No Changes\u001b[22m\u001b[39m to `~/.julia/environments/v1.6/Manifest.toml`\n",
      "\u001b[32m\u001b[1m   Resolving\u001b[22m\u001b[39m package versions...\n",
      "\u001b[32m\u001b[1m  No Changes\u001b[22m\u001b[39m to `~/.julia/environments/v1.6/Project.toml`\n",
      "\u001b[32m\u001b[1m  No Changes\u001b[22m\u001b[39m to `~/.julia/environments/v1.6/Manifest.toml`\n"
     ]
    }
   ],
   "source": [
    "import Pkg\n",
    "Pkg.add(\"Oscar\")\n",
    "Pkg.add(\"Nemo\")\n",
    "Pkg.add(\"Polymake\")"
   ]
  },
  {
   "cell_type": "code",
   "execution_count": 1,
   "id": "published-reproduction",
   "metadata": {},
   "outputs": [
    {
     "name": "stderr",
     "output_type": "stream",
     "text": [
      "┌ Info: Precompiling Oscar [f1435218-dba5-11e9-1e4d-f1a5fab5fc13]\n",
      "└ @ Base loading.jl:1278\n",
      "[ Info: Regenerating 4ti2 wrappers in /home/dhruvbhatia00/.julia/packages/Singular/YZhEU/bin/v1.5\n",
      "[ Info: Regenerating /home/dhruvbhatia00/.julia/packages/Singular/YZhEU/src/libraryfuncdictionary.jl\n",
      "[ Info: Generating module common\n",
      "[ Info: Generating module ideal\n",
      "[ Info: Generating module graph\n",
      "[ Info: Generating module fulton\n",
      "[ Info: Generating module fan\n",
      "[ Info: Generating module group\n",
      "[ Info: Generating module polytope\n",
      "[ Info: Generating module topaz\n",
      "[ Info: Generating module tropical\n",
      "[ Info: Generating module matroid\n"
     ]
    },
    {
     "ename": "LoadError",
     "evalue": "InitError: \u001b[91mIOError: could not spawn `jupyter kernelspec list --json`: no such file or directory (ENOENT)\u001b[39m\nduring initialization of module Polymake",
     "output_type": "error",
     "traceback": [
      "InitError: \u001b[91mIOError: could not spawn `jupyter kernelspec list --json`: no such file or directory (ENOENT)\u001b[39m\nduring initialization of module Polymake",
      "",
      "Stacktrace:",
      " [1] _spawn_primitive(::String, ::Cmd, ::Array{Any,1}) at ./process.jl:99",
      " [2] #585 at ./process.jl:112 [inlined]",
      " [3] setup_stdios(::Base.var\"#585#586\"{Cmd}, ::Array{Any,1}) at ./process.jl:196",
      " [4] _spawn at ./process.jl:111 [inlined]",
      " [5] open(::Cmd, ::Base.DevNull; write::Bool, read::Bool) at ./process.jl:370",
      " [6] open at ./process.jl:361 [inlined]",
      " [7] open(::Cmd, ::String, ::Base.DevNull) at ./process.jl:341",
      " [8] read(::Cmd) at ./process.jl:410",
      " [9] read(::Cmd, ::Type{String}) at ./process.jl:421",
      " [10] prepare_jupyter_kernel_for_visualization() at /home/dhruvbhatia00/.julia/packages/Polymake/qeOTA/src/ijulia.jl:26",
      " [11] __init__() at /home/dhruvbhatia00/.julia/packages/Polymake/qeOTA/src/Polymake.jl:141",
      " [12] _include_from_serialized(::String, ::Array{Any,1}) at ./loading.jl:697",
      " [13] _require_search_from_serialized(::Base.PkgId, ::String) at ./loading.jl:782",
      " [14] _tryrequire_from_serialized(::Base.PkgId, ::UInt64, ::Nothing) at ./loading.jl:712",
      " [15] _require_from_serialized(::String) at ./loading.jl:744",
      " [16] _require(::Base.PkgId) at ./loading.jl:1040",
      " [17] require(::Base.PkgId) at ./loading.jl:928",
      " [18] require(::Module, ::Symbol) at ./loading.jl:923",
      " [19] include_string(::Function, ::Module, ::String, ::String) at ./loading.jl:1091"
     ]
    }
   ],
   "source": [
    "using Oscar\n",
    "using Nemo\n",
    "using Polymake"
   ]
  },
  {
   "cell_type": "code",
   "execution_count": 248,
   "id": "working-trial",
   "metadata": {},
   "outputs": [
    {
     "data": {
      "text/plain": [
       "coneMultiplicity (generic function with 1 method)"
      ]
     },
     "execution_count": 248,
     "metadata": {},
     "output_type": "execute_result"
    }
   ],
   "source": [
    "function coneMultiplicity(a,b)\n",
    "    return dot(a, [1,1,1,1])\n",
    "end"
   ]
  },
  {
   "cell_type": "code",
   "execution_count": 252,
   "id": "familiar-cookbook",
   "metadata": {},
   "outputs": [
    {
     "data": {
      "text/plain": [
       "compareCones (generic function with 1 method)"
      ]
     },
     "execution_count": 252,
     "metadata": {},
     "output_type": "execute_result"
    }
   ],
   "source": [
    "function compareCones(cone1, cone2, rayMatrix, distinguished)\n",
    "    # Calculate the number of non-distinguished rays\n",
    "    nondist1 = count(cone1) - dot(cone1, distinguished)\n",
    "    nondist2 = count(cone2) - dot(cone2, distinguished)\n",
    "    if (nondist1 - nondist2 != 0)\n",
    "        return nondist1 - nondist2\n",
    "    else\n",
    "        # Need to use the method for calculating multiplicity of cone\n",
    "        mult1 = coneMultiplicity(cone1, rayMatrix)\n",
    "        mult2 = coneMultiplicity(cone2, rayMatrix)\n",
    "        return mult1 - mult2\n",
    "    end\n",
    "end"
   ]
  },
  {
   "cell_type": "code",
   "execution_count": 253,
   "id": "sharing-mother",
   "metadata": {},
   "outputs": [
    {
     "data": {
      "text/plain": [
       "maximalCones (generic function with 2 methods)"
      ]
     },
     "execution_count": 253,
     "metadata": {},
     "output_type": "execute_result"
    }
   ],
   "source": [
    "function extremalCones(coneList, rayMatrix, distinguished)\n",
    "    # Finds the extremal cones according to # distinguished rays and multiplicity\n",
    "    # distinguished is a boolean vector whose size is equal to the number of rays\n",
    "    # The i-th index is 1 if the i-th ray (in rayMatrix) is distinguished\n",
    "    maxCones = [coneList[1,:]]\n",
    "    for i in 1:size(coneList,1)\n",
    "        cone = coneList[i,:]\n",
    "        # Compare the cone with the first element of the maximal cone list\n",
    "        comp = compareCones(cone, maxCones[1], rayMatrix, distinguished)\n",
    "        if (comp > 0)\n",
    "            maxCones = [cone]\n",
    "        elseif (comp == 0)\n",
    "            push!(maxCones, cone)\n",
    "        end\n",
    "    end\n",
    "    return maxCones\n",
    "end"
   ]
  },
  {
   "cell_type": "code",
   "execution_count": 254,
   "id": "ahead-wisdom",
   "metadata": {
    "scrolled": true
   },
   "outputs": [
    {
     "data": {
      "text/plain": [
       "2-element Vector{BitVector}:\n",
       " [1, 1, 0, 0]\n",
       " [0, 1, 1, 0]"
      ]
     },
     "execution_count": 254,
     "metadata": {},
     "output_type": "execute_result"
    }
   ],
   "source": [
    "maximalCones(coneList, rayMatrix, Bool[0,0,0,1])"
   ]
  },
  {
   "cell_type": "code",
   "execution_count": 14,
   "id": "north-backing",
   "metadata": {
    "scrolled": true
   },
   "outputs": [
    {
     "data": {
      "text/html": [
       "($3$, $\\begin{bmatrix}758890&-93990&-12\\\\\n",
       "316184&-39160&-5\\\\\n",
       "948503&-117474&-15\\\\\n",
       "-632263&78307&10\\\\\n",
       "-147&18&0\\\\\n",
       "1&0&0\\end{bmatrix}$)"
      ],
      "text/plain": [
       "(3, [758890 -93990 -12; 316184 -39160 -5; 948503 -117474 -15; -632263 78307 10; -147 18 0; 1 0 0])"
      ]
     },
     "execution_count": 14,
     "metadata": {},
     "output_type": "execute_result"
    }
   ],
   "source": [
    "R = ZZ\n",
    "S = MatrixSpace(R, 3, 6)\n",
    "(dim, c) = Nemo.nullspace(S([5 0 0 6 6 10; 0 9 1 6 4 7; 0 0 4 6 3 7]))"
   ]
  },
  {
   "cell_type": "code",
   "execution_count": 108,
   "id": "political-think",
   "metadata": {},
   "outputs": [
    {
     "data": {
      "text/plain": [
       "getConeRays (generic function with 1 method)"
      ]
     },
     "execution_count": 108,
     "metadata": {},
     "output_type": "execute_result"
    }
   ],
   "source": [
    "# Same function as in makeSimplicial\n",
    "function getConeRays(coneRayIndices, rayMatrix)\n",
    "    return convert(Matrix{Int}, tv.RAYS[findall(bool -> bool, coneRayIndices),:])\n",
    "end"
   ]
  },
  {
   "cell_type": "code",
   "execution_count": 162,
   "id": "deluxe-treasurer",
   "metadata": {},
   "outputs": [
    {
     "data": {
      "text/plain": [
       "findStackyPoint (generic function with 1 method)"
      ]
     },
     "execution_count": 162,
     "metadata": {},
     "output_type": "execute_result"
    }
   ],
   "source": [
    "function findStackyPoint(ray, cone, rayMatrix, stack)\n",
    "    # ray is the given \"black\" lattice point\n",
    "    # stackyCone and rayMatrix are the rays of the cone\n",
    "    # which should also contain information about the red lattice\n",
    "    # Returns the first \"red\" lattice point along the given ray\n",
    "    # Given the rays of stackyCone, \\rho_i and \\delta_i, find\n",
    "    # \\psi = a_1 \\rho_1 + ... + b_1 \\delta_1 + ... + b_n \\delta_n\n",
    "    # and return a_1, ..., b_1, ..., b_n, and the multiple of ray\n",
    "    \n",
    "    # Apply stacky structure\n",
    "    rays = getConeRays(cone, rayMatrix) .* transpose(stack)\n",
    "    # Find integer solutions\n",
    "    M = hcat(rays, ray)\n",
    "    S = MatrixSpace(ZZ, size(M,1), size(M,2))\n",
    "    (dim, c) = nullspace(S(M))\n",
    "    # Get smallest integer multiple\n",
    "    coef = nothing\n",
    "    for col in 1:size(c, 2)\n",
    "        if (c[size(c, 1), col] != 0)\n",
    "            coef = vec(Matrix{Int}(transpose(c[1:size(c,1), col]) * sign(-c[size(c, 1), col])))\n",
    "            coef[size(coef, 2)] = abs(coef[size(coef, 2)])\n",
    "        end\n",
    "    end\n",
    "    # Return the coefficients of the rays of the cone, in the same order\n",
    "    return coef\n",
    "end"
   ]
  },
  {
   "cell_type": "code",
   "execution_count": 77,
   "id": "certified-printer",
   "metadata": {
    "collapsed": true,
    "jupyter": {
     "outputs_hidden": true
    }
   },
   "outputs": [
    {
     "data": {
      "text/html": [
       "<dl> <dt>type</dt><dd> NormalToricVariety</dd> </dl><details><summary>INPUT_CONES</summary><pre>{0 1}\n",
       "{1 2}\n",
       "{2 3}\n",
       "{0 3}</pre></details>\n",
       "<details><summary>INPUT_RAYS</summary><pre>0 1\n",
       "1 0\n",
       "0 -1\n",
       "-2 1</pre></details>"
      ],
      "text/plain": [
       "type: NormalToricVariety\n",
       "\n",
       "INPUT_CONES\n",
       "\t{0 1}\n",
       "\t{1 2}\n",
       "\t{2 3}\n",
       "\t{0 3}\n",
       "\n",
       "INPUT_RAYS\n",
       "\t0 1\n",
       "\t1 0\n",
       "\t0 -1\n",
       "\t-2 1\n"
      ]
     },
     "execution_count": 77,
     "metadata": {},
     "output_type": "execute_result"
    }
   ],
   "source": [
    "tv = fulton.NormalToricVariety(INPUT_RAYS=[0 1; 1 0; 0 -1; -2 1]; INPUT_CONES=[[0,1],[1,2],[2,3],[0,3]])"
   ]
  },
  {
   "cell_type": "code",
   "execution_count": 78,
   "id": "operational-treaty",
   "metadata": {
    "collapsed": true,
    "jupyter": {
     "outputs_hidden": true
    }
   },
   "outputs": [
    {
     "data": {
      "text/plain": [
       "4-element BitVector:\n",
       " 1\n",
       " 1\n",
       " 0\n",
       " 0"
      ]
     },
     "execution_count": 78,
     "metadata": {},
     "output_type": "execute_result"
    }
   ],
   "source": [
    "cone = tv.MAXIMAL_CONES[1,:]"
   ]
  },
  {
   "cell_type": "code",
   "execution_count": 79,
   "id": "geographic-million",
   "metadata": {
    "collapsed": true,
    "jupyter": {
     "outputs_hidden": true
    }
   },
   "outputs": [
    {
     "data": {
      "text/plain": [
       "pm::Matrix<pm::Rational>\n",
       "0 1\n",
       "1 0\n",
       "0 -1\n",
       "-1 1/2\n"
      ]
     },
     "execution_count": 79,
     "metadata": {},
     "output_type": "execute_result"
    }
   ],
   "source": [
    "rayMatrix = tv.RAYS"
   ]
  },
  {
   "cell_type": "code",
   "execution_count": 163,
   "id": "willing-exemption",
   "metadata": {
    "scrolled": true
   },
   "outputs": [
    {
     "data": {
      "text/html": [
       "[$3$, $2$, $-6$]"
      ],
      "text/plain": [
       "3-element Vector{Int64}:\n",
       "  3\n",
       "  2\n",
       " -6"
      ]
     },
     "execution_count": 163,
     "metadata": {},
     "output_type": "execute_result"
    }
   ],
   "source": [
    "# Should output 6, the first red point along [1,1], 3,2\n",
    "coef = findStackyPoint([1,1], cone, rayMatrix, [2,3])"
   ]
  },
  {
   "cell_type": "code",
   "execution_count": null,
   "id": "fifty-projector",
   "metadata": {},
   "outputs": [],
   "source": []
  }
 ],
 "metadata": {
  "kernelspec": {
   "display_name": "Julia 1.5.3",
   "language": "julia",
   "name": "julia-1.5"
  },
  "language_info": {
   "file_extension": ".jl",
   "mimetype": "application/julia",
   "name": "julia",
   "version": "1.5.3"
  }
 },
 "nbformat": 4,
 "nbformat_minor": 5
}
