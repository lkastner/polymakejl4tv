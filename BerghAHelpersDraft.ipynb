{
 "cells": [
  {
   "cell_type": "code",
   "execution_count": 10,
   "id": "8ea88bf0",
   "metadata": {},
   "outputs": [
    {
     "name": "stderr",
     "output_type": "stream",
     "text": [
      "\u001b[32m\u001b[1m   Resolving\u001b[22m\u001b[39m package versions...\n",
      "\u001b[32m\u001b[1m  No Changes\u001b[22m\u001b[39m to `~/.julia/environments/v1.6/Project.toml`\n",
      "\u001b[32m\u001b[1m  No Changes\u001b[22m\u001b[39m to `~/.julia/environments/v1.6/Manifest.toml`\n",
      "\u001b[32m\u001b[1m   Resolving\u001b[22m\u001b[39m package versions...\n",
      "\u001b[32m\u001b[1m  No Changes\u001b[22m\u001b[39m to `~/.julia/environments/v1.6/Project.toml`\n",
      "\u001b[32m\u001b[1m  No Changes\u001b[22m\u001b[39m to `~/.julia/environments/v1.6/Manifest.toml`\n"
     ]
    }
   ],
   "source": [
    "import Pkg\n",
    "Pkg.add(\"Oscar\")\n",
    "Pkg.add(\"Nemo\")"
   ]
  },
  {
   "cell_type": "code",
   "execution_count": 11,
   "id": "f62d0358",
   "metadata": {},
   "outputs": [
    {
     "name": "stdout",
     "output_type": "stream",
     "text": [
      "Error: Cannot load 'Ferret' due to missing binary library\n",
      "Please run './configure; make' in the 'pkg/ferret' directory\n",
      "#I  Getting PackageInfo URLs...\n",
      "#I  Command wget not found\n",
      "#I  Retrieving PackageInfo.g from https://gap-packages.github.io/ferret/PackageInfo.g ...\n",
      "#I  Command wget not found\n",
      "#I  Downloading archive from URL https://github.com/gap-packages/ferret/releases/download/v1.0.5/ferret-1.0.5.tar.gz ...\n",
      "#I  Command wget not found\n",
      "#I  Saved archive to /var/folders/pj/dxx83vnn0fjbylvczs09t5zc0000gp/T//tmTrmALr/ferret-1.0.5.tar.gz\n",
      "#I  Extracting to /Users/somethingmeaningful/.julia/gaproot/v4.11/pkg/ferret-1.0.5 ...\n",
      "#I  Checking dependencies for ferret...\n",
      "#I    GAPDoc >= 1.5: true\n",
      "#I  Command wget not found\n",
      "#I  Running compilation script on /Users/somethingmeaningful/.julia/gaproot/v4.11/pkg/ferret-1.0.5 ...\n",
      "#I  Checking dependencies for ferret...\n",
      "#I    GAPDoc >= 1.5: true\n",
      "#I  Command wget not found\n",
      "#I  Package availability test failed\n",
      "#I  (for ferret 1.0.5)\n",
      "#I  Removed directory /Users/somethingmeaningful/.julia/gaproot/v4.11/pkg/ferret-1.0.5\n",
      " -----    -----    -----      -      -----   \n",
      "|     |  |     |  |     |    | |    |     |  \n",
      "|     |  |        |         |   |   |     |  \n",
      "|     |   -----   |        |     |  |-----   \n",
      "|     |        |  |        |-----|  |   |    \n",
      "|     |  |     |  |     |  |     |  |    |   \n",
      " -----    -----    -----   -     -  -     -  \n",
      "\n",
      "...combining (and extending) ANTIC, GAP, Polymake and Singular\n",
      "Version\u001b[32m 0.5.1 \u001b[39m... \n",
      " ... which comes with absolutely no warranty whatsoever\n",
      "Type: '?Oscar' for more information\n",
      "(c) 2019-2021 by The Oscar Development Team\n"
     ]
    }
   ],
   "source": [
    "using Oscar\n",
    "using Nemo"
   ]
  },
  {
   "cell_type": "code",
   "execution_count": 12,
   "id": "fdd9e3f5",
   "metadata": {},
   "outputs": [
    {
     "data": {
      "text/html": [
       "$2$"
      ],
      "text/plain": [
       "2"
      ]
     },
     "execution_count": 12,
     "metadata": {},
     "output_type": "execute_result"
    }
   ],
   "source": [
    "size(intersect([1,2,3], [2,3,4]), 1)"
   ]
  },
  {
   "cell_type": "code",
   "execution_count": 13,
   "id": "9a589633",
   "metadata": {},
   "outputs": [
    {
     "data": {
      "text/plain": [
       "compareCones (generic function with 1 method)"
      ]
     },
     "execution_count": 13,
     "metadata": {},
     "output_type": "execute_result"
    }
   ],
   "source": [
    "function compareCones(cone1, cone2, rayMatrix, distinguished)\n",
    "    dist1 = size(intersect(cone1, distinguished), 1)\n",
    "    dist2 = size(intersect(cone2, distinguished), 1)\n",
    "    if (dist1 - dist2 != 0)\n",
    "        return dist1 - dist2\n",
    "    else\n",
    "        # Need to use the method for calculating multiplicity of cone\n",
    "        mult1 = coneMultiplicity(cone1, rayMatrix)\n",
    "        mult2 = coneMultiplicity(cone2, rayMatrix)\n",
    "        return mult1 - mult2\n",
    "    end\n",
    "end"
   ]
  },
  {
   "cell_type": "code",
   "execution_count": 14,
   "id": "514cac66",
   "metadata": {},
   "outputs": [
    {
     "data": {
      "text/plain": [
       "maximalCones (generic function with 1 method)"
      ]
     },
     "execution_count": 14,
     "metadata": {},
     "output_type": "execute_result"
    }
   ],
   "source": [
    "function maximalCones(coneList, rayMatrix)\n",
    "    # Finds the maximal cones according to # distinguished rays and multiplicity\n",
    "    # Initialize\n",
    "    maxCones = coneList[1:1]\n",
    "    for cone in coneList\n",
    "        comp = compareCones(cone, rayMatrix)\n",
    "        if (comp > 0)\n",
    "            maxCones = [cone]\n",
    "        elseif (comp == 0)\n",
    "            append!(maxCones, cone)\n",
    "        end\n",
    "    end\n",
    "    return maxCones\n",
    "end"
   ]
  },
  {
   "cell_type": "code",
   "execution_count": 15,
   "id": "1b1b79c2",
   "metadata": {},
   "outputs": [
    {
     "data": {
      "text/html": [
       "($3$, $\\begin{bmatrix}758890&-93990&-12\\\\\n",
       "316184&-39160&-5\\\\\n",
       "948503&-117474&-15\\\\\n",
       "-632263&78307&10\\\\\n",
       "-147&18&0\\\\\n",
       "1&0&0\\end{bmatrix}$)"
      ],
      "text/plain": [
       "(3, [758890 -93990 -12; 316184 -39160 -5; 948503 -117474 -15; -632263 78307 10; -147 18 0; 1 0 0])"
      ]
     },
     "execution_count": 15,
     "metadata": {},
     "output_type": "execute_result"
    }
   ],
   "source": [
    "R = ZZ\n",
    "S = MatrixSpace(R, 3, 6)\n",
    "(dim, c) = Nemo.nullspace(S([5 0 0 6 6 10; 0 9 1 6 4 7; 0 0 4 6 3 7]))"
   ]
  },
  {
   "cell_type": "code",
   "execution_count": 16,
   "id": "a4dd1532",
   "metadata": {
    "tags": []
   },
   "outputs": [
    {
     "name": "stdout",
     "output_type": "stream",
     "text": [
      "[758890; 316184; 948503; -632263; -147; 1]\n",
      "[-93990; -39160; -117474; 78307; 18; 0]\n",
      "[-12; -5; -15; 10; 0; 0]\n"
     ]
    }
   ],
   "source": [
    "for i in 1:dim\n",
    "    println(c[:,i])\n",
    "end"
   ]
  },
  {
   "cell_type": "code",
   "execution_count": 17,
   "id": "0b40a9ad",
   "metadata": {},
   "outputs": [
    {
     "data": {
      "text/plain": [
       "2×2 Matrix{Int64}:\n",
       " 2   6\n",
       " 6  12"
      ]
     },
     "execution_count": 17,
     "metadata": {},
     "output_type": "execute_result"
    }
   ],
   "source": [
    "[1 2;3 4].*[2 3]"
   ]
  },
  {
   "cell_type": "code",
   "execution_count": 18,
   "id": "fab3c6c3",
   "metadata": {},
   "outputs": [
    {
     "data": {
      "text/plain": [
       "findStackyPoint (generic function with 1 method)"
      ]
     },
     "execution_count": 18,
     "metadata": {},
     "output_type": "execute_result"
    }
   ],
   "source": [
    "function findStackyPoint(ray, cone, rayMatrix, stack)\n",
    "    # ray is the given \"black\" lattice point\n",
    "    # stackyCone and rayMatrix are the rays of the cone\n",
    "    # which should also contain information about the red lattice\n",
    "    # Returns the first \"red\" lattice point along the given ray\n",
    "    # Given the rays of stackyCone, \\rho_i and \\delta_i, find\n",
    "    # \\psi = a_1 \\rho_1 + ... + b_1 \\delta_1 + ... + b_n \\delta_n\n",
    "    # and return a_1, ..., b_1, ..., b_n\n",
    "    \n",
    "    # Apply stacky structure\n",
    "    rays = getConeRays(cone, rayMatrix) .* stack\n",
    "    # Find integer solutions\n",
    "    M = hcat(rays, ray)\n",
    "    S = MatrixSpace(ZZ, size(M,1), size(M,2))\n",
    "    nullspace(S(M))\n",
    "    (dim, c) = nullspace(hcat(rays))\n",
    "    # Get smallest integer multiple\n",
    "    coef = nothing\n",
    "    for col in 1:size(c,1)\n",
    "        if (col[size(col,1)] != 0)\n",
    "            coef = col[1:size(col,1)-1]\n",
    "        end\n",
    "    end\n",
    "    # Return the coefficients of the rays of the cone, in the same order\n",
    "    return coef\n",
    "end"
   ]
  },
  {
   "cell_type": "code",
   "execution_count": null,
   "id": "df493583",
   "metadata": {},
   "outputs": [],
   "source": []
  }
 ],
 "metadata": {
  "kernelspec": {
   "display_name": "Julia 1.6.0",
   "language": "julia",
   "name": "julia-1.6"
  },
  "language_info": {
   "file_extension": ".jl",
   "mimetype": "application/julia",
   "name": "julia",
   "version": "1.6.0"
  }
 },
 "nbformat": 4,
 "nbformat_minor": 5
}
