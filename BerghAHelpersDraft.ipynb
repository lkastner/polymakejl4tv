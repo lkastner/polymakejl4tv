{
 "cells": [
  {
   "cell_type": "code",
   "execution_count": 10,
   "id": "domestic-spectacular",
   "metadata": {},
   "outputs": [
    {
     "name": "stderr",
     "output_type": "stream",
     "text": [
      "\u001b[32m\u001b[1m   Resolving\u001b[22m\u001b[39m package versions...\n",
      "\u001b[32m\u001b[1m  No Changes\u001b[22m\u001b[39m to `~/.julia/environments/v1.6/Project.toml`\n",
      "\u001b[32m\u001b[1m  No Changes\u001b[22m\u001b[39m to `~/.julia/environments/v1.6/Manifest.toml`\n",
      "\u001b[32m\u001b[1m   Resolving\u001b[22m\u001b[39m package versions...\n",
      "\u001b[32m\u001b[1m  No Changes\u001b[22m\u001b[39m to `~/.julia/environments/v1.6/Project.toml`\n",
      "\u001b[32m\u001b[1m  No Changes\u001b[22m\u001b[39m to `~/.julia/environments/v1.6/Manifest.toml`\n",
      "\u001b[32m\u001b[1m   Resolving\u001b[22m\u001b[39m package versions...\n",
      "\u001b[32m\u001b[1m  No Changes\u001b[22m\u001b[39m to `~/.julia/environments/v1.6/Project.toml`\n",
      "\u001b[32m\u001b[1m  No Changes\u001b[22m\u001b[39m to `~/.julia/environments/v1.6/Manifest.toml`\n"
     ]
    }
   ],
   "source": [
    "import Pkg\n",
    "Pkg.add(\"Oscar\")\n",
    "Pkg.add(\"Nemo\")\n",
    "Pkg.add(\"Polymake\")"
   ]
  },
  {
   "cell_type": "code",
   "execution_count": 11,
   "id": "understanding-structure",
   "metadata": {},
   "outputs": [],
   "source": [
    "using Oscar\n",
    "using Nemo\n",
    "using Polymake"
   ]
  },
  {
   "cell_type": "code",
   "execution_count": 248,
   "id": "secure-borough",
   "metadata": {},
   "outputs": [
    {
     "data": {
      "text/plain": [
       "coneMultiplicity (generic function with 1 method)"
      ]
     },
     "execution_count": 248,
     "metadata": {},
     "output_type": "execute_result"
    }
   ],
   "source": [
    "function coneMultiplicity(a,b)\n",
    "    return dot(a, [1,1,1,1])\n",
    "end"
   ]
  },
  {
   "cell_type": "code",
   "execution_count": 252,
   "id": "charming-making",
   "metadata": {},
   "outputs": [
    {
     "data": {
      "text/plain": [
       "compareCones (generic function with 1 method)"
      ]
     },
     "execution_count": 252,
     "metadata": {},
     "output_type": "execute_result"
    }
   ],
   "source": [
    "function compareCones(cone1, cone2, rayMatrix, distinguished)\n",
    "    # Calculate the number of non-distinguished rays\n",
    "    nondist1 = count(cone1) - dot(cone1, distinguished)\n",
    "    nondist2 = count(cone2) - dot(cone2, distinguished)\n",
    "    if (nondist1 - nondist2 != 0)\n",
    "        return nondist1 - nondist2\n",
    "    else\n",
    "        # Need to use the method for calculating multiplicity of cone\n",
    "        mult1 = coneMultiplicity(cone1, rayMatrix)\n",
    "        mult2 = coneMultiplicity(cone2, rayMatrix)\n",
    "        return mult1 - mult2\n",
    "    end\n",
    "end"
   ]
  },
  {
   "cell_type": "code",
   "execution_count": 253,
   "id": "noted-puppy",
   "metadata": {},
   "outputs": [
    {
     "data": {
      "text/plain": [
       "maximalCones (generic function with 2 methods)"
      ]
     },
     "execution_count": 253,
     "metadata": {},
     "output_type": "execute_result"
    }
   ],
   "source": [
    "function extremalCones(coneList, rayMatrix, distinguished)\n",
    "    # Finds the extremal cones according to # distinguished rays and multiplicity\n",
    "    # distinguished is a boolean vector whose size is equal to the number of rays\n",
    "    # The i-th index is 1 if the i-th ray (in rayMatrix) is distinguished\n",
    "    maxCones = [coneList[1,:]]\n",
    "    for i in 1:size(coneList,1)\n",
    "        cone = coneList[i,:]\n",
    "        # Compare the cone with the first element of the maximal cone list\n",
    "        comp = compareCones(cone, maxCones[1], rayMatrix, distinguished)\n",
    "        if (comp > 0)\n",
    "            maxCones = [cone]\n",
    "        elseif (comp == 0)\n",
    "            push!(maxCones, cone)\n",
    "        end\n",
    "    end\n",
    "    return maxCones\n",
    "end"
   ]
  },
  {
   "cell_type": "code",
   "execution_count": 254,
   "id": "christian-vehicle",
   "metadata": {
    "scrolled": true
   },
   "outputs": [
    {
     "data": {
      "text/plain": [
       "2-element Vector{BitVector}:\n",
       " [1, 1, 0, 0]\n",
       " [0, 1, 1, 0]"
      ]
     },
     "execution_count": 254,
     "metadata": {},
     "output_type": "execute_result"
    }
   ],
   "source": [
    "maximalCones(coneList, rayMatrix, Bool[0,0,0,1])"
   ]
  },
  {
   "cell_type": "code",
   "execution_count": 14,
   "id": "systematic-expert",
   "metadata": {
    "scrolled": true
   },
   "outputs": [
    {
     "data": {
      "text/html": [
       "($3$, $\\begin{bmatrix}758890&-93990&-12\\\\\n",
       "316184&-39160&-5\\\\\n",
       "948503&-117474&-15\\\\\n",
       "-632263&78307&10\\\\\n",
       "-147&18&0\\\\\n",
       "1&0&0\\end{bmatrix}$)"
      ],
      "text/plain": [
       "(3, [758890 -93990 -12; 316184 -39160 -5; 948503 -117474 -15; -632263 78307 10; -147 18 0; 1 0 0])"
      ]
     },
     "execution_count": 14,
     "metadata": {},
     "output_type": "execute_result"
    }
   ],
   "source": [
    "R = ZZ\n",
    "S = MatrixSpace(R, 3, 6)\n",
    "(dim, c) = Nemo.nullspace(S([5 0 0 6 6 10; 0 9 1 6 4 7; 0 0 4 6 3 7]))"
   ]
  },
  {
   "cell_type": "code",
   "execution_count": 108,
   "id": "acoustic-behalf",
   "metadata": {},
   "outputs": [
    {
     "data": {
      "text/plain": [
       "getConeRays (generic function with 1 method)"
      ]
     },
     "execution_count": 108,
     "metadata": {},
     "output_type": "execute_result"
    }
   ],
   "source": [
    "# Same function as in makeSimplicial\n",
    "function getConeRays(coneRayIndices, rayMatrix)\n",
    "    return convert(Matrix{Int}, tv.RAYS[findall(bool -> bool, coneRayIndices),:])\n",
    "end"
   ]
  },
  {
   "cell_type": "code",
   "execution_count": 162,
   "id": "equal-understanding",
   "metadata": {},
   "outputs": [
    {
     "data": {
      "text/plain": [
       "findStackyPoint (generic function with 1 method)"
      ]
     },
     "execution_count": 162,
     "metadata": {},
     "output_type": "execute_result"
    }
   ],
   "source": [
    "function findStackyPoint(ray, cone, rayMatrix, stack)\n",
    "    # ray is the given \"black\" lattice point\n",
    "    # stackyCone and rayMatrix are the rays of the cone\n",
    "    # which should also contain information about the red lattice\n",
    "    # Returns the first \"red\" lattice point along the given ray\n",
    "    # Given the rays of stackyCone, \\rho_i and \\delta_i, find\n",
    "    # \\psi = a_1 \\rho_1 + ... + b_1 \\delta_1 + ... + b_n \\delta_n\n",
    "    # and return a_1, ..., b_1, ..., b_n, and the multiple of ray\n",
    "    \n",
    "    # Apply stacky structure\n",
    "    rays = getConeRays(cone, rayMatrix) .* transpose(stack)\n",
    "    # Find integer solutions\n",
    "    M = hcat(rays, ray)\n",
    "    S = MatrixSpace(ZZ, size(M,1), size(M,2))\n",
    "    (dim, c) = nullspace(S(M))\n",
    "    # Get smallest integer multiple\n",
    "    coef = nothing\n",
    "    for col in 1:size(c, 2)\n",
    "        if (c[size(c, 1), col] != 0)\n",
    "            coef = vec(Matrix{Int}(transpose(c[1:size(c,1), col]) * sign(-c[size(c, 1), col])))\n",
    "            coef[size(coef, 2)] = abs(coef[size(coef, 2)])\n",
    "        end\n",
    "    end\n",
    "    # Return the coefficients of the rays of the cone, in the same order\n",
    "    return coef\n",
    "end"
   ]
  },
  {
   "cell_type": "code",
   "execution_count": 77,
   "id": "challenging-geometry",
   "metadata": {
    "collapsed": true,
    "jupyter": {
     "outputs_hidden": true
    }
   },
   "outputs": [
    {
     "data": {
      "text/html": [
       "<dl> <dt>type</dt><dd> NormalToricVariety</dd> </dl><details><summary>INPUT_CONES</summary><pre>{0 1}\n",
       "{1 2}\n",
       "{2 3}\n",
       "{0 3}</pre></details>\n",
       "<details><summary>INPUT_RAYS</summary><pre>0 1\n",
       "1 0\n",
       "0 -1\n",
       "-2 1</pre></details>"
      ],
      "text/plain": [
       "type: NormalToricVariety\n",
       "\n",
       "INPUT_CONES\n",
       "\t{0 1}\n",
       "\t{1 2}\n",
       "\t{2 3}\n",
       "\t{0 3}\n",
       "\n",
       "INPUT_RAYS\n",
       "\t0 1\n",
       "\t1 0\n",
       "\t0 -1\n",
       "\t-2 1\n"
      ]
     },
     "execution_count": 77,
     "metadata": {},
     "output_type": "execute_result"
    }
   ],
   "source": [
    "tv = fulton.NormalToricVariety(INPUT_RAYS=[0 1; 1 0; 0 -1; -2 1]; INPUT_CONES=[[0,1],[1,2],[2,3],[0,3]])"
   ]
  },
  {
   "cell_type": "code",
   "execution_count": 78,
   "id": "modified-order",
   "metadata": {
    "collapsed": true,
    "jupyter": {
     "outputs_hidden": true
    }
   },
   "outputs": [
    {
     "data": {
      "text/plain": [
       "4-element BitVector:\n",
       " 1\n",
       " 1\n",
       " 0\n",
       " 0"
      ]
     },
     "execution_count": 78,
     "metadata": {},
     "output_type": "execute_result"
    }
   ],
   "source": [
    "cone = tv.MAXIMAL_CONES[1,:]"
   ]
  },
  {
   "cell_type": "code",
   "execution_count": 79,
   "id": "mobile-disabled",
   "metadata": {
    "collapsed": true,
    "jupyter": {
     "outputs_hidden": true
    }
   },
   "outputs": [
    {
     "data": {
      "text/plain": [
       "pm::Matrix<pm::Rational>\n",
       "0 1\n",
       "1 0\n",
       "0 -1\n",
       "-1 1/2\n"
      ]
     },
     "execution_count": 79,
     "metadata": {},
     "output_type": "execute_result"
    }
   ],
   "source": [
    "rayMatrix = tv.RAYS"
   ]
  },
  {
   "cell_type": "code",
   "execution_count": 163,
   "id": "unable-questionnaire",
   "metadata": {
    "scrolled": true
   },
   "outputs": [
    {
     "data": {
      "text/html": [
       "[$3$, $2$, $-6$]"
      ],
      "text/plain": [
       "3-element Vector{Int64}:\n",
       "  3\n",
       "  2\n",
       " -6"
      ]
     },
     "execution_count": 163,
     "metadata": {},
     "output_type": "execute_result"
    }
   ],
   "source": [
    "# Should output 6, the first red point along [1,1], 3,2\n",
    "coef = findStackyPoint([1,1], cone, rayMatrix, [2,3])"
   ]
  },
  {
   "cell_type": "code",
   "execution_count": null,
   "id": "patient-atmosphere",
   "metadata": {},
   "outputs": [],
   "source": []
  }
 ],
 "metadata": {
  "kernelspec": {
   "display_name": "Julia 1.5.3",
   "language": "julia",
   "name": "julia-1.5"
  },
  "language_info": {
   "file_extension": ".jl",
   "mimetype": "application/julia",
   "name": "julia",
   "version": "1.5.3"
  }
 },
 "nbformat": 4,
 "nbformat_minor": 5
}
