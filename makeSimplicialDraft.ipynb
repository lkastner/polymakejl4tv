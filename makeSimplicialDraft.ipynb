{
 "cells": [
  {
   "cell_type": "code",
   "execution_count": 92,
   "id": "relevant-cooperative",
   "metadata": {},
   "outputs": [
    {
     "name": "stderr",
     "output_type": "stream",
     "text": [
      "\u001b[32m\u001b[1m  Resolving\u001b[22m\u001b[39m package versions...\n",
      "\u001b[32m\u001b[1mNo Changes\u001b[22m\u001b[39m to `~/.julia/environments/v1.5/Project.toml`\n",
      "\u001b[32m\u001b[1mNo Changes\u001b[22m\u001b[39m to `~/.julia/environments/v1.5/Manifest.toml`\n",
      "\u001b[32m\u001b[1m  Resolving\u001b[22m\u001b[39m package versions...\n",
      "\u001b[32m\u001b[1mNo Changes\u001b[22m\u001b[39m to `~/.julia/environments/v1.5/Project.toml`\n",
      "\u001b[32m\u001b[1mNo Changes\u001b[22m\u001b[39m to `~/.julia/environments/v1.5/Manifest.toml`\n",
      "\u001b[32m\u001b[1m  Resolving\u001b[22m\u001b[39m package versions...\n",
      "\u001b[32m\u001b[1mNo Changes\u001b[22m\u001b[39m to `~/.julia/environments/v1.5/Project.toml`\n",
      "\u001b[32m\u001b[1mNo Changes\u001b[22m\u001b[39m to `~/.julia/environments/v1.5/Manifest.toml`\n"
     ]
    }
   ],
   "source": [
    "import Pkg\n",
    "Pkg.add(\"Oscar\")\n",
    "Pkg.add(\"Polymake\")\n",
    "Pkg.add(\"Combinatorics\")"
   ]
  },
  {
   "cell_type": "code",
   "execution_count": 93,
   "id": "human-damage",
   "metadata": {
    "scrolled": true
   },
   "outputs": [],
   "source": [
    "using Oscar\n",
    "using Polymake\n",
    "using Combinatorics"
   ]
  },
  {
   "cell_type": "code",
   "execution_count": 94,
   "id": "minus-america",
   "metadata": {},
   "outputs": [
    {
     "data": {
      "text/html": [
       "<dl> <dt>type</dt><dd> NormalToricVariety</dd> </dl><details><summary>INPUT_CONES</summary><pre>{0 1}\n",
       "{1 2}\n",
       "{2 3}\n",
       "{0 3}</pre></details>\n",
       "<details><summary>INPUT_RAYS</summary><pre>0 1\n",
       "1 0\n",
       "0 -1\n",
       "-2 1</pre></details>"
      ],
      "text/plain": [
       "type: NormalToricVariety\n",
       "\n",
       "INPUT_CONES\n",
       "\t{0 1}\n",
       "\t{1 2}\n",
       "\t{2 3}\n",
       "\t{0 3}\n",
       "\n",
       "INPUT_RAYS\n",
       "\t0 1\n",
       "\t1 0\n",
       "\t0 -1\n",
       "\t-2 1\n"
      ]
     },
     "execution_count": 94,
     "metadata": {},
     "output_type": "execute_result"
    }
   ],
   "source": [
    "tv = fulton.NormalToricVariety(INPUT_RAYS=[0 1; 1 0; 0 -1; -2 1]; INPUT_CONES=[[0,1],[1,2],[2,3],[0,3]])"
   ]
  },
  {
   "cell_type": "code",
   "execution_count": 5,
   "id": "norman-absolute",
   "metadata": {},
   "outputs": [
    {
     "data": {
      "text/html": [
       "false"
      ],
      "text/plain": [
       "false"
      ]
     },
     "execution_count": 5,
     "metadata": {},
     "output_type": "execute_result"
    }
   ],
   "source": [
    "tv.SMOOTH"
   ]
  },
  {
   "cell_type": "code",
   "execution_count": 8,
   "id": "egyptian-walnut",
   "metadata": {},
   "outputs": [
    {
     "data": {
      "text/html": [
       "true"
      ],
      "text/plain": [
       "true"
      ]
     },
     "execution_count": 8,
     "metadata": {},
     "output_type": "execute_result"
    }
   ],
   "source": [
    "tv.SIMPLICIAL"
   ]
  },
  {
   "cell_type": "code",
   "execution_count": 9,
   "id": "about-momentum",
   "metadata": {
    "scrolled": true
   },
   "outputs": [
    {
     "data": {
      "text/plain": [
       "pm::Matrix<pm::Rational>\n",
       "0 1\n",
       "1 0\n",
       "0 -1\n",
       "-1 1/2\n"
      ]
     },
     "execution_count": 9,
     "metadata": {},
     "output_type": "execute_result"
    }
   ],
   "source": [
    "tv.RAYS"
   ]
  },
  {
   "cell_type": "code",
   "execution_count": 10,
   "id": "given-mayor",
   "metadata": {
    "scrolled": true
   },
   "outputs": [
    {
     "data": {
      "text/plain": [
       "pm::IncidenceMatrix<pm::NonSymmetric>\n",
       "{0 1}\n",
       "{1 2}\n",
       "{2 3}\n",
       "{0 3}\n"
      ]
     },
     "execution_count": 10,
     "metadata": {},
     "output_type": "execute_result"
    }
   ],
   "source": [
    "tv.MAXIMAL_CONES"
   ]
  },
  {
   "cell_type": "code",
   "execution_count": 11,
   "id": "exempt-coffee",
   "metadata": {
    "scrolled": true
   },
   "outputs": [
    {
     "data": {
      "text/plain": [
       "pm::Matrix<pm::Rational>\n",
       "0 -1\n",
       "-1 1/2\n"
      ]
     },
     "execution_count": 11,
     "metadata": {},
     "output_type": "execute_result"
    }
   ],
   "source": [
    "# Get the rays of maximal cone i (tv.MAXIMAL_CONES[i,:] will get the incidence matrix booleans)\n",
    "# findall gets the indices of the \"true\"s, then we take those specific rows\n",
    "i = 3\n",
    "coneRays = tv.RAYS[findall(bool -> bool, tv.MAXIMAL_CONES[i,:]),:]"
   ]
  },
  {
   "cell_type": "code",
   "execution_count": 95,
   "id": "moving-brass",
   "metadata": {},
   "outputs": [
    {
     "data": {
      "text/plain": [
       "convertBool (generic function with 1 method)"
      ]
     },
     "execution_count": 95,
     "metadata": {},
     "output_type": "execute_result"
    }
   ],
   "source": [
    "function slicematrix(A)\n",
    "    return [A[i, :] for i in 1:size(A,1)]\n",
    "end\n",
    "\n",
    "function rowMinors(A,S)\n",
    "    outList=[]\n",
    "    slices=slicematrix(A)\n",
    "    for i in 1:size(slices,1)\n",
    "        if i in S\n",
    "            append!(outList,[slices[i]])\n",
    "        end\n",
    "    end\n",
    "    return transpose(hcat(outList...))\n",
    "end\n",
    "\n",
    "function convertIncidenceMatrix(A)\n",
    "    A=Array(A)\n",
    "    dim1=size(A,1)\n",
    "    dim2=size(A,2)\n",
    "    out=[]\n",
    "    for i in 1:dim1\n",
    "        members=[]\n",
    "        for j in 1:dim2\n",
    "            if A[i,j]==true\n",
    "                append!(members,j)\n",
    "            end\n",
    "        end\n",
    "        append!(out,[members])\n",
    "    end\n",
    "    return convert.(Array{Int64, 1}, out)\n",
    "end\n",
    "\n",
    "function coneListFormat(coneList)\n",
    "    memberList=[]\n",
    "    denseList=slicematrix(coneList)\n",
    "    for row in denseList\n",
    "        members=[]\n",
    "        for i in 1:size(row,1)\n",
    "            if row[i]==1\n",
    "                append!(members,i)\n",
    "            end\n",
    "        end\n",
    "        append!(memberList,[members])\n",
    "    end\n",
    "    return memberList\n",
    "end\n",
    "\n",
    "function findBarycenter(s,X)\n",
    "    rays = rowMinors(Array(X.RAYS), s)\n",
    "    dim=size(rays,2)\n",
    "    bary=zeros(Polymake.Rational,dim,1)\n",
    "    for i in 1:size(rays,1)\n",
    "        bary+=rays[i,:]\n",
    "    end\n",
    "    bary=Polymake.common.primitive(bary)\n",
    "    return bary\n",
    "end\n",
    "\n",
    "function toric_blowup(s, X, v)\n",
    "    s = [i + 1 for i in s]\n",
    "    if v==nothing\n",
    "        v=findBarycenter(s,X)\n",
    "    end\n",
    "    coneList = convertIncidenceMatrix(X.MAXIMAL_CONES)\n",
    "    starIndex = findall((t) -> all(((i) -> i in t).(s)), coneList)\n",
    "    star = [coneList[i] for i in starIndex]\n",
    "    rayMatrix = X.RAYS\n",
    "    \n",
    "    lattice = X.HASSE_DIAGRAM\n",
    "    faces = @Polymake.convert_to Array{Set{Int}} lattice.FACES\n",
    "    \n",
    "    clStar = []\n",
    "    for t in star\n",
    "        c = rank(Array(rowMinors(rayMatrix, t))) - 1\n",
    "        rank_c_subcone_indices = @Polymake.convert_to Array{Int} Polymake.graph.nodes_of_rank(lattice,c)\n",
    "        rank_c_subcones = [faces[i + 1] for i in rank_c_subcone_indices]\n",
    "        for cone in rank_c_subcones\n",
    "            new_cone = [i+1 for i in cone]\n",
    "            if all((i -> i in t).(new_cone))\n",
    "                push!(clStar, new_cone)\n",
    "            end\n",
    "        end\n",
    "    end\n",
    "    clStar = unique(clStar)\n",
    "    \n",
    "    n = size(rayMatrix, 1) + 1\n",
    "    coneList = filter(x -> !(x in star), coneList)\n",
    "    \n",
    "    if length(s) == 1\n",
    "        newCones = []\n",
    "        for t in clStar\n",
    "            if !(s[1] in t)\n",
    "                push!(newCones, sort(push!(t, s[1])))\n",
    "            end\n",
    "        end\n",
    "        finalCones = [[i - 1 for i in cone] for cone in append!(coneList, newCones)]\n",
    "        return Polymake.fulton.NormalToricVariety(INPUT_RAYS = Array(X.RAYS), INPUT_CONES = append!(coneList, newCones))\n",
    "    end\n",
    "    newCones = []\n",
    "    for t in clStar\n",
    "        if any(((i) -> !(i in t)).(s))\n",
    "            push!(newCones, push!(t, n))\n",
    "        end\n",
    "    end\n",
    "    finalRays = vcat((X.RAYS),transpose(v))\n",
    "    finalCones = [[i - 1 for i in cone] for cone in append!(coneList, newCones)]\n",
    "    print(finalCones)\n",
    "    return Polymake.fulton.NormalToricVariety(INPUT_RAYS = finalRays, INPUT_CONES = finalCones)\n",
    "end\n",
    "\n",
    "function convertBool(B)\n",
    "    out=[]\n",
    "    for i in 1:size(B,1)\n",
    "        if B[i]==true\n",
    "           append!(out,i-1) \n",
    "        end\n",
    "    end\n",
    "    return out\n",
    "end"
   ]
  },
  {
   "cell_type": "code",
   "execution_count": 96,
   "id": "artificial-stress",
   "metadata": {},
   "outputs": [
    {
     "data": {
      "text/plain": [
       "getConeRays (generic function with 1 method)"
      ]
     },
     "execution_count": 96,
     "metadata": {},
     "output_type": "execute_result"
    }
   ],
   "source": [
    "function getConeRays(coneRayIndices, rayMatrix)\n",
    "    return convert(Matrix{Int}, tv.RAYS[findall(bool -> bool, coneRayIndices),:])\n",
    "end"
   ]
  },
  {
   "cell_type": "code",
   "execution_count": 97,
   "id": "marine-touch",
   "metadata": {},
   "outputs": [
    {
     "data": {
      "text/plain": [
       "getConeRank (generic function with 1 method)"
      ]
     },
     "execution_count": 97,
     "metadata": {},
     "output_type": "execute_result"
    }
   ],
   "source": [
    "function getConeRank(coneRayIndices, rayMatrix)\n",
    "    coneRays = rowMinors(rayMatrix,coneRayIndices)\n",
    "    return rank(Matrix(coneRays))\n",
    "end"
   ]
  },
  {
   "cell_type": "code",
   "execution_count": 98,
   "id": "minus-benchmark",
   "metadata": {},
   "outputs": [
    {
     "data": {
      "text/plain": [
       "getDimension (generic function with 1 method)"
      ]
     },
     "execution_count": 98,
     "metadata": {},
     "output_type": "execute_result"
    }
   ],
   "source": [
    "function getDimension(X)\n",
    "    return size(X.RAYS, 2)\n",
    "end"
   ]
  },
  {
   "cell_type": "code",
   "execution_count": 99,
   "id": "violent-january",
   "metadata": {
    "scrolled": true
   },
   "outputs": [
    {
     "data": {
      "text/html": [
       "$2$"
      ],
      "text/plain": [
       "2"
      ]
     },
     "execution_count": 99,
     "metadata": {},
     "output_type": "execute_result"
    }
   ],
   "source": [
    "getDimension(tv)"
   ]
  },
  {
   "cell_type": "code",
   "execution_count": 100,
   "id": "laughing-detroit",
   "metadata": {},
   "outputs": [
    {
     "data": {
      "text/plain": [
       "getConeFaces (generic function with 1 method)"
      ]
     },
     "execution_count": 100,
     "metadata": {},
     "output_type": "execute_result"
    }
   ],
   "source": [
    "# Old function, need to replace with new method within the code\n",
    "function getConeFaces(coneRayIndices, rayMatrix)\n",
    "    outCones = []\n",
    "    # We want to find cones with dimension 1 less than the original\n",
    "    # Calculate dimension of cone - 1\n",
    "    c = getConeRank(coneRayIndices, rayMatrix) - 1\n",
    "    for i in 1:size(coneRayIndices)\n",
    "        # Iterate through the cone rays in order to iterate through\n",
    "        # all subcones that are missing one ray from the original\n",
    "        subcone = deleteat!(copy(coneRayIndices), i)\n",
    "        \n",
    "        # Check that it has dimension 1 less than the original\n",
    "        if (getConeRank(subcone, rayMatrix) == c)\n",
    "            push!(outCones, subcone)\n",
    "        end\n",
    "    end\n",
    "    # for subcone in powerset(coneRayIndices, min=1, max=length(a)-1)\n",
    "        # if (getConeRank(subcone, rayMatrix) == c)\n",
    "            # push!(outCones, subcone)\n",
    "    # end\n",
    "    \n",
    "    return outCones\n",
    "    # This code may be incorrect, since I am not sure whether we\n",
    "    # need to consider subcones missing more than 1 ray\n",
    "end"
   ]
  },
  {
   "cell_type": "code",
   "execution_count": 101,
   "id": "congressional-overview",
   "metadata": {},
   "outputs": [
    {
     "data": {
      "text/plain": [
       "getConeFacesImproved (generic function with 1 method)"
      ]
     },
     "execution_count": 101,
     "metadata": {},
     "output_type": "execute_result"
    }
   ],
   "source": [
    "\n",
    "\n",
    "function getConeFacesImproved(fan,cone,rayMatrix)\n",
    "    lattice = fan.HASSE_DIAGRAM\n",
    "    faces = @Polymake.convert_to Array{Set{Int}} lattice.FACES\n",
    "    cone_faces=[]\n",
    "    c = rank(Array(rowMinors(rayMatrix, cone))) - 1\n",
    "    rank_c_subcone_indices = @Polymake.convert_to Array{Int} Polymake.graph.nodes_of_rank(lattice,c)\n",
    "    rank_c_subcones = [faces[i + 1] for i in rank_c_subcone_indices]\n",
    "    for subcone in rank_c_subcones\n",
    "        new_cone = [i+1 for i in subcone]\n",
    "        if all((i -> i in cone).(new_cone))\n",
    "            push!(cone_faces, new_cone)\n",
    "        end\n",
    "    end \n",
    "    return cone_faces\n",
    "end"
   ]
  },
  {
   "cell_type": "code",
   "execution_count": null,
   "id": "similar-freight",
   "metadata": {},
   "outputs": [],
   "source": []
  },
  {
   "cell_type": "code",
   "execution_count": 108,
   "id": "ideal-opera",
   "metadata": {},
   "outputs": [
    {
     "data": {
      "text/plain": [
       "makeSimplicial (generic function with 1 method)"
      ]
     },
     "execution_count": 108,
     "metadata": {},
     "output_type": "execute_result"
    }
   ],
   "source": [
    "function makeSimplicial(X)\n",
    "    Y = copy(X)\n",
    "    while (true)\n",
    "        if Y.SIMPLICIAL==true\n",
    "            break\n",
    "        end\n",
    "        #Maximal cones and ray matrix\n",
    "        coneList = Y.MAXIMAL_CONES\n",
    "        rayMatrix = Y.RAYS\n",
    "        badCone = nothing\n",
    "        for i in 1:size(coneList,1)\n",
    "            cone = coneList[i,:]\n",
    "            if (getConeRank(cone, rayMatrix) != size(cone))\n",
    "                badCone = cone\n",
    "            end\n",
    "        end\n",
    "        if (badCone == nothing)\n",
    "            # All cones are linearly independent\n",
    "            break\n",
    "        else\n",
    "            # Find the first ray that is contained in more than one orbit\n",
    "            # and subdivide at that ray, using toricBlowup\n",
    "            \n",
    "            # Get faces (need to replace this)\n",
    "            edges = getConeFacesImproved(Y,badCone,rayMatrix)\n",
    "            # Find the first ray that is contained in more than one orbit\n",
    "            i = 1\n",
    "            while count(r->(badCone[i] in r), edges) == 1\n",
    "                i += 1\n",
    "            end\n",
    "            # Subdivide at the cone containing just that ray\n",
    "            Y = toric_blowup(convertBool(badCone), Y,nothing)\n",
    "            #Y = toric_blowup([badCone[i]], Y,nothing)\n",
    "        end\n",
    "        # Repeat this process until there are no more bad cones\n",
    "        #break\n",
    "    end\n",
    "    return Y\n",
    "end"
   ]
  },
  {
   "cell_type": "code",
   "execution_count": 14,
   "id": "behind-borough",
   "metadata": {},
   "outputs": [
    {
     "data": {
      "text/plain": [
       "pm::IncidenceMatrix<pm::NonSymmetric>\n",
       "{0 1 2 3}\n"
      ]
     },
     "execution_count": 14,
     "metadata": {},
     "output_type": "execute_result"
    }
   ],
   "source": [
    "X=Polymake.fulton.NormalToricVariety(INPUT_RAYS=[1 0 0;0 1 0;2 1 1; 1 2 1],INPUT_CONES=[[0,1,2,3]])\n",
    "X.MAXIMAL_CONES\n",
    "Y=copy(X)\n",
    "Y.MAXIMAL_CONES"
   ]
  },
  {
   "cell_type": "code",
   "execution_count": null,
   "id": "organized-examination",
   "metadata": {},
   "outputs": [],
   "source": []
  },
  {
   "cell_type": "code",
   "execution_count": 23,
   "id": "proved-huntington",
   "metadata": {},
   "outputs": [
    {
     "data": {
      "text/html": [
       "false"
      ],
      "text/plain": [
       "false"
      ]
     },
     "execution_count": 23,
     "metadata": {},
     "output_type": "execute_result"
    }
   ],
   "source": [
    "X.SIMPLICIAL"
   ]
  },
  {
   "cell_type": "code",
   "execution_count": 109,
   "id": "baking-steering",
   "metadata": {},
   "outputs": [
    {
     "name": "stdout",
     "output_type": "stream",
     "text": [
      "[[1, 3, 4], [0, 1, 4], [0, 2, 4], [2, 3, 4]]"
     ]
    },
    {
     "data": {
      "text/html": [
       "<dl> <dt>type</dt><dd> NormalToricVariety</dd> </dl><details><summary>COMBINATORIAL_DIM</summary><pre>2</pre></details>\n",
       "<details><summary>FAN_AMBIENT_DIM</summary><pre>3</pre></details>\n",
       "<details><summary>INPUT_CONES</summary><pre>{1 3 4}\n",
       "{0 1 4}\n",
       "{0 2 4}\n",
       "{2 3 4}</pre></details>\n",
       "<details><summary>INPUT_RAYS</summary><pre>1 0 0\n",
       "0 1 0\n",
       "1 1/2 1/2\n",
       "1 2 1\n",
       "1 1 1</pre></details>\n",
       "<details><summary>LINEALITY_DIM</summary><pre>0</pre></details>\n",
       "<details><summary>LINEALITY_SPACE</summary><pre></pre></details>\n",
       "<details><summary>MAXIMAL_CONES</summary><pre>{0 1 2}\n",
       "{1 3 4}</pre></details>\n",
       "<details><summary>MAXIMAL_CONES_COMBINATORIAL_DIMS</summary><pre>2 2</pre></details>\n",
       "<details><summary>N_MAXIMAL_CONES</summary><pre>2</pre></details>\n",
       "<details><summary>PURE</summary><pre>true</pre></details>\n",
       "<details><summary>RAYS</summary><pre>0 1 0\n",
       "1 1 1\n",
       "1 0 0\n",
       "1 1/2 1/2\n",
       "1 2 1</pre></details>\n",
       "<details><summary>SIMPLICIAL</summary><pre>true</pre></details>"
      ],
      "text/plain": [
       "type: NormalToricVariety\n",
       "\n",
       "COMBINATORIAL_DIM\n",
       "\t2\n",
       "\n",
       "FAN_AMBIENT_DIM\n",
       "\t3\n",
       "\n",
       "INPUT_CONES\n",
       "\t{1 3 4}\n",
       "\t{0 1 4}\n",
       "\t{0 2 4}\n",
       "\t{2 3 4}\n",
       "\n",
       "INPUT_RAYS\n",
       "\t1 0 0\n",
       "\t0 1 0\n",
       "\t1 1/2 1/2\n",
       "\t1 2 1\n",
       "\t1 1 1\n",
       "\n",
       "LINEALITY_DIM\n",
       "\t0\n",
       "\n",
       "LINEALITY_SPACE\n",
       "\t\n",
       "\n",
       "MAXIMAL_CONES\n",
       "\t{0 1 2}\n",
       "\t{1 3 4}\n",
       "\n",
       "MAXIMAL_CONES_COMBINATORIAL_DIMS\n",
       "\t2 2\n",
       "\n",
       "N_MAXIMAL_CONES\n",
       "\t2\n",
       "\n",
       "PURE\n",
       "\ttrue\n",
       "\n",
       "RAYS\n",
       "\t0 1 0\n",
       "\t1 1 1\n",
       "\t1 0 0\n",
       "\t1 1/2 1/2\n",
       "\t1 2 1\n",
       "\n",
       "SIMPLICIAL\n",
       "\ttrue\n"
      ]
     },
     "execution_count": 109,
     "metadata": {},
     "output_type": "execute_result"
    }
   ],
   "source": [
    "makeSimplicial(X)\n"
   ]
  },
  {
   "cell_type": "code",
   "execution_count": 85,
   "id": "regular-burns",
   "metadata": {},
   "outputs": [
    {
     "data": {
      "text/html": [
       "true"
      ],
      "text/plain": [
       "true"
      ]
     },
     "execution_count": 85,
     "metadata": {},
     "output_type": "execute_result"
    }
   ],
   "source": [
    "Z.SIMPLICIAL"
   ]
  },
  {
   "cell_type": "code",
   "execution_count": null,
   "id": "intended-drunk",
   "metadata": {},
   "outputs": [],
   "source": []
  }
 ],
 "metadata": {
  "kernelspec": {
   "display_name": "Julia 1.5.3",
   "language": "julia",
   "name": "julia-1.5"
  },
  "language_info": {
   "file_extension": ".jl",
   "mimetype": "application/julia",
   "name": "julia",
   "version": "1.5.3"
  }
 },
 "nbformat": 4,
 "nbformat_minor": 5
}
