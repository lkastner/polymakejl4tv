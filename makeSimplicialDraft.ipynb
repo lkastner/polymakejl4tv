{
 "cells": [
  {
   "cell_type": "code",
   "execution_count": 2,
   "id": "designed-whole",
   "metadata": {},
   "outputs": [
    {
     "name": "stderr",
     "output_type": "stream",
     "text": [
      "\u001b[32m\u001b[1m  Resolving\u001b[22m\u001b[39m package versions...\n",
      "\u001b[32m\u001b[1mNo Changes\u001b[22m\u001b[39m to `~/.julia/environments/v1.5/Project.toml`\n",
      "\u001b[32m\u001b[1mNo Changes\u001b[22m\u001b[39m to `~/.julia/environments/v1.5/Manifest.toml`\n",
      "\u001b[32m\u001b[1m  Resolving\u001b[22m\u001b[39m package versions...\n",
      "\u001b[32m\u001b[1mNo Changes\u001b[22m\u001b[39m to `~/.julia/environments/v1.5/Project.toml`\n",
      "\u001b[32m\u001b[1mNo Changes\u001b[22m\u001b[39m to `~/.julia/environments/v1.5/Manifest.toml`\n"
     ]
    }
   ],
   "source": [
    "import Pkg\n",
    "Pkg.add(\"Oscar\")\n",
    "Pkg.add(\"Polymake\")"
   ]
  },
  {
   "cell_type": "code",
   "execution_count": 1,
   "id": "blank-programming",
   "metadata": {
    "scrolled": true
   },
   "outputs": [
    {
     "name": "stdout",
     "output_type": "stream",
     "text": [
      " -----    -----    -----      -      -----   \n",
      "|     |  |     |  |     |    | |    |     |  \n",
      "|     |  |        |         |   |   |     |  \n",
      "|     |   -----   |        |     |  |-----   \n",
      "|     |        |  |        |-----|  |   |    \n",
      "|     |  |     |  |     |  |     |  |    |   \n",
      " -----    -----    -----   -     -  -     -  \n",
      "\n",
      "...combining (and extending) ANTIC, GAP, Polymake and Singular\n",
      "Version\u001b[32m 0.5.1 \u001b[39m... \n",
      " ... which comes with absolutely no warranty whatsoever\n",
      "Type: '?Oscar' for more information\n",
      "(c) 2019-2021 by The Oscar Development Team\n"
     ]
    }
   ],
   "source": [
    "using Oscar\n",
    "using Polymake"
   ]
  },
  {
   "cell_type": "code",
   "execution_count": 13,
   "id": "right-conjunction",
   "metadata": {},
   "outputs": [
    {
     "data": {
      "text/html": [
       "<dl> <dt>type</dt><dd> NormalToricVariety</dd> </dl><details><summary>INPUT_CONES</summary><pre>{0 1}\n",
       "{1 2}\n",
       "{2 3}\n",
       "{0 3}</pre></details>\n",
       "<details><summary>INPUT_RAYS</summary><pre>0 1\n",
       "1 0\n",
       "0 -1\n",
       "-2 1</pre></details>"
      ],
      "text/plain": [
       "type: NormalToricVariety\n",
       "\n",
       "INPUT_CONES\n",
       "\t{0 1}\n",
       "\t{1 2}\n",
       "\t{2 3}\n",
       "\t{0 3}\n",
       "\n",
       "INPUT_RAYS\n",
       "\t0 1\n",
       "\t1 0\n",
       "\t0 -1\n",
       "\t-2 1\n"
      ]
     },
     "execution_count": 13,
     "metadata": {},
     "output_type": "execute_result"
    }
   ],
   "source": [
    "tv = fulton.NormalToricVariety(INPUT_RAYS=[0 1; 1 0; 0 -1; -2 1]; INPUT_CONES=[[0,1],[1,2],[2,3],[0,3]])"
   ]
  },
  {
   "cell_type": "code",
   "execution_count": 14,
   "id": "perfect-stupid",
   "metadata": {},
   "outputs": [
    {
     "data": {
      "text/html": [
       "false"
      ],
      "text/plain": [
       "false"
      ]
     },
     "execution_count": 14,
     "metadata": {},
     "output_type": "execute_result"
    }
   ],
   "source": [
    "tv.SMOOTH"
   ]
  },
  {
   "cell_type": "code",
   "execution_count": 15,
   "id": "sacred-album",
   "metadata": {},
   "outputs": [
    {
     "data": {
      "text/html": [
       "true"
      ],
      "text/plain": [
       "true"
      ]
     },
     "execution_count": 15,
     "metadata": {},
     "output_type": "execute_result"
    }
   ],
   "source": [
    "tv.SIMPLICIAL"
   ]
  },
  {
   "cell_type": "code",
   "execution_count": 16,
   "id": "digital-roberts",
   "metadata": {},
   "outputs": [
    {
     "data": {
      "text/plain": [
       "pm::Matrix<pm::Rational>\n",
       "0 1\n",
       "1 0\n",
       "0 -1\n",
       "-1 1/2\n"
      ]
     },
     "execution_count": 16,
     "metadata": {},
     "output_type": "execute_result"
    }
   ],
   "source": [
    "tv.RAYS"
   ]
  },
  {
   "cell_type": "code",
   "execution_count": 17,
   "id": "medical-leone",
   "metadata": {},
   "outputs": [
    {
     "data": {
      "text/plain": [
       "pm::IncidenceMatrix<pm::NonSymmetric>\n",
       "{0 1}\n",
       "{1 2}\n",
       "{2 3}\n",
       "{0 3}\n"
      ]
     },
     "execution_count": 17,
     "metadata": {},
     "output_type": "execute_result"
    }
   ],
   "source": [
    "tv.MAXIMAL_CONES"
   ]
  },
  {
   "cell_type": "code",
   "execution_count": 18,
   "id": "overall-peoples",
   "metadata": {},
   "outputs": [
    {
     "data": {
      "text/plain": [
       "slicematrix (generic function with 1 method)"
      ]
     },
     "execution_count": 18,
     "metadata": {},
     "output_type": "execute_result"
    }
   ],
   "source": [
    "function slicematrix(A::AbstractMatrix)\n",
    "    return [A[i, :] for i in 1:size(A,1)]\n",
    "end"
   ]
  },
  {
   "cell_type": "code",
   "execution_count": 19,
   "id": "incorporate-railway",
   "metadata": {},
   "outputs": [
    {
     "data": {
      "text/plain": [
       "rowMinors (generic function with 1 method)"
      ]
     },
     "execution_count": 19,
     "metadata": {},
     "output_type": "execute_result"
    }
   ],
   "source": [
    "function rowMinors(A::AbstractMatrix,S::Set)\n",
    "    outList=[]\n",
    "    slices=slicematrix(A)\n",
    "    for i in 1:size(A,1)\n",
    "        if i in S\n",
    "            append!(outList,slices[i])\n",
    "        end\n",
    "    end\n",
    "    return transpose(hcat(outList...))\n",
    "end"
   ]
  },
  {
   "cell_type": "code",
   "execution_count": 20,
   "id": "specific-alcohol",
   "metadata": {},
   "outputs": [
    {
     "data": {
      "text/html": [
       "[$1$, $2$]"
      ],
      "text/plain": [
       "2-element Array{Int64,1}:\n",
       " 1\n",
       " 2"
      ]
     },
     "execution_count": 20,
     "metadata": {},
     "output_type": "execute_result"
    }
   ],
   "source": [
    "findall(a -> a, tv.MAXIMAL_CONES[1,:])"
   ]
  },
  {
   "cell_type": "code",
   "execution_count": 21,
   "id": "crude-westminster",
   "metadata": {},
   "outputs": [
    {
     "data": {
      "text/plain": [
       "pm::Matrix<pm::Rational>\n",
       "0 -1\n",
       "-1 1/2\n"
      ]
     },
     "execution_count": 21,
     "metadata": {},
     "output_type": "execute_result"
    }
   ],
   "source": [
    "# Get the rays of maximal cone i (tv.MAXIMAL_CONES[i,:] will get the incidence matrix booleans)\n",
    "# findall gets the indices of the \"true\"s, then we take those specific rows\n",
    "i = 3\n",
    "coneRays = tv.RAYS[findall(bool -> bool, tv.MAXIMAL_CONES[i,:]),:]"
   ]
  },
  {
   "cell_type": "code",
   "execution_count": 57,
   "id": "stupid-connectivity",
   "metadata": {},
   "outputs": [
    {
     "data": {
      "text/html": [
       "$2$"
      ],
      "text/plain": [
       "2"
      ]
     },
     "execution_count": 57,
     "metadata": {},
     "output_type": "execute_result"
    }
   ],
   "source": [
    "# Seems to require cast to generic matrix in order to calculate rank\n",
    "rank(Matrix(tv.RAYS))\n",
    "# findfirst"
   ]
  },
  {
   "cell_type": "code",
   "execution_count": 59,
   "id": "dutch-irrigation",
   "metadata": {},
   "outputs": [
    {
     "data": {
      "text/html": [
       "$2$"
      ],
      "text/plain": [
       "2"
      ]
     },
     "execution_count": 59,
     "metadata": {},
     "output_type": "execute_result"
    }
   ],
   "source": [
    "rank(Matrix(coneRays))"
   ]
  },
  {
   "cell_type": "code",
   "execution_count": 66,
   "id": "straight-atlantic",
   "metadata": {},
   "outputs": [
    {
     "data": {
      "text/plain": [
       "getConeRank (generic function with 1 method)"
      ]
     },
     "execution_count": 66,
     "metadata": {},
     "output_type": "execute_result"
    }
   ],
   "source": [
    "function getConeRank(coneRayIndices, rayMatrix)\n",
    "    coneRays = tv.RAYS[findall(bool -> bool, coneRayIndices),:]\n",
    "    return rank(Matrix(coneRays))\n",
    "end"
   ]
  },
  {
   "cell_type": "code",
   "execution_count": 72,
   "id": "prompt-companion",
   "metadata": {},
   "outputs": [
    {
     "data": {
      "text/plain": [
       "Nothing"
      ]
     },
     "execution_count": 72,
     "metadata": {},
     "output_type": "execute_result"
    }
   ],
   "source": [
    "badCone = Nothing"
   ]
  },
  {
   "cell_type": "code",
   "execution_count": 80,
   "id": "several-haven",
   "metadata": {},
   "outputs": [
    {
     "data": {
      "text/plain": [
       "getDimension (generic function with 1 method)"
      ]
     },
     "execution_count": 80,
     "metadata": {},
     "output_type": "execute_result"
    }
   ],
   "source": [
    "function getDimension(X)\n",
    "    return size(X.RAYS, 2)\n",
    "end"
   ]
  },
  {
   "cell_type": "code",
   "execution_count": 81,
   "id": "polyphonic-entrance",
   "metadata": {},
   "outputs": [
    {
     "data": {
      "text/html": [
       "$2$"
      ],
      "text/plain": [
       "2"
      ]
     },
     "execution_count": 81,
     "metadata": {},
     "output_type": "execute_result"
    }
   ],
   "source": [
    "getDimension(tv)"
   ]
  },
  {
   "cell_type": "code",
   "execution_count": null,
   "id": "democratic-softball",
   "metadata": {},
   "outputs": [],
   "source": [
    "function makeSimplicial(X)\n",
    "    Y = copy(X)\n",
    "    while (true)\n",
    "        # Maximal cones and ray matrix\n",
    "        coneList = Y.MAXIMAL_CONES\n",
    "        rayMatrix = Y.RAYS\n",
    "        badCone = Nothing\n",
    "        for i in 1:size(coneList,1)\n",
    "            cone = coneList[i,:]\n",
    "            if (getConeRank(cone, rayMatrix) != size(cone))\n",
    "                badCone = cone\n",
    "            end\n",
    "        end\n",
    "        \n",
    "        if (badCone == Nothing)\n",
    "            # All cones are linearly independent\n",
    "            break\n",
    "        else\n",
    "            # Use some function to get dimension of the fan\n",
    "            # Calculate codimension of cone\n",
    "            c = 1 + getDimension(Y) - rank(Matrix(rayMatrix))\n",
    "            i = 0\n",
    "            # Find the first ray that is contained in more than one orbit\n",
    "            # and subdivide at that ray, using toricBlowup\n",
    "            \n",
    "            # Macaulay2 code\n",
    "            #edges := select (orbits (Y,c), r -> all(r, j -> member (j,s)));\n",
    "            #find the orbits of Y of dimension c that are contained in s\n",
    "            #while select (edges, r -> not member (s#i,r)) === 1 do i = i+1;\n",
    "            #find the first ray that is contained in more than one orbit\n",
    "            #Y = toricBlowup({s#i},Y) )\n",
    "            #subdivide at that ray\n",
    "        end\n",
    "        # findfirst does not seem to work with the MAXIMAL_CONES array\n",
    "        #k = findfirst(cone -> (getConeRank(cone, tv.RAYS) != size(cone)), eachrow(coneList))\n",
    "    end\n",
    "    return Y\n",
    "end\n",
    "        "
   ]
  }
 ],
 "metadata": {
  "kernelspec": {
   "display_name": "Julia 1.5.3",
   "language": "julia",
   "name": "julia-1.5"
  },
  "language_info": {
   "file_extension": ".jl",
   "mimetype": "application/julia",
   "name": "julia",
   "version": "1.5.3"
  }
 },
 "nbformat": 4,
 "nbformat_minor": 5
}
