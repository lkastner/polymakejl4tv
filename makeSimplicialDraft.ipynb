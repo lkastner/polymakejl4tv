{
 "cells": [
  {
   "cell_type": "code",
   "execution_count": 2,
   "metadata": {},
   "outputs": [
    {
     "name": "stderr",
     "output_type": "stream",
     "text": [
      "\u001b[32m\u001b[1m  Resolving\u001b[22m\u001b[39m package versions...\n",
      "\u001b[32m\u001b[1mNo Changes\u001b[22m\u001b[39m to `~/.julia/environments/v1.5/Project.toml`\n",
      "\u001b[32m\u001b[1mNo Changes\u001b[22m\u001b[39m to `~/.julia/environments/v1.5/Manifest.toml`\n",
      "\u001b[32m\u001b[1m  Resolving\u001b[22m\u001b[39m package versions...\n",
      "\u001b[32m\u001b[1mNo Changes\u001b[22m\u001b[39m to `~/.julia/environments/v1.5/Project.toml`\n",
      "\u001b[32m\u001b[1mNo Changes\u001b[22m\u001b[39m to `~/.julia/environments/v1.5/Manifest.toml`\n"
     ]
    }
   ],
   "source": [
    "import Pkg\n",
    "Pkg.add(\"Oscar\")\n",
    "Pkg.add(\"Polymake\")\n",
    "Pkg.add(\"Combinatorics\")"
   ]
  },
  {
   "cell_type": "code",
   "execution_count": 1,
   "metadata": {
    "scrolled": true
   },
   "outputs": [
    {
     "name": "stdout",
     "output_type": "stream",
     "text": [
      " -----    -----    -----      -      -----   \n",
      "|     |  |     |  |     |    | |    |     |  \n",
      "|     |  |        |         |   |   |     |  \n",
      "|     |   -----   |        |     |  |-----   \n",
      "|     |        |  |        |-----|  |   |    \n",
      "|     |  |     |  |     |  |     |  |    |   \n",
      " -----    -----    -----   -     -  -     -  \n",
      "\n",
      "...combining (and extending) ANTIC, GAP, Polymake and Singular\n",
      "Version\u001b[32m 0.5.1 \u001b[39m... \n",
      " ... which comes with absolutely no warranty whatsoever\n",
      "Type: '?Oscar' for more information\n",
      "(c) 2019-2021 by The Oscar Development Team\n"
     ]
    }
   ],
   "source": [
    "using Oscar\n",
    "using Polymake\n",
    "using Combinatorics"
   ]
  },
  {
   "cell_type": "code",
   "execution_count": 13,
   "metadata": {},
   "outputs": [
    {
     "data": {
      "text/html": [
       "<dl> <dt>type</dt><dd> NormalToricVariety</dd> </dl><details><summary>INPUT_CONES</summary><pre>{0 1}\n",
       "{1 2}\n",
       "{2 3}\n",
       "{0 3}</pre></details>\n",
       "<details><summary>INPUT_RAYS</summary><pre>0 1\n",
       "1 0\n",
       "0 -1\n",
       "-2 1</pre></details>"
      ],
      "text/plain": [
       "type: NormalToricVariety\n",
       "\n",
       "INPUT_CONES\n",
       "\t{0 1}\n",
       "\t{1 2}\n",
       "\t{2 3}\n",
       "\t{0 3}\n",
       "\n",
       "INPUT_RAYS\n",
       "\t0 1\n",
       "\t1 0\n",
       "\t0 -1\n",
       "\t-2 1\n"
      ]
     },
     "execution_count": 13,
     "metadata": {},
     "output_type": "execute_result"
    }
   ],
   "source": [
    "tv = fulton.NormalToricVariety(INPUT_RAYS=[0 1; 1 0; 0 -1; -2 1]; INPUT_CONES=[[0,1],[1,2],[2,3],[0,3]])"
   ]
  },
  {
   "cell_type": "code",
   "execution_count": 14,
   "metadata": {},
   "outputs": [
    {
     "data": {
      "text/html": [
       "false"
      ],
      "text/plain": [
       "false"
      ]
     },
     "execution_count": 14,
     "metadata": {},
     "output_type": "execute_result"
    }
   ],
   "source": [
    "tv.SMOOTH"
   ]
  },
  {
   "cell_type": "code",
   "execution_count": 15,
   "metadata": {},
   "outputs": [
    {
     "data": {
      "text/html": [
       "true"
      ],
      "text/plain": [
       "true"
      ]
     },
     "execution_count": 15,
     "metadata": {},
     "output_type": "execute_result"
    }
   ],
   "source": [
    "tv.SIMPLICIAL"
   ]
  },
  {
   "cell_type": "code",
   "execution_count": 16,
   "metadata": {},
   "outputs": [
    {
     "data": {
      "text/plain": [
       "pm::Matrix<pm::Rational>\n",
       "0 1\n",
       "1 0\n",
       "0 -1\n",
       "-1 1/2\n"
      ]
     },
     "execution_count": 16,
     "metadata": {},
     "output_type": "execute_result"
    }
   ],
   "source": [
    "tv.RAYS"
   ]
  },
  {
   "cell_type": "code",
   "execution_count": 17,
   "metadata": {
    "scrolled": true
   },
   "outputs": [
    {
     "data": {
      "text/plain": [
       "pm::IncidenceMatrix<pm::NonSymmetric>\n",
       "{0 1}\n",
       "{1 2}\n",
       "{2 3}\n",
       "{0 3}\n"
      ]
     },
     "execution_count": 17,
     "metadata": {},
     "output_type": "execute_result"
    }
   ],
   "source": [
    "tv.MAXIMAL_CONES"
   ]
  },
  {
   "cell_type": "code",
   "execution_count": 18,
   "metadata": {},
   "outputs": [
    {
     "data": {
      "text/plain": [
       "slicematrix (generic function with 1 method)"
      ]
     },
     "execution_count": 18,
     "metadata": {},
     "output_type": "execute_result"
    }
   ],
   "source": [
    "function slicematrix(A::AbstractMatrix)\n",
    "    return [A[i, :] for i in 1:size(A,1)]\n",
    "end"
   ]
  },
  {
   "cell_type": "code",
   "execution_count": 19,
   "metadata": {},
   "outputs": [
    {
     "data": {
      "text/plain": [
       "rowMinors (generic function with 1 method)"
      ]
     },
     "execution_count": 19,
     "metadata": {},
     "output_type": "execute_result"
    }
   ],
   "source": [
    "function rowMinors(A::AbstractMatrix,S::Set)\n",
    "    outList=[]\n",
    "    slices=slicematrix(A)\n",
    "    for i in 1:size(A,1)\n",
    "        if i in S\n",
    "            append!(outList,slices[i])\n",
    "        end\n",
    "    end\n",
    "    return transpose(hcat(outList...))\n",
    "end"
   ]
  },
  {
   "cell_type": "code",
   "execution_count": 21,
   "metadata": {},
   "outputs": [
    {
     "data": {
      "text/plain": [
       "pm::Matrix<pm::Rational>\n",
       "0 -1\n",
       "-1 1/2\n"
      ]
     },
     "execution_count": 21,
     "metadata": {},
     "output_type": "execute_result"
    }
   ],
   "source": [
    "# Get the rays of maximal cone i (tv.MAXIMAL_CONES[i,:] will get the incidence matrix booleans)\n",
    "# findall gets the indices of the \"true\"s, then we take those specific rows\n",
    "i = 3\n",
    "coneRays = tv.RAYS[findall(bool -> bool, tv.MAXIMAL_CONES[i,:]),:]"
   ]
  },
  {
   "cell_type": "code",
   "execution_count": 57,
   "metadata": {},
   "outputs": [
    {
     "data": {
      "text/html": [
       "$2$"
      ],
      "text/plain": [
       "2"
      ]
     },
     "execution_count": 57,
     "metadata": {},
     "output_type": "execute_result"
    }
   ],
   "source": [
    "# Seems to require cast to generic matrix in order to calculate rank\n",
    "rank(Matrix(tv.RAYS))"
   ]
  },
  {
   "cell_type": "code",
   "execution_count": 59,
   "metadata": {},
   "outputs": [
    {
     "data": {
      "text/html": [
       "$2$"
      ],
      "text/plain": [
       "2"
      ]
     },
     "execution_count": 59,
     "metadata": {},
     "output_type": "execute_result"
    }
   ],
   "source": [
    "rank(Matrix(coneRays))"
   ]
  },
  {
   "cell_type": "code",
   "execution_count": 1,
   "metadata": {},
   "outputs": [
    {
     "data": {
      "text/plain": [
       "getConeRays (generic function with 1 method)"
      ]
     },
     "execution_count": 1,
     "metadata": {},
     "output_type": "execute_result"
    }
   ],
   "source": [
    "function getConeRays(coneRayIndices, rayMatrix)\n",
    "    return tv.RAYS[findall(bool -> bool, coneRayIndices),:]\n",
    "end"
   ]
  },
  {
   "cell_type": "code",
   "execution_count": 2,
   "metadata": {},
   "outputs": [
    {
     "data": {
      "text/plain": [
       "getConeRank (generic function with 1 method)"
      ]
     },
     "execution_count": 2,
     "metadata": {},
     "output_type": "execute_result"
    }
   ],
   "source": [
    "function getConeRank(coneRayIndices, rayMatrix)\n",
    "    coneRays = getConeRays(coneRayIndices, rayMatrix)\n",
    "    return rank(Matrix(coneRays))\n",
    "end"
   ]
  },
  {
   "cell_type": "code",
   "execution_count": 80,
   "metadata": {},
   "outputs": [
    {
     "data": {
      "text/plain": [
       "getDimension (generic function with 1 method)"
      ]
     },
     "execution_count": 80,
     "metadata": {},
     "output_type": "execute_result"
    }
   ],
   "source": [
    "function getDimension(X)\n",
    "    return size(X.RAYS, 2)\n",
    "end"
   ]
  },
  {
   "cell_type": "code",
   "execution_count": 81,
   "metadata": {},
   "outputs": [
    {
     "data": {
      "text/html": [
       "$2$"
      ],
      "text/plain": [
       "2"
      ]
     },
     "execution_count": 81,
     "metadata": {},
     "output_type": "execute_result"
    }
   ],
   "source": [
    "getDimension(tv)"
   ]
  },
  {
   "cell_type": "code",
   "execution_count": 6,
   "metadata": {},
   "outputs": [
    {
     "name": "stdout",
     "output_type": "stream",
     "text": [
      "[1, 2, 4]\n",
      "[1, 2, 4]\n"
     ]
    }
   ],
   "source": [
    "a = [1,2,3,4]\n",
    "println(deleteat!(a, 3))\n",
    "println(a)"
   ]
  },
  {
   "cell_type": "code",
   "execution_count": 7,
   "metadata": {},
   "outputs": [
    {
     "data": {
      "text/plain": [
       "getConeFaces (generic function with 1 method)"
      ]
     },
     "execution_count": 7,
     "metadata": {},
     "output_type": "execute_result"
    }
   ],
   "source": [
    "function getConeFaces(coneRayIndices, rayMatrix)\n",
    "    outCones = []\n",
    "    # We want to find cones with dimension 1 less than the original\n",
    "    # Calculate dimension of cone - 1\n",
    "    c = getConeRank(coneRayIndices, rayMatrix) - 1\n",
    "    for i in 1:size(coneRayIndices)\n",
    "        # Iterate through the cone rays in order to iterate through\n",
    "        # all subcones that are missing one ray from the original\n",
    "        subcone = deleteat!(copy(coneRayIndices), i)\n",
    "        \n",
    "        # Check that it has dimension 1 less than the original\n",
    "        if (getConeRank(subcone, rayMatrix) == c)\n",
    "            push!(outCones, subcone)\n",
    "        end\n",
    "    end\n",
    "    # for subcone in powerset(coneRayIndices, min=1, max=length(a)-1)\n",
    "        # if (getConeRank(subcone, rayMatrix) == c)\n",
    "            # push!(outCones, subcone)\n",
    "    # end\n",
    "    \n",
    "    return outCones\n",
    "    # This code may be incorrect, since I am not sure whether we\n",
    "    # need to consider subcones missing more than 1 ray\n",
    "end"
   ]
  },
  {
   "cell_type": "code",
   "execution_count": 1,
   "metadata": {},
   "outputs": [
    {
     "data": {
      "text/plain": [
       "makeSimplicial (generic function with 1 method)"
      ]
     },
     "execution_count": 1,
     "metadata": {},
     "output_type": "execute_result"
    }
   ],
   "source": [
    "function makeSimplicial(X)\n",
    "    Y = copy(X)\n",
    "    while (true)\n",
    "        # Maximal cones and ray matrix\n",
    "        coneList = Y.MAXIMAL_CONES\n",
    "        rayMatrix = Y.RAYS\n",
    "        badCone = Nothing\n",
    "        for i in 1:size(coneList,1)\n",
    "            cone = coneList[i,:]\n",
    "            if (getConeRank(cone, rayMatrix) != size(cone))\n",
    "                badCone = cone\n",
    "            end\n",
    "        end\n",
    "        \n",
    "        if (badCone == Nothing)\n",
    "            # All cones are linearly independent\n",
    "            break\n",
    "        else\n",
    "            # Find the first ray that is contained in more than one orbit\n",
    "            # and subdivide at that ray, using toricBlowup\n",
    "            \n",
    "            # Get faces\n",
    "            edges = getConeFaces(badCone, rayMatrix)\n",
    "            # Find the first ray that is contained in more than one orbit\n",
    "            i = 1\n",
    "            while count(r->(badCone[i] in r), edges) == 1\n",
    "                i += 1\n",
    "            end\n",
    "            # Subdivide at the cone containing just that ray\n",
    "            Y = toricBlowup([badCone[i]], Y)\n",
    "        end\n",
    "        # Repeat this process until there are no more bad cones\n",
    "    end\n",
    "    return Y\n",
    "end\n",
    "        "
   ]
  },
  {
   "cell_type": "code",
   "execution_count": null,
   "metadata": {},
   "outputs": [],
   "source": []
  }
 ],
 "metadata": {
  "kernelspec": {
   "display_name": "Julia 1.5.3",
   "language": "julia",
   "name": "julia-1.5"
  },
  "language_info": {
   "file_extension": ".jl",
   "mimetype": "application/julia",
   "name": "julia",
   "version": "1.5.3"
  }
 },
 "nbformat": 4,
 "nbformat_minor": 5
}
