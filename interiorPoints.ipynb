{
 "cells": [
  {
   "cell_type": "code",
   "execution_count": null,
   "id": "renewable-texas",
   "metadata": {},
   "outputs": [],
   "source": []
  },
  {
   "cell_type": "code",
   "execution_count": null,
   "id": "stuffed-marina",
   "metadata": {},
   "outputs": [],
   "source": []
  },
  {
   "cell_type": "code",
   "execution_count": null,
   "id": "loose-voluntary",
   "metadata": {},
   "outputs": [],
   "source": []
  },
  {
   "cell_type": "code",
   "execution_count": null,
   "id": "medieval-testimony",
   "metadata": {},
   "outputs": [],
   "source": []
  },
  {
   "cell_type": "code",
   "execution_count": 22,
   "id": "fatty-maintenance",
   "metadata": {},
   "outputs": [
    {
     "data": {
      "text/plain": [
       "interiorPoints (generic function with 1 method)"
      ]
     },
     "execution_count": 22,
     "metadata": {},
     "output_type": "execute_result"
    }
   ],
   "source": [
    "using Oscar\n",
    "using Combinatorics\n",
    "\n",
    "function interiorPoints(C)\n",
    "    rayMatrix=Array(Polymake.common.primitive(C.RAYS))\n",
    "    l=size(rayMatrix,1)\n",
    "    dim=size(rayMatrix,2)\n",
    "    if rank(rayMatrix)<l\n",
    "        error(\"Input cone is not simplicial.\")\n",
    "    end\n",
    "    subsets=collect(powerset([1:l;]))\n",
    "    vertices=[]\n",
    "    for elt in subsets\n",
    "        vert=zeros(Polymake.Rational,1,dim)\n",
    "        for i in 1:l\n",
    "            if i in elt\n",
    "                vert+=rayMatrix[[i],:]\n",
    "            end\n",
    "        end\n",
    "        append!(vertices,[vert])\n",
    "    end\n",
    "    V=vcat(vertices...)\n",
    "    VH=hcat(ones(Polymake.Rational,size(V,1)),V)\n",
    "    P=Polymake.polytope.Polytope(POINTS=VH)\n",
    "    #print(P.POINTS)\n",
    "    if size(P.INTERIOR_LATTICE_POINTS,1)==0\n",
    "        return nothing\n",
    "    end\n",
    "    intPoints=Array(P.INTERIOR_LATTICE_POINTS)[:,2:(dim+1)]\n",
    "    validPoints=[]\n",
    "    #return intPoints\n",
    "    for i in 1:size(intPoints,1)\n",
    "        point=intPoints[i,:]\n",
    "        if gcd(point)==1\n",
    "            append!(validPoints,[point])\n",
    "        end\n",
    "    end\n",
    "    return Array(vcat(validPoints...))\n",
    "end"
   ]
  },
  {
   "cell_type": "code",
   "execution_count": 23,
   "id": "genuine-peace",
   "metadata": {},
   "outputs": [
    {
     "data": {
      "text/html": [
       "[$1$, $1$]"
      ],
      "text/plain": [
       "2-element Array{Polymake.Integer,1}:\n",
       " 1\n",
       " 1"
      ]
     },
     "execution_count": 23,
     "metadata": {},
     "output_type": "execute_result"
    }
   ],
   "source": [
    "C=Polymake.polytope.Cone(RAYS=[1 2;2 1])\n",
    "A=interiorPoints(C)"
   ]
  },
  {
   "cell_type": "code",
   "execution_count": null,
   "id": "retired-signal",
   "metadata": {},
   "outputs": [],
   "source": []
  },
  {
   "cell_type": "code",
   "execution_count": null,
   "id": "painted-dealer",
   "metadata": {},
   "outputs": [],
   "source": []
  },
  {
   "cell_type": "code",
   "execution_count": null,
   "id": "superior-startup",
   "metadata": {},
   "outputs": [],
   "source": []
  }
 ],
 "metadata": {
  "kernelspec": {
   "display_name": "Julia 1.5.3",
   "language": "julia",
   "name": "julia-1.5"
  },
  "language_info": {
   "file_extension": ".jl",
   "mimetype": "application/julia",
   "name": "julia",
   "version": "1.5.3"
  }
 },
 "nbformat": 4,
 "nbformat_minor": 5
}
