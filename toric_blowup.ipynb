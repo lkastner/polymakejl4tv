{
 "cells": [
  {
   "cell_type": "code",
   "execution_count": 3,
   "id": "concrete-employer",
   "metadata": {},
   "outputs": [
    {
     "name": "stdout",
     "output_type": "stream",
     "text": [
      " -----    -----    -----      -      -----   \n",
      "|     |  |     |  |     |    | |    |     |  \n",
      "|     |  |        |         |   |   |     |  \n",
      "|     |   -----   |        |     |  |-----   \n",
      "|     |        |  |        |-----|  |   |    \n",
      "|     |  |     |  |     |  |     |  |    |   \n",
      " -----    -----    -----   -     -  -     -  \n",
      "\n",
      "...combining (and extending) ANTIC, GAP, Polymake and Singular\n",
      "Version\u001b[32m 0.5.1 \u001b[39m... \n",
      " ... which comes with absolutely no warranty whatsoever\n",
      "Type: '?Oscar' for more information\n",
      "(c) 2019-2021 by The Oscar Development Team\n"
     ]
    }
   ],
   "source": [
    "using Oscar\n",
    "using Polymake"
   ]
  },
  {
   "cell_type": "code",
   "execution_count": 4,
   "id": "sharing-channels",
   "metadata": {},
   "outputs": [
    {
     "data": {
      "text/plain": [
       "slicematrix (generic function with 1 method)"
      ]
     },
     "execution_count": 4,
     "metadata": {},
     "output_type": "execute_result"
    }
   ],
   "source": [
    "function slicematrix(A)\n",
    "    return [A[i, :] for i in 1:size(A,1)]\n",
    "end"
   ]
  },
  {
   "cell_type": "code",
   "execution_count": 5,
   "id": "overhead-headset",
   "metadata": {},
   "outputs": [
    {
     "data": {
      "text/plain": [
       "rowMinors (generic function with 1 method)"
      ]
     },
     "execution_count": 5,
     "metadata": {},
     "output_type": "execute_result"
    }
   ],
   "source": [
    "function rowMinors(A,S)\n",
    "    outList=[]\n",
    "    slices=slicematrix(A)\n",
    "    for i in 1:size(slices,1)\n",
    "        if i in S\n",
    "            append!(outList,[slices[i]])\n",
    "        end\n",
    "    end\n",
    "    return transpose(hcat(outList...))\n",
    "end"
   ]
  },
  {
   "cell_type": "code",
   "execution_count": 6,
   "id": "wound-october",
   "metadata": {},
   "outputs": [
    {
     "data": {
      "text/plain": [
       "convertIncidenceMatrix (generic function with 1 method)"
      ]
     },
     "execution_count": 6,
     "metadata": {},
     "output_type": "execute_result"
    }
   ],
   "source": [
    "function convertIncidenceMatrix(A)\n",
    "    A=Array(A)\n",
    "    dim1=size(A,1)\n",
    "    dim2=size(A,2)\n",
    "    out=[]\n",
    "    for i in 1:dim1\n",
    "        members=[]\n",
    "        for j in 1:dim2\n",
    "            if A[i,j]==true\n",
    "                append!(members,j)\n",
    "            end\n",
    "        end\n",
    "        append!(out,[members])\n",
    "    end\n",
    "    return convert.(Array{Int64, 1}, out)\n",
    "end\n",
    "    "
   ]
  },
  {
   "cell_type": "code",
   "execution_count": 7,
   "id": "amazing-ebony",
   "metadata": {},
   "outputs": [
    {
     "data": {
      "text/plain": [
       "coneListFormat (generic function with 1 method)"
      ]
     },
     "execution_count": 7,
     "metadata": {},
     "output_type": "execute_result"
    }
   ],
   "source": [
    "function coneListFormat(coneList)\n",
    "    memberList=[]\n",
    "    denseList=slicematrix(coneList)\n",
    "    for row in denseList\n",
    "        members=[]\n",
    "        for i in 1:size(row,1)\n",
    "            if row[i]==1\n",
    "                append!(members,i)\n",
    "            end\n",
    "        end\n",
    "        append!(memberList,[members])\n",
    "    end\n",
    "    return memberList\n",
    "end\n",
    " "
   ]
  },
  {
   "cell_type": "code",
   "execution_count": 21,
   "id": "guilty-trinidad",
   "metadata": {},
   "outputs": [
    {
     "data": {
      "text/plain": [
       "toric_blowup (generic function with 1 method)"
      ]
     },
     "execution_count": 21,
     "metadata": {},
     "output_type": "execute_result"
    }
   ],
   "source": [
    "function toric_blowup(s, X, v)\n",
    "    s = [i + 1 for i in s]\n",
    "    coneList = convertIncidenceMatrix(X.MAXIMAL_CONES)\n",
    "    starIndex = findall((t) -> all(((i) -> i in t).(s)), coneList)\n",
    "    star = [coneList[i] for i in starIndex]\n",
    "    rayMatrix = X.RAYS\n",
    "    \n",
    "    lattice = X.HASSE_DIAGRAM\n",
    "    faces = @Polymake.convert_to Array{Set{Int}} lattice.FACES\n",
    "    \n",
    "    clStar = []\n",
    "    for t in star\n",
    "        c = rank(Array(rowMinors(rayMatrix, t))) - 1\n",
    "        rank_c_subcone_indices = @Polymake.convert_to Array{Int} Polymake.graph.nodes_of_rank(lattice,c)\n",
    "        rank_c_subcones = [faces[i + 1] for i in rank_c_subcone_indices]\n",
    "        for cone in rank_c_subcones\n",
    "            new_cone = [i+1 for i in cone]\n",
    "            if all((i -> i in t).(new_cone))\n",
    "                push!(clStar, new_cone)\n",
    "            end\n",
    "        end\n",
    "    end\n",
    "    clStar = unique(clStar)\n",
    "    \n",
    "    n = size(rayMatrix, 1) + 1\n",
    "    coneList = filter(x -> !(x in star), coneList)\n",
    "    \n",
    "    if length(s) == 1\n",
    "        newCones = []\n",
    "        for t in clStar\n",
    "            if !(s[1] in t)\n",
    "                push!(newCones, sort(push!(t, s[1])))\n",
    "            end\n",
    "        end\n",
    "        finalCones = [[i - 1 for i in cone] for cone in append!(coneList, newCones)]\n",
    "        return fulton.NormalToricVariety(INPUT_RAYS = Array(X.RAYS), INPUT_CONES = append!(coneList, newCones))\n",
    "    end\n",
    "    newCones = []\n",
    "    for t in clStar\n",
    "        if any(((i) -> !(i in t)).(s))\n",
    "            push!(newCones, push!(t, n))\n",
    "        end\n",
    "    end\n",
    "    \n",
    "    finalRays = [(X.RAYS); v]\n",
    "    finalCones = [[i - 1 for i in cone] for cone in append!(coneList, newCones)]\n",
    "    \n",
    "    return fulton.NormalToricVariety(INPUT_RAYS = finalRays, INPUT_CONES = finalCones)\n",
    "end"
   ]
  },
  {
   "cell_type": "code",
   "execution_count": 22,
   "id": "affecting-lingerie",
   "metadata": {},
   "outputs": [
    {
     "data": {
      "text/plain": [
       "toric_blowup (generic function with 2 methods)"
      ]
     },
     "execution_count": 22,
     "metadata": {},
     "output_type": "execute_result"
    }
   ],
   "source": [
    "function toric_blowup(s,X)\n",
    "    rays = rowMinors(Array(X.RAYS), s)\n",
    "end"
   ]
  },
  {
   "cell_type": "code",
   "execution_count": 17,
   "id": "naked-maryland",
   "metadata": {},
   "outputs": [
    {
     "data": {
      "text/html": [
       "<dl> <dt>type</dt><dd> NormalToricVariety</dd> </dl><details><summary>INPUT_CONES</summary><pre>{0 1}</pre></details>\n",
       "<details><summary>INPUT_RAYS</summary><pre>1 0\n",
       "1 2</pre></details>"
      ],
      "text/plain": [
       "type: NormalToricVariety\n",
       "\n",
       "INPUT_CONES\n",
       "\t{0 1}\n",
       "\n",
       "INPUT_RAYS\n",
       "\t1 0\n",
       "\t1 2\n"
      ]
     },
     "execution_count": 17,
     "metadata": {},
     "output_type": "execute_result"
    }
   ],
   "source": [
    "tv = fulton.NormalToricVariety(INPUT_RAYS=[1 0; 1 2]; INPUT_CONES=[[0,1]])"
   ]
  },
  {
   "cell_type": "code",
   "execution_count": 18,
   "id": "offensive-release",
   "metadata": {},
   "outputs": [
    {
     "data": {
      "text/html": [
       "false"
      ],
      "text/plain": [
       "false"
      ]
     },
     "execution_count": 18,
     "metadata": {},
     "output_type": "execute_result"
    }
   ],
   "source": [
    "tv.SMOOTH"
   ]
  },
  {
   "cell_type": "code",
   "execution_count": 19,
   "id": "chicken-seven",
   "metadata": {},
   "outputs": [
    {
     "name": "stdout",
     "output_type": "stream",
     "text": [
      "s:[1, 2]\n",
      "coneList: [[1, 2]]\n",
      "star: [[1, 2]]\n",
      "faces:pm::Array<pm::Set<long, pm::operations::cmp>>\n",
      "{-1}\n",
      "{0 1}\n",
      "{0}\n",
      "{1}\n",
      "{}\n",
      "\n",
      "c: 1\n",
      "rank c subcones:Polymake.SetAllocated{Int64}[pm::Set<long, pm::operations::cmp>\n",
      "{0}, pm::Set<long, pm::operations::cmp>\n",
      "{1}]\n",
      "clStar: Any[[1], [2]]\n",
      "coneList: Array{Int64,1}[]\n"
     ]
    },
    {
     "data": {
      "text/html": [
       "<dl> <dt>type</dt><dd> NormalToricVariety</dd> </dl><details><summary>INPUT_CONES</summary><pre>{0 2}\n",
       "{1 2}</pre></details>\n",
       "<details><summary>INPUT_RAYS</summary><pre>1 0\n",
       "1 2\n",
       "1 1</pre></details>"
      ],
      "text/plain": [
       "type: NormalToricVariety\n",
       "\n",
       "INPUT_CONES\n",
       "\t{0 2}\n",
       "\t{1 2}\n",
       "\n",
       "INPUT_RAYS\n",
       "\t1 0\n",
       "\t1 2\n",
       "\t1 1\n"
      ]
     },
     "execution_count": 19,
     "metadata": {},
     "output_type": "execute_result"
    }
   ],
   "source": [
    "out = toric_blowup([0,1], tv, [1 1])"
   ]
  },
  {
   "cell_type": "code",
   "execution_count": 20,
   "id": "gorgeous-iceland",
   "metadata": {},
   "outputs": [
    {
     "data": {
      "text/html": [
       "true"
      ],
      "text/plain": [
       "true"
      ]
     },
     "execution_count": 20,
     "metadata": {},
     "output_type": "execute_result"
    }
   ],
   "source": [
    "out.SMOOTH"
   ]
  },
  {
   "cell_type": "code",
   "execution_count": null,
   "id": "tested-reason",
   "metadata": {},
   "outputs": [],
   "source": [
    "\n",
    "\n",
    "coneList = convertIncidenceMatrix(tv.MAXIMAL_CONES)\n",
    "starIndex = findall((t) -> all(((i) -> i in t).(s)), coneList)\n",
    "star = rowMinors(coneList, starIndex)\n",
    "println(star)\n",
    "coneList = convert.(Array{Int64, 1}, coneList)\n",
    "starIndex = findall((t) -> all(((i) -> i in t).(s)), coneList)\n",
    "star = rowMinors(coneList, starIndex)\n",
    "println(star)\n",
    "rayMatrix = tv.RAYS"
   ]
  },
  {
   "cell_type": "code",
   "execution_count": 14,
   "id": "terminal-design",
   "metadata": {},
   "outputs": [
    {
     "data": {
      "text/html": [
       "[$0$, $1$, $2$, $3$]"
      ],
      "text/plain": [
       "4-element Array{Int64,1}:\n",
       " 0\n",
       " 1\n",
       " 2\n",
       " 3"
      ]
     },
     "execution_count": 14,
     "metadata": {},
     "output_type": "execute_result"
    }
   ],
   "source": [
    "append!([0], [1 2 3])"
   ]
  },
  {
   "cell_type": "code",
   "execution_count": 16,
   "id": "sexual-domain",
   "metadata": {},
   "outputs": [
    {
     "name": "stdout",
     "output_type": "stream",
     "text": [
      "Any[1, 2, 3]"
     ]
    }
   ],
   "source": [
    "hi = []\n",
    "append!(hi, [1,2,3])\n",
    "print(hi)"
   ]
  },
  {
   "cell_type": "code",
   "execution_count": null,
   "id": "infrared-broadcasting",
   "metadata": {},
   "outputs": [],
   "source": []
  }
 ],
 "metadata": {
  "kernelspec": {
   "display_name": "Julia 1.5.3",
   "language": "julia",
   "name": "julia-1.5"
  },
  "language_info": {
   "file_extension": ".jl",
   "mimetype": "application/julia",
   "name": "julia",
   "version": "1.5.3"
  }
 },
 "nbformat": 4,
 "nbformat_minor": 5
}
