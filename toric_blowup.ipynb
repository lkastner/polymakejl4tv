{
 "cells": [
  {
   "cell_type": "code",
   "execution_count": 8,
   "id": "governmental-identifier",
   "metadata": {},
   "outputs": [
    {
     "name": "stdout",
     "output_type": "stream",
     "text": [
      " -----    -----    -----      -      -----   \n",
      "|     |  |     |  |     |    | |    |     |  \n",
      "|     |  |        |         |   |   |     |  \n",
      "|     |   -----   |        |     |  |-----   \n",
      "|     |        |  |        |-----|  |   |    \n",
      "|     |  |     |  |     |  |     |  |    |   \n",
      " -----    -----    -----   -     -  -     -  \n",
      "\n",
      "...combining (and extending) ANTIC, GAP, Polymake and Singular\n",
      "Version\u001b[32m 0.5.1 \u001b[39m... \n",
      " ... which comes with absolutely no warranty whatsoever\n",
      "Type: '?Oscar' for more information\n",
      "(c) 2019-2021 by The Oscar Development Team\n"
     ]
    }
   ],
   "source": [
    "using Oscar\n",
    "using Polymake"
   ]
  },
  {
   "cell_type": "code",
   "execution_count": 3,
   "id": "least-solid",
   "metadata": {},
   "outputs": [
    {
     "data": {
      "text/plain": [
       "slicematrix (generic function with 1 method)"
      ]
     },
     "execution_count": 3,
     "metadata": {},
     "output_type": "execute_result"
    }
   ],
   "source": [
    "function slicematrix(A)\n",
    "    return [A[i, :] for i in 1:size(A,1)]\n",
    "end"
   ]
  },
  {
   "cell_type": "code",
   "execution_count": 4,
   "id": "selective-nevada",
   "metadata": {},
   "outputs": [
    {
     "data": {
      "text/plain": [
       "rowMinors (generic function with 1 method)"
      ]
     },
     "execution_count": 4,
     "metadata": {},
     "output_type": "execute_result"
    }
   ],
   "source": [
    "function rowMinors(A,S)\n",
    "    outList=[]\n",
    "    slices=slicematrix(A)\n",
    "    for i in 1:size(slices,1)\n",
    "        if i in S\n",
    "            append!(outList,[slices[i]])\n",
    "        end\n",
    "    end\n",
    "    return transpose(hcat(outList...))\n",
    "end"
   ]
  },
  {
   "cell_type": "code",
   "execution_count": 119,
   "id": "dominican-notification",
   "metadata": {},
   "outputs": [
    {
     "data": {
      "text/plain": [
       "convertIncidenceMatrix (generic function with 1 method)"
      ]
     },
     "execution_count": 119,
     "metadata": {},
     "output_type": "execute_result"
    }
   ],
   "source": [
    "function convertIncidenceMatrix(A)\n",
    "    A=Array(A)\n",
    "    dim1=size(A,1)\n",
    "    dim2=size(A,2)\n",
    "    out=[]\n",
    "    for i in 1:dim1\n",
    "        members=[]\n",
    "        for j in 1:dim2\n",
    "            if A[i,j]==true\n",
    "                append!(members,j)\n",
    "            end\n",
    "        end\n",
    "        append!(out,[members])\n",
    "    end\n",
    "    return convert.(Array{Int64, 1}, out)\n",
    "end\n",
    "    "
   ]
  },
  {
   "cell_type": "code",
   "execution_count": 116,
   "id": "national-gilbert",
   "metadata": {},
   "outputs": [
    {
     "data": {
      "text/plain": [
       "coneListFormat (generic function with 1 method)"
      ]
     },
     "execution_count": 116,
     "metadata": {},
     "output_type": "execute_result"
    }
   ],
   "source": [
    "function coneListFormat(coneList)\n",
    "    memberList=[]\n",
    "    denseList=slicematrix(coneList)\n",
    "    for row in denseList\n",
    "        members=[]\n",
    "        for i in 1:size(row,1)\n",
    "            if row[i]==1\n",
    "                append!(members,i)\n",
    "            end\n",
    "        end\n",
    "        append!(memberList,[members])\n",
    "    end\n",
    "    return memberList\n",
    "end\n",
    " "
   ]
  },
  {
   "cell_type": "code",
   "execution_count": 222,
   "id": "restricted-designer",
   "metadata": {},
   "outputs": [
    {
     "data": {
      "text/plain": [
       "toric_blowup (generic function with 1 method)"
      ]
     },
     "execution_count": 222,
     "metadata": {},
     "output_type": "execute_result"
    }
   ],
   "source": [
    "function toric_blowup(s, X, v)\n",
    "    coneList = convertIncidenceMatrix(X.MAXIMAL_CONES)\n",
    "    starIndex = findall((t) -> all(((i) -> i in t).(s)), coneList)\n",
    "    star = rowMinors(coneList, starIndex)\n",
    "    rayMatrix = X.RAYS\n",
    "    \n",
    "    #d = size(rayMatrix, 1) #length of array describing each ray\n",
    "    clStar = []\n",
    "    for t in star\n",
    "        c = rank(Array(rowMinors(rayMatrix, t))) - 1\n",
    "        for i in t\n",
    "            subcone = convert.(Int64, filter(elt -> elt != i, t))\n",
    "            #println(subcone)\n",
    "            if rank(Array(rowMinors(rayMatrix, subcone))) == c\n",
    "                append!(clStar, [subcone])\n",
    "            end\n",
    "        end\n",
    "    end\n",
    "    clStar = unique(clStar)\n",
    "                \n",
    "    n = size(rayMatrix, 1)\n",
    "    #coneList = filter(t -> !(t in star), coneList)\n",
    "    coneList  = rowMinors(coneList, filter(i -> !(i in starIndex), range(1, stop=size(coneList, 1))))\n",
    "    \n",
    "    if size(s,2) == 1\n",
    "        newCones = []\n",
    "        for t in clStar\n",
    "            if !(s[1] in t)\n",
    "                append!(newCones, [sort(hcat(t..., s...), dims=2)])\n",
    "            end\n",
    "        end\n",
    "        newCones = convert.(Array{Int64,2}, newCones)\n",
    "        println(newCones)\n",
    "        println(convert.(Array{Int64,1}, coneList))\n",
    "        return fulton.NormalToricVariety(INPUT_RAYS = Array(X.RAYS), INPUT_CONES = append!(coneList, newCones))\n",
    "    end\n",
    "    newCones = []\n",
    "    for t in clStar\n",
    "        if any(((i) -> !(i in t)).(s))\n",
    "            append!(t, [n])\n",
    "        end\n",
    "    end\n",
    "    return fulton.NormalToricVariety(INPUT_RAYS = append!(Array(X.RAYS), [v]), INPUT_CONES = append!(coneList, newCones))\n",
    "end"
   ]
  },
  {
   "cell_type": "code",
   "execution_count": null,
   "id": "bulgarian-means",
   "metadata": {},
   "outputs": [],
   "source": [
    "function toric_blowup(s,X)\n",
    "    rays = rowMinors(Array(X.RAYS), s)\n",
    "end"
   ]
  },
  {
   "cell_type": "code",
   "execution_count": 14,
   "id": "checked-malawi",
   "metadata": {},
   "outputs": [
    {
     "data": {
      "text/html": [
       "$2$"
      ],
      "text/plain": [
       "2"
      ]
     },
     "execution_count": 14,
     "metadata": {},
     "output_type": "execute_result"
    }
   ],
   "source": [
    "a = Array([1 0; 0 1])\n",
    "rank(a)"
   ]
  },
  {
   "cell_type": "code",
   "execution_count": 11,
   "id": "cubic-aluminum",
   "metadata": {},
   "outputs": [
    {
     "data": {
      "text/html": [
       "<dl> <dt>type</dt><dd> NormalToricVariety</dd> </dl><details><summary>INPUT_CONES</summary><pre>{0 1}\n",
       "{1 2}\n",
       "{2 3}\n",
       "{0 3}</pre></details>\n",
       "<details><summary>INPUT_RAYS</summary><pre>0 1\n",
       "1 0\n",
       "0 -1\n",
       "-2 1</pre></details>"
      ],
      "text/plain": [
       "type: NormalToricVariety\n",
       "\n",
       "INPUT_CONES\n",
       "\t{0 1}\n",
       "\t{1 2}\n",
       "\t{2 3}\n",
       "\t{0 3}\n",
       "\n",
       "INPUT_RAYS\n",
       "\t0 1\n",
       "\t1 0\n",
       "\t0 -1\n",
       "\t-2 1\n"
      ]
     },
     "execution_count": 11,
     "metadata": {},
     "output_type": "execute_result"
    }
   ],
   "source": [
    "tv = fulton.NormalToricVariety(INPUT_RAYS=[0 1; 1 0; 0 -1; -2 1]; INPUT_CONES=[[0,1],[1,2],[2,3],[0,3]])"
   ]
  },
  {
   "cell_type": "code",
   "execution_count": 223,
   "id": "absent-puppy",
   "metadata": {},
   "outputs": [
    {
     "name": "stdout",
     "output_type": "stream",
     "text": [
      "[[1 2], [1 4]]\n"
     ]
    },
    {
     "ename": "LoadError",
     "evalue": "\u001b[91mMethodError: no method matching Array{Int64,1}(::LinearAlgebra.Transpose{Int64,Array{Int64,1}})\u001b[39m\n\u001b[91m\u001b[0mClosest candidates are:\u001b[39m\n\u001b[91m\u001b[0m  Array{Int64,1}(::AbstractArray{S,N}) where {T, N, S} at array.jl:562\u001b[39m\n\u001b[91m\u001b[0m  Array{Int64,1}() where T at boot.jl:425\u001b[39m\n\u001b[91m\u001b[0m  Array{Int64,1}(\u001b[91m::UndefInitializer\u001b[39m, \u001b[91m::Int64\u001b[39m) where T at boot.jl:406\u001b[39m\n\u001b[91m\u001b[0m  ...\u001b[39m",
     "output_type": "error",
     "traceback": [
      "\u001b[91mMethodError: no method matching Array{Int64,1}(::LinearAlgebra.Transpose{Int64,Array{Int64,1}})\u001b[39m\n\u001b[91m\u001b[0mClosest candidates are:\u001b[39m\n\u001b[91m\u001b[0m  Array{Int64,1}(::AbstractArray{S,N}) where {T, N, S} at array.jl:562\u001b[39m\n\u001b[91m\u001b[0m  Array{Int64,1}() where T at boot.jl:425\u001b[39m\n\u001b[91m\u001b[0m  Array{Int64,1}(\u001b[91m::UndefInitializer\u001b[39m, \u001b[91m::Int64\u001b[39m) where T at boot.jl:406\u001b[39m\n\u001b[91m\u001b[0m  ...\u001b[39m",
      "",
      "Stacktrace:",
      " [1] convert(::Type{Array{Int64,1}}, ::LinearAlgebra.Transpose{Int64,Array{Int64,1}}) at ./array.jl:554",
      " [2] _broadcast_getindex_evalf at ./broadcast.jl:648 [inlined]",
      " [3] _broadcast_getindex at ./broadcast.jl:631 [inlined]",
      " [4] getindex at ./broadcast.jl:575 [inlined]",
      " [5] copy at ./broadcast.jl:876 [inlined]",
      " [6] materialize(::Base.Broadcast.Broadcasted{Base.Broadcast.DefaultArrayStyle{2},Nothing,typeof(convert),Tuple{Base.RefValue{Type{Array{Int64,1}}},LinearAlgebra.Transpose{LinearAlgebra.Transpose{Int64,Array{Int64,1}},Array{Array{Int64,1},2}}}}) at ./broadcast.jl:837",
      " [7] toric_blowup(::Array{Int64,1}, ::Polymake.BigObjectAllocated, ::Array{Int64,2}) at ./In[222]:34",
      " [8] top-level scope at In[223]:1",
      " [9] include_string(::Function, ::Module, ::String, ::String) at ./loading.jl:1091"
     ]
    }
   ],
   "source": [
    "toric_blowup([1], tv, [1 -1])"
   ]
  },
  {
   "cell_type": "code",
   "execution_count": 23,
   "id": "caroline-newfoundland",
   "metadata": {},
   "outputs": [
    {
     "data": {
      "text/html": [
       "$1$"
      ],
      "text/plain": [
       "1"
      ]
     },
     "execution_count": 23,
     "metadata": {},
     "output_type": "execute_result"
    }
   ],
   "source": [
    "rank(Polymake.Rational[0 1; 1 0]) - 1"
   ]
  },
  {
   "cell_type": "code",
   "execution_count": 113,
   "id": "recorded-elements",
   "metadata": {},
   "outputs": [
    {
     "name": "stdout",
     "output_type": "stream",
     "text": [
      "1×0 LinearAlgebra.Transpose{Any,Array{Any,1}}\n",
      "1×0 LinearAlgebra.Transpose{Any,Array{Any,1}}\n"
     ]
    },
    {
     "data": {
      "text/plain": [
       "pm::Matrix<pm::Rational>\n",
       "0 1\n",
       "1 0\n",
       "0 -1\n",
       "-1 1/2\n"
      ]
     },
     "execution_count": 113,
     "metadata": {},
     "output_type": "execute_result"
    }
   ],
   "source": [
    "coneList = convertIncidenceMatrix(tv.MAXIMAL_CONES)\n",
    "starIndex = findall((t) -> all(((i) -> i in t).(s)), coneList)\n",
    "star = rowMinors(coneList, starIndex)\n",
    "println(star)\n",
    "coneList = convert.(Array{Int64, 1}, coneList)\n",
    "starIndex = findall((t) -> all(((i) -> i in t).(s)), coneList)\n",
    "star = rowMinors(coneList, starIndex)\n",
    "println(star)\n",
    "rayMatrix = tv.RAYS"
   ]
  },
  {
   "cell_type": "code",
   "execution_count": 55,
   "id": "widespread-asbestos",
   "metadata": {},
   "outputs": [
    {
     "data": {
      "text/html": [
       "$4$"
      ],
      "text/plain": [
       "4"
      ]
     },
     "execution_count": 55,
     "metadata": {},
     "output_type": "execute_result"
    }
   ],
   "source": [
    "s = [0 1 2 3]\n",
    "size(s, 2)"
   ]
  },
  {
   "cell_type": "code",
   "execution_count": 99,
   "id": "operational-furniture",
   "metadata": {},
   "outputs": [
    {
     "ename": "LoadError",
     "evalue": "\u001b[91mMethodError: \u001b[0mCannot `convert` an object of type \u001b[92mInt64\u001b[39m\u001b[0m to an object of type \u001b[91mArray{Int64,2}\u001b[39m\u001b[39m\n\u001b[91m\u001b[0mClosest candidates are:\u001b[39m\n\u001b[91m\u001b[0m  convert(::Type{T}, \u001b[91m::AbstractArray\u001b[39m) where T<:Array at array.jl:554\u001b[39m\n\u001b[91m\u001b[0m  convert(::Type{T}, \u001b[91m::T\u001b[39m) where T<:AbstractArray at abstractarray.jl:14\u001b[39m\n\u001b[91m\u001b[0m  convert(::Type{T}, \u001b[91m::LinearAlgebra.Factorization\u001b[39m) where T<:AbstractArray at /buildworker/worker/package_linux64/build/usr/share/julia/stdlib/v1.5/LinearAlgebra/src/factorization.jl:55\u001b[39m\n\u001b[91m\u001b[0m  ...\u001b[39m",
     "output_type": "error",
     "traceback": [
      "\u001b[91mMethodError: \u001b[0mCannot `convert` an object of type \u001b[92mInt64\u001b[39m\u001b[0m to an object of type \u001b[91mArray{Int64,2}\u001b[39m\u001b[39m\n\u001b[91m\u001b[0mClosest candidates are:\u001b[39m\n\u001b[91m\u001b[0m  convert(::Type{T}, \u001b[91m::AbstractArray\u001b[39m) where T<:Array at array.jl:554\u001b[39m\n\u001b[91m\u001b[0m  convert(::Type{T}, \u001b[91m::T\u001b[39m) where T<:AbstractArray at abstractarray.jl:14\u001b[39m\n\u001b[91m\u001b[0m  convert(::Type{T}, \u001b[91m::LinearAlgebra.Factorization\u001b[39m) where T<:AbstractArray at /buildworker/worker/package_linux64/build/usr/share/julia/stdlib/v1.5/LinearAlgebra/src/factorization.jl:55\u001b[39m\n\u001b[91m\u001b[0m  ...\u001b[39m",
      "",
      "Stacktrace:",
      " [1] setindex! at ./array.jl:849 [inlined]",
      " [2] hvcat_fill(::Array{Array{Int64,2},2}, ::Tuple{Int64,Int64,Int64}) at ./abstractarray.jl:1797",
      " [3] typed_hcat(::Type{Array{Int64,2}}, ::Int64, ::Int64, ::Int64) at ./abstractarray.jl:1365",
      " [4] top-level scope at In[99]:1",
      " [5] include_string(::Function, ::Module, ::String, ::String) at ./loading.jl:1091"
     ]
    }
   ],
   "source": [
    "a = Array{Int64, 2}[5 4 3]\n",
    "print(a)"
   ]
  },
  {
   "cell_type": "code",
   "execution_count": 178,
   "id": "enhanced-default",
   "metadata": {},
   "outputs": [
    {
     "data": {
      "text/plain": [
       "4-element Array{Array{Int64,2},1}:\n",
       " [1 2]\n",
       " [1 4]\n",
       " [2 3]\n",
       " [3 4]"
      ]
     },
     "execution_count": 178,
     "metadata": {},
     "output_type": "execute_result"
    }
   ],
   "source": [
    "append!([[1 2], [1 4]], [[2 3], [3 4]])"
   ]
  },
  {
   "cell_type": "code",
   "execution_count": 190,
   "id": "soviet-johnston",
   "metadata": {},
   "outputs": [
    {
     "data": {
      "text/plain": [
       "1×3 Array{Int64,2}:\n",
       " 1  2  3"
      ]
     },
     "execution_count": 190,
     "metadata": {},
     "output_type": "execute_result"
    }
   ],
   "source": [
    "sort(hcat([1, 3]..., [2]...), dims=2)"
   ]
  },
  {
   "cell_type": "code",
   "execution_count": 204,
   "id": "individual-intro",
   "metadata": {},
   "outputs": [
    {
     "data": {
      "text/plain": [
       "2×2 Array{Int64,2}:\n",
       " 2  3\n",
       " 3  4"
      ]
     },
     "execution_count": 204,
     "metadata": {},
     "output_type": "execute_result"
    }
   ],
   "source": [
    "convert(Array{Int64, 2}, [[2 3]; [3 4]])"
   ]
  },
  {
   "cell_type": "code",
   "execution_count": null,
   "id": "alleged-helen",
   "metadata": {},
   "outputs": [],
   "source": []
  }
 ],
 "metadata": {
  "kernelspec": {
   "display_name": "Julia 1.5.3",
   "language": "julia",
   "name": "julia-1.5"
  },
  "language_info": {
   "file_extension": ".jl",
   "mimetype": "application/julia",
   "name": "julia",
   "version": "1.5.3"
  }
 },
 "nbformat": 4,
 "nbformat_minor": 5
}
