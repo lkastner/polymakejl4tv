{
 "cells": [
  {
   "cell_type": "code",
   "execution_count": 8,
   "id": "average-capture",
   "metadata": {},
   "outputs": [
    {
     "name": "stdout",
     "output_type": "stream",
     "text": [
      " -----    -----    -----      -      -----   \n",
      "|     |  |     |  |     |    | |    |     |  \n",
      "|     |  |        |         |   |   |     |  \n",
      "|     |   -----   |        |     |  |-----   \n",
      "|     |        |  |        |-----|  |   |    \n",
      "|     |  |     |  |     |  |     |  |    |   \n",
      " -----    -----    -----   -     -  -     -  \n",
      "\n",
      "...combining (and extending) ANTIC, GAP, Polymake and Singular\n",
      "Version\u001b[32m 0.5.1 \u001b[39m... \n",
      " ... which comes with absolutely no warranty whatsoever\n",
      "Type: '?Oscar' for more information\n",
      "(c) 2019-2021 by The Oscar Development Team\n"
     ]
    }
   ],
   "source": [
    "using Oscar\n",
    "using Polymake"
   ]
  },
  {
   "cell_type": "code",
   "execution_count": 9,
   "id": "excited-clothing",
   "metadata": {},
   "outputs": [
    {
     "data": {
      "text/plain": [
       "slicematrix (generic function with 1 method)"
      ]
     },
     "execution_count": 9,
     "metadata": {},
     "output_type": "execute_result"
    }
   ],
   "source": [
    "function slicematrix(A)\n",
    "    return [A[i, :] for i in 1:size(A,1)]\n",
    "end"
   ]
  },
  {
   "cell_type": "code",
   "execution_count": 10,
   "id": "welcome-shift",
   "metadata": {},
   "outputs": [
    {
     "data": {
      "text/plain": [
       "rowMinors (generic function with 1 method)"
      ]
     },
     "execution_count": 10,
     "metadata": {},
     "output_type": "execute_result"
    }
   ],
   "source": [
    "function rowMinors(A,S)\n",
    "    outList=[]\n",
    "    slices=slicematrix(A)\n",
    "    for i in 1:size(slices,1)\n",
    "        if i in S\n",
    "            append!(outList,[slices[i]])\n",
    "        end\n",
    "    end\n",
    "    return transpose(hcat(outList...))\n",
    "end"
   ]
  },
  {
   "cell_type": "code",
   "execution_count": 11,
   "id": "parental-passage",
   "metadata": {},
   "outputs": [
    {
     "data": {
      "text/plain": [
       "convertIncidenceMatrix (generic function with 1 method)"
      ]
     },
     "execution_count": 11,
     "metadata": {},
     "output_type": "execute_result"
    }
   ],
   "source": [
    "function convertIncidenceMatrix(A)\n",
    "    A=Array(A)\n",
    "    dim1=size(A,1)\n",
    "    dim2=size(A,2)\n",
    "    out=[]\n",
    "    for i in 1:dim1\n",
    "        members=[]\n",
    "        for j in 1:dim2\n",
    "            if A[i,j]==true\n",
    "                append!(members,j)\n",
    "            end\n",
    "        end\n",
    "        append!(out,[members])\n",
    "    end\n",
    "    return convert.(Array{Int64, 1}, out)\n",
    "end\n",
    "    "
   ]
  },
  {
   "cell_type": "code",
   "execution_count": 12,
   "id": "extensive-swedish",
   "metadata": {},
   "outputs": [
    {
     "data": {
      "text/plain": [
       "coneListFormat (generic function with 1 method)"
      ]
     },
     "execution_count": 12,
     "metadata": {},
     "output_type": "execute_result"
    }
   ],
   "source": [
    "function coneListFormat(coneList)\n",
    "    memberList=[]\n",
    "    denseList=slicematrix(coneList)\n",
    "    for row in denseList\n",
    "        members=[]\n",
    "        for i in 1:size(row,1)\n",
    "            if row[i]==1\n",
    "                append!(members,i)\n",
    "            end\n",
    "        end\n",
    "        append!(memberList,[members])\n",
    "    end\n",
    "    return memberList\n",
    "end\n",
    " "
   ]
  },
  {
   "cell_type": "code",
   "execution_count": 29,
   "id": "embedded-bristol",
   "metadata": {},
   "outputs": [
    {
     "data": {
      "text/plain": [
       "toric_blowup (generic function with 2 methods)"
      ]
     },
     "execution_count": 29,
     "metadata": {},
     "output_type": "execute_result"
    }
   ],
   "source": [
    "function toric_blowup(s, X, v)\n",
    "    coneList = convertIncidenceMatrix(X.MAXIMAL_CONES)\n",
    "    \n",
    "    println(\"coneList: \", coneList)\n",
    "    \n",
    "    starIndex = findall((t) -> all(((i) -> i in t).(s)), coneList)\n",
    "    #star = rowMinors(coneList, starIndex)\n",
    "    star = [coneList[i] for i in starIndex]\n",
    "    \n",
    "    println(\"star: \", star)\n",
    "    rayMatrix = X.RAYS\n",
    "    #d = size(rayMatrix, 1) #length of array describing each ray\n",
    "    \n",
    "    lattice = X.HASSE_DIAGRAM\n",
    "    faces = @Polymake.convert_to Array{Set{Int}} lattice.FACES\n",
    "    \n",
    "    clStar = []\n",
    "    for t in star\n",
    "        c = rank(Array(rowMinors(rayMatrix, t))) - 1\n",
    "        println(\"c: \", c)\n",
    "        rank_c_subcone_indices = @Polymake.convert_to Array{Int} Polymake.graph.nodes_of_rank(lattice,c)\n",
    "        rank_c_subcones = [faces[i+1] for i in rank_c_subcone_indices]\n",
    "        append!(clStar, [findall((cone -> all((i -> i in t), cone)), rank_c_subcones)])\n",
    "        \n",
    "#         for i in t\n",
    "#             subcone = convert.(Int64, filter(elt -> elt != i, t))\n",
    "#             #println(subcone)\n",
    "#             if rank(Array(rowMinors(rayMatrix, subcone))) == c\n",
    "#                 append!(clStar, [subcone])\n",
    "#             end\n",
    "#         end\n",
    "    end\n",
    "    clStar = unique(clStar)\n",
    "      \n",
    "    println(\"clStar: \", clStar)\n",
    "    \n",
    "    n = size(rayMatrix, 1) + 1\n",
    "    #coneList = filter(t -> !(t in star), coneList)\n",
    "    #coneList  = rowMinors(coneList, filter(i -> !(i in starIndex), range(1, stop=size(coneList, 1))))\n",
    "    coneList = filter(x -> !(x in star), coneList)\n",
    "    \n",
    "    println(\"coneList: \", coneList)\n",
    "    \n",
    "    if length(s) == 1\n",
    "        newCones = []\n",
    "        for t in clStar\n",
    "            if !(s[1] in t)\n",
    "                 #append!(newCones, [sort(hcat(t..., s...), dims=2)])\n",
    "                push!(newCones, sort(push!(t, s[1])))\n",
    "            end\n",
    "        end\n",
    "        println(newCones)\n",
    "         #newCones = convert.(Array{Int64,2}, newCones)\n",
    "         #println(newCones)\n",
    "         #println(convert.(Array{Int64,1}, coneList))\n",
    "        println(append!(coneList, newCones))\n",
    "        return fulton.NormalToricVariety(INPUT_RAYS = Array(X.RAYS), INPUT_CONES = append!(coneList, newCones))\n",
    "    end\n",
    "    newCones = []\n",
    "    for t in clStar\n",
    "        if any(((i) -> !(i in t)).(s))\n",
    "            push!(newCones, push!(t, n))\n",
    "        end\n",
    "    end\n",
    "    \n",
    "    final_rays = [(X.RAYS); v]\n",
    "    final_cones = append!(coneList, newCones)\n",
    "    \n",
    "    print(\"rays: \")\n",
    "    println(final_rays)\n",
    "    print(\"cones: \")\n",
    "    println(final_cones)\n",
    "    \n",
    "    return fulton.NormalToricVariety(INPUT_RAYS = final_rays, INPUT_CONES = final_cones)\n",
    "end"
   ]
  },
  {
   "cell_type": "code",
   "execution_count": 23,
   "id": "disabled-defense",
   "metadata": {},
   "outputs": [
    {
     "data": {
      "text/plain": [
       "toric_blowup (generic function with 2 methods)"
      ]
     },
     "execution_count": 23,
     "metadata": {},
     "output_type": "execute_result"
    }
   ],
   "source": [
    "function toric_blowup(s,X)\n",
    "    rays = rowMinors(Array(X.RAYS), s)\n",
    "end"
   ]
  },
  {
   "cell_type": "code",
   "execution_count": 20,
   "id": "wired-variety",
   "metadata": {},
   "outputs": [
    {
     "data": {
      "text/html": [
       "<dl> <dt>type</dt><dd> NormalToricVariety</dd> </dl><details><summary>INPUT_CONES</summary><pre>{0 1}\n",
       "{1 2}\n",
       "{2 3}\n",
       "{0 3}</pre></details>\n",
       "<details><summary>INPUT_RAYS</summary><pre>0 1\n",
       "1 0\n",
       "0 -1\n",
       "-2 1</pre></details>"
      ],
      "text/plain": [
       "type: NormalToricVariety\n",
       "\n",
       "INPUT_CONES\n",
       "\t{0 1}\n",
       "\t{1 2}\n",
       "\t{2 3}\n",
       "\t{0 3}\n",
       "\n",
       "INPUT_RAYS\n",
       "\t0 1\n",
       "\t1 0\n",
       "\t0 -1\n",
       "\t-2 1\n"
      ]
     },
     "execution_count": 20,
     "metadata": {},
     "output_type": "execute_result"
    }
   ],
   "source": [
    "tv = fulton.NormalToricVariety(INPUT_RAYS=[0 1; 1 0 ; 0 -1; -2 1]; INPUT_CONES=[[0,1],[1,2],[2,3],[0,3]])"
   ]
  },
  {
   "cell_type": "code",
   "execution_count": 30,
   "id": "enormous-empire",
   "metadata": {},
   "outputs": [
    {
     "name": "stdout",
     "output_type": "stream",
     "text": [
      "coneList: [[1, 2], [2, 3], [3, 4], [1, 4]]\n",
      "star: [[2, 3]]\n",
      "c: 1\n",
      "clStar: Any[[3, 4]]\n",
      "coneList: [[1, 2], [3, 4], [1, 4]]\n",
      "rays: pm::Matrix<pm::Rational>\n",
      "0 1\n",
      "1 0\n",
      "0 -1\n",
      "-1 1/2\n",
      "1 -1\n",
      "\n",
      "cones: [[1, 2], [3, 4], [1, 4], [3, 4, 5]]\n"
     ]
    },
    {
     "data": {
      "text/html": [
       "<dl> <dt>type</dt><dd> NormalToricVariety</dd> </dl><details><summary>INPUT_CONES</summary><pre>{1 2}\n",
       "{3 4}\n",
       "{1 4}\n",
       "{3 4 5}</pre></details>\n",
       "<details><summary>INPUT_RAYS</summary><pre>0 1\n",
       "1 0\n",
       "0 -1\n",
       "-1 1/2\n",
       "1 -1</pre></details>"
      ],
      "text/plain": [
       "type: NormalToricVariety\n",
       "\n",
       "INPUT_CONES\n",
       "\t{1 2}\n",
       "\t{3 4}\n",
       "\t{1 4}\n",
       "\t{3 4 5}\n",
       "\n",
       "INPUT_RAYS\n",
       "\t0 1\n",
       "\t1 0\n",
       "\t0 -1\n",
       "\t-1 1/2\n",
       "\t1 -1\n"
      ]
     },
     "execution_count": 30,
     "metadata": {},
     "output_type": "execute_result"
    }
   ],
   "source": [
    "toric_blowup([2,3], tv, [1 -1])"
   ]
  },
  {
   "cell_type": "code",
   "execution_count": 113,
   "id": "genetic-survival",
   "metadata": {},
   "outputs": [
    {
     "name": "stdout",
     "output_type": "stream",
     "text": [
      "1×0 LinearAlgebra.Transpose{Any,Array{Any,1}}\n",
      "1×0 LinearAlgebra.Transpose{Any,Array{Any,1}}\n"
     ]
    },
    {
     "data": {
      "text/plain": [
       "pm::Matrix<pm::Rational>\n",
       "0 1\n",
       "1 0\n",
       "0 -1\n",
       "-1 1/2\n"
      ]
     },
     "execution_count": 113,
     "metadata": {},
     "output_type": "execute_result"
    }
   ],
   "source": [
    "coneList = convertIncidenceMatrix(tv.MAXIMAL_CONES)\n",
    "starIndex = findall((t) -> all(((i) -> i in t).(s)), coneList)\n",
    "star = rowMinors(coneList, starIndex)\n",
    "println(star)\n",
    "coneList = convert.(Array{Int64, 1}, coneList)\n",
    "starIndex = findall((t) -> all(((i) -> i in t).(s)), coneList)\n",
    "star = rowMinors(coneList, starIndex)\n",
    "println(star)\n",
    "rayMatrix = tv.RAYS"
   ]
  },
  {
   "cell_type": "code",
   "execution_count": 14,
   "id": "killing-trash",
   "metadata": {},
   "outputs": [
    {
     "data": {
      "text/html": [
       "[$0$, $1$, $2$, $3$]"
      ],
      "text/plain": [
       "4-element Array{Int64,1}:\n",
       " 0\n",
       " 1\n",
       " 2\n",
       " 3"
      ]
     },
     "execution_count": 14,
     "metadata": {},
     "output_type": "execute_result"
    }
   ],
   "source": [
    "append!([0], [1 2 3])"
   ]
  },
  {
   "cell_type": "code",
   "execution_count": 16,
   "id": "focused-cylinder",
   "metadata": {},
   "outputs": [
    {
     "name": "stdout",
     "output_type": "stream",
     "text": [
      "Any[1, 2, 3]"
     ]
    }
   ],
   "source": [
    "hi = []\n",
    "append!(hi, [1,2,3])\n",
    "print(hi)"
   ]
  },
  {
   "cell_type": "code",
   "execution_count": null,
   "id": "opponent-sleeve",
   "metadata": {},
   "outputs": [],
   "source": []
  }
 ],
 "metadata": {
  "kernelspec": {
   "display_name": "Julia 1.5.3",
   "language": "julia",
   "name": "julia-1.5"
  },
  "language_info": {
   "file_extension": ".jl",
   "mimetype": "application/julia",
   "name": "julia",
   "version": "1.5.3"
  }
 },
 "nbformat": 4,
 "nbformat_minor": 5
}
