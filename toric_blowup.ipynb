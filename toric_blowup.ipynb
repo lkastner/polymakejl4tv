{
 "cells": [
  {
   "cell_type": "code",
   "execution_count": 2,
   "id": "specific-colon",
   "metadata": {},
   "outputs": [
    {
     "name": "stdout",
     "output_type": "stream",
     "text": [
      " -----    -----    -----      -      -----   \n",
      "|     |  |     |  |     |    | |    |     |  \n",
      "|     |  |        |         |   |   |     |  \n",
      "|     |   -----   |        |     |  |-----   \n",
      "|     |        |  |        |-----|  |   |    \n",
      "|     |  |     |  |     |  |     |  |    |   \n",
      " -----    -----    -----   -     -  -     -  \n",
      "\n",
      "...combining (and extending) ANTIC, GAP, Polymake and Singular\n",
      "Version\u001b[32m 0.5.1 \u001b[39m... \n",
      " ... which comes with absolutely no warranty whatsoever\n",
      "Type: '?Oscar' for more information\n",
      "(c) 2019-2021 by The Oscar Development Team\n"
     ]
    }
   ],
   "source": [
    "using Oscar\n",
    "using Polymake"
   ]
  },
  {
   "cell_type": "code",
   "execution_count": 5,
   "id": "universal-increase",
   "metadata": {},
   "outputs": [
    {
     "data": {
      "text/plain": [
       "slicematrix (generic function with 1 method)"
      ]
     },
     "execution_count": 5,
     "metadata": {},
     "output_type": "execute_result"
    }
   ],
   "source": [
    "function slicematrix(A)\n",
    "    return [A[i, :] for i in 1:size(A,1)]\n",
    "end"
   ]
  },
  {
   "cell_type": "code",
   "execution_count": 6,
   "id": "static-second",
   "metadata": {},
   "outputs": [
    {
     "data": {
      "text/plain": [
       "rowMinors (generic function with 1 method)"
      ]
     },
     "execution_count": 6,
     "metadata": {},
     "output_type": "execute_result"
    }
   ],
   "source": [
    "function rowMinors(A,S)\n",
    "    outList=[]\n",
    "    slices=slicematrix(A)\n",
    "    for i in 1:size(slices,1)\n",
    "        if i in S\n",
    "            append!(outList,[slices[i]])\n",
    "        end\n",
    "    end\n",
    "    return transpose(hcat(outList...))\n",
    "end"
   ]
  },
  {
   "cell_type": "code",
   "execution_count": 7,
   "id": "returning-insulation",
   "metadata": {},
   "outputs": [
    {
     "data": {
      "text/plain": [
       "convertIncidenceMatrix (generic function with 1 method)"
      ]
     },
     "execution_count": 7,
     "metadata": {},
     "output_type": "execute_result"
    }
   ],
   "source": [
    "function convertIncidenceMatrix(A)\n",
    "    A=Array(A)\n",
    "    dim1=size(A,1)\n",
    "    dim2=size(A,2)\n",
    "    out=[]\n",
    "    for i in 1:dim1\n",
    "        members=[]\n",
    "        for j in 1:dim2\n",
    "            if A[i,j]==true\n",
    "                append!(members,j)\n",
    "            end\n",
    "        end\n",
    "        append!(out,[members])\n",
    "    end\n",
    "    return out\n",
    "end\n",
    "    "
   ]
  },
  {
   "cell_type": "code",
   "execution_count": 8,
   "id": "monetary-beach",
   "metadata": {},
   "outputs": [
    {
     "data": {
      "text/plain": [
       "coneListFormat (generic function with 1 method)"
      ]
     },
     "execution_count": 8,
     "metadata": {},
     "output_type": "execute_result"
    }
   ],
   "source": [
    "function coneListFormat(coneList)\n",
    "    memberList=[]\n",
    "    denseList=slicematrix(coneList)\n",
    "    for row in denseList\n",
    "        members=[]\n",
    "        for i in 1:size(row,1)\n",
    "            if row[i]==1\n",
    "                append!(members,i)\n",
    "            end\n",
    "        end\n",
    "        append!(memberList,[members])\n",
    "    end\n",
    "    return memberList\n",
    "end\n",
    " "
   ]
  },
  {
   "cell_type": "code",
   "execution_count": 86,
   "id": "integrated-cattle",
   "metadata": {},
   "outputs": [
    {
     "data": {
      "text/plain": [
       "toric_blowup (generic function with 1 method)"
      ]
     },
     "execution_count": 86,
     "metadata": {},
     "output_type": "execute_result"
    }
   ],
   "source": [
    "function toric_blowup(s, X, v)\n",
    "    coneList = convertIncidenceMatrix(X.MAXIMAL_CONES)\n",
    "    starIndex = findall((t) -> all(((i) -> i in t).(s)), coneList)\n",
    "    star = rowMinors(coneList, starIndex)\n",
    "    rayMatrix = X.RAYS\n",
    "    \n",
    "    #d = size(rayMatrix, 1) #length of array describing each ray\n",
    "    clStar = []\n",
    "    for t in star\n",
    "        c = rank(rowMinors(rayMatrix, t)) - 1\n",
    "        for i in t\n",
    "            subcone = filter(elt -> elt != i, t)\n",
    "            if rank(rowMinors(rayMatrix, subcone)) == c\n",
    "                append!(clStar, [subcone])\n",
    "            end\n",
    "        end\n",
    "    end\n",
    "    clStar = unique(clStar)\n",
    "                \n",
    "    n = size(rayMatrix, 1)\n",
    "    #coneList = filter(t -> !(t in star), coneList)\n",
    "    coneList  = rowMinors(coneList, filter(i -> !(i in starIndex), range(1, stop=size(coneList, 1))))\n",
    "    \n",
    "    if size(s,1) == 1\n",
    "        newCones = []\n",
    "        for t in clStar\n",
    "            if !(s[0] in t)\n",
    "                append!(newCones, [sort(append!(t, s))])\n",
    "            end\n",
    "        end\n",
    "        return fulton.NormalToricVariety(INPUT_RAYS = Array(X.RAYS), INPUT_CONES = append!(coneList, newCones))\n",
    "    end\n",
    "    newCones = []\n",
    "    for t in clStar\n",
    "        if any(((i) -> !(i in t)).(s))\n",
    "            append!(t, [n])\n",
    "        end\n",
    "    end\n",
    "    return fulton.NormalToricVariety(INPUT_RAYS = append!(Array(X.RAYS), [v]), INPUT_CONES = append!(coneList, newCones))\n",
    "end"
   ]
  },
  {
   "cell_type": "code",
   "execution_count": null,
   "id": "smaller-dominant",
   "metadata": {},
   "outputs": [],
   "source": [
    "function toric_blowup(s,X)\n",
    "    rays = rowMinors(Array(X.RAYS), s)\n",
    "end"
   ]
  },
  {
   "cell_type": "code",
   "execution_count": 33,
   "id": "fitting-parts",
   "metadata": {},
   "outputs": [
    {
     "ename": "LoadError",
     "evalue": "\u001b[91mMethodError: no method matching rank(::Array{Array{Int64,2},1})\u001b[39m\n\u001b[91m\u001b[0mClosest candidates are:\u001b[39m\n\u001b[91m\u001b[0m  rank(\u001b[91m::Hecke.ModuleCtxNmod\u001b[39m) at /home/dhruvbhatia00/.julia/packages/Hecke/iivXP/src/Sparse/Module.jl:186\u001b[39m\n\u001b[91m\u001b[0m  rank(\u001b[91m::Hecke.ModuleCtx_fmpz\u001b[39m) at /home/dhruvbhatia00/.julia/packages/Hecke/iivXP/src/Sparse/Module.jl:182\u001b[39m\n\u001b[91m\u001b[0m  rank(\u001b[91m::GrpAbFinGen\u001b[39m) at /home/dhruvbhatia00/.julia/packages/Hecke/iivXP/src/GrpAb/GrpAbFinGen.jl:459\u001b[39m\n\u001b[91m\u001b[0m  ...\u001b[39m",
     "output_type": "error",
     "traceback": [
      "\u001b[91mMethodError: no method matching rank(::Array{Array{Int64,2},1})\u001b[39m\n\u001b[91m\u001b[0mClosest candidates are:\u001b[39m\n\u001b[91m\u001b[0m  rank(\u001b[91m::Hecke.ModuleCtxNmod\u001b[39m) at /home/dhruvbhatia00/.julia/packages/Hecke/iivXP/src/Sparse/Module.jl:186\u001b[39m\n\u001b[91m\u001b[0m  rank(\u001b[91m::Hecke.ModuleCtx_fmpz\u001b[39m) at /home/dhruvbhatia00/.julia/packages/Hecke/iivXP/src/Sparse/Module.jl:182\u001b[39m\n\u001b[91m\u001b[0m  rank(\u001b[91m::GrpAbFinGen\u001b[39m) at /home/dhruvbhatia00/.julia/packages/Hecke/iivXP/src/GrpAb/GrpAbFinGen.jl:459\u001b[39m\n\u001b[91m\u001b[0m  ...\u001b[39m",
      "",
      "Stacktrace:",
      " [1] top-level scope at In[33]:2",
      " [2] include_string(::Function, ::Module, ::String, ::String) at ./loading.jl:1091"
     ]
    }
   ],
   "source": [
    "a = [[1 0], [0 1]]\n",
    "rank(a)"
   ]
  },
  {
   "cell_type": "code",
   "execution_count": 14,
   "id": "italic-matter",
   "metadata": {},
   "outputs": [
    {
     "data": {
      "text/html": [
       "<dl> <dt>type</dt><dd> NormalToricVariety</dd> </dl><details><summary>INPUT_CONES</summary><pre>{0 1}\n",
       "{1 2}\n",
       "{2 3}\n",
       "{0 3}</pre></details>\n",
       "<details><summary>INPUT_RAYS</summary><pre>0 1\n",
       "1 0\n",
       "0 -1\n",
       "-2 1</pre></details>"
      ],
      "text/plain": [
       "type: NormalToricVariety\n",
       "\n",
       "INPUT_CONES\n",
       "\t{0 1}\n",
       "\t{1 2}\n",
       "\t{2 3}\n",
       "\t{0 3}\n",
       "\n",
       "INPUT_RAYS\n",
       "\t0 1\n",
       "\t1 0\n",
       "\t0 -1\n",
       "\t-2 1\n"
      ]
     },
     "execution_count": 14,
     "metadata": {},
     "output_type": "execute_result"
    }
   ],
   "source": [
    "tv = fulton.NormalToricVariety(INPUT_RAYS=[0 1; 1 0; 0 -1; -2 1]; INPUT_CONES=[[0,1],[1,2],[2,3],[0,3]])"
   ]
  },
  {
   "cell_type": "code",
   "execution_count": 87,
   "id": "wanted-companion",
   "metadata": {},
   "outputs": [
    {
     "ename": "LoadError",
     "evalue": "\u001b[91mMethodError: no method matching svdvals!(::Polymake.MatrixAllocated{Float64})\u001b[39m\n\u001b[91m\u001b[0mClosest candidates are:\u001b[39m\n\u001b[91m\u001b[0m  svdvals!(\u001b[91m::LinearAlgebra.SymTridiagonal\u001b[39m) at /buildworker/worker/package_linux64/build/usr/share/julia/stdlib/v1.5/LinearAlgebra/src/tridiag.jl:350\u001b[39m\n\u001b[91m\u001b[0m  svdvals!(\u001b[91m::StridedArray{T, 2}\u001b[39m) where T<:Union{Complex{Float32}, Complex{Float64}, Float32, Float64} at /buildworker/worker/package_linux64/build/usr/share/julia/stdlib/v1.5/LinearAlgebra/src/svd.jl:193\u001b[39m\n\u001b[91m\u001b[0m  svdvals!(\u001b[91m::StridedArray{T, 2}\u001b[39m, \u001b[91m::StridedArray{T, 2}\u001b[39m) where T<:Union{Complex{Float32}, Complex{Float64}, Float32, Float64} at /buildworker/worker/package_linux64/build/usr/share/julia/stdlib/v1.5/LinearAlgebra/src/svd.jl:501\u001b[39m\n\u001b[91m\u001b[0m  ...\u001b[39m",
     "output_type": "error",
     "traceback": [
      "\u001b[91mMethodError: no method matching svdvals!(::Polymake.MatrixAllocated{Float64})\u001b[39m\n\u001b[91m\u001b[0mClosest candidates are:\u001b[39m\n\u001b[91m\u001b[0m  svdvals!(\u001b[91m::LinearAlgebra.SymTridiagonal\u001b[39m) at /buildworker/worker/package_linux64/build/usr/share/julia/stdlib/v1.5/LinearAlgebra/src/tridiag.jl:350\u001b[39m\n\u001b[91m\u001b[0m  svdvals!(\u001b[91m::StridedArray{T, 2}\u001b[39m) where T<:Union{Complex{Float32}, Complex{Float64}, Float32, Float64} at /buildworker/worker/package_linux64/build/usr/share/julia/stdlib/v1.5/LinearAlgebra/src/svd.jl:193\u001b[39m\n\u001b[91m\u001b[0m  svdvals!(\u001b[91m::StridedArray{T, 2}\u001b[39m, \u001b[91m::StridedArray{T, 2}\u001b[39m) where T<:Union{Complex{Float32}, Complex{Float64}, Float32, Float64} at /buildworker/worker/package_linux64/build/usr/share/julia/stdlib/v1.5/LinearAlgebra/src/svd.jl:501\u001b[39m\n\u001b[91m\u001b[0m  ...\u001b[39m",
      "",
      "Stacktrace:",
      " [1] svdvals(::LinearAlgebra.Transpose{Polymake.Rational,Polymake.MatrixAllocated{Polymake.Rational}}) at /buildworker/worker/package_linux64/build/usr/share/julia/stdlib/v1.5/LinearAlgebra/src/svd.jl:218",
      " [2] #rank#15 at /buildworker/worker/package_linux64/build/usr/share/julia/stdlib/v1.5/LinearAlgebra/src/generic.jl:985 [inlined]",
      " [3] rank(::LinearAlgebra.Transpose{Polymake.Rational,Polymake.MatrixAllocated{Polymake.Rational}}) at /buildworker/worker/package_linux64/build/usr/share/julia/stdlib/v1.5/LinearAlgebra/src/generic.jl:984",
      " [4] toric_blowup(::Array{Int64,2}, ::Polymake.BigObjectAllocated, ::Array{Int64,2}) at ./In[86]:10",
      " [5] top-level scope at In[87]:1",
      " [6] include_string(::Function, ::Module, ::String, ::String) at ./loading.jl:1091"
     ]
    }
   ],
   "source": [
    "toric_blowup([1 2], tv, [1 1])"
   ]
  },
  {
   "cell_type": "code",
   "execution_count": 77,
   "id": "charming-general",
   "metadata": {},
   "outputs": [
    {
     "data": {
      "text/plain": [
       "2-element Array{Array{Int64,2},1}:\n",
       " [1 2]\n",
       " [2 3]"
      ]
     },
     "execution_count": 77,
     "metadata": {},
     "output_type": "execute_result"
    }
   ],
   "source": [
    "[[1 2], [2 3]]"
   ]
  },
  {
   "cell_type": "code",
   "execution_count": 34,
   "id": "contemporary-retrieval",
   "metadata": {},
   "outputs": [
    {
     "data": {
      "text/html": [
       "$2$"
      ],
      "text/plain": [
       "2"
      ]
     },
     "execution_count": 34,
     "metadata": {},
     "output_type": "execute_result"
    }
   ],
   "source": [
    "rank(Array(tv.RAYS))"
   ]
  },
  {
   "cell_type": "code",
   "execution_count": 48,
   "id": "pretty-seeking",
   "metadata": {},
   "outputs": [
    {
     "data": {
      "text/html": [
       "[$2$]"
      ],
      "text/plain": [
       "1-element Array{Int64,1}:\n",
       " 2"
      ]
     },
     "execution_count": 48,
     "metadata": {},
     "output_type": "execute_result"
    }
   ],
   "source": [
    "filter(t -> t ==2, range(1,stop=5))"
   ]
  },
  {
   "cell_type": "code",
   "execution_count": null,
   "id": "equal-density",
   "metadata": {},
   "outputs": [],
   "source": []
  }
 ],
 "metadata": {
  "kernelspec": {
   "display_name": "Julia 1.5.3",
   "language": "julia",
   "name": "julia-1.5"
  },
  "language_info": {
   "file_extension": ".jl",
   "mimetype": "application/julia",
   "name": "julia",
   "version": "1.5.3"
  }
 },
 "nbformat": 4,
 "nbformat_minor": 5
}
