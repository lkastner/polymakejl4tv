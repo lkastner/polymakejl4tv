{
 "cells": [
  {
   "cell_type": "code",
   "execution_count": 293,
   "id": "fundamental-contamination",
   "metadata": {},
   "outputs": [
    {
     "data": {
      "text/plain": [
       "coneRayDecomposition (generic function with 1 method)"
      ]
     },
     "execution_count": 293,
     "metadata": {},
     "output_type": "execute_result"
    }
   ],
   "source": [
    "include(\"StackyFan.jl\")"
   ]
  },
  {
   "cell_type": "code",
   "execution_count": null,
   "id": "latter-johns",
   "metadata": {},
   "outputs": [],
   "source": []
  },
  {
   "cell_type": "code",
   "execution_count": 294,
   "id": "proof-harvard",
   "metadata": {},
   "outputs": [
    {
     "data": {
      "text/plain": [
       "BerghA (generic function with 1 method)"
      ]
     },
     "execution_count": 294,
     "metadata": {},
     "output_type": "execute_result"
    }
   ],
   "source": [
    "\"\"\"\n",
    "\n",
    "    BerghA(F::StackyFan,D::Array{Int64,1})\n",
    "\n",
    "    Given a stacky fan F and a vector of booleans D representing the distinguished structure,\n",
    "    returns a smooth stacky fan where the distinguished rays are independent.\n",
    "\n",
    "    \n",
    "\"\"\"\n",
    "\n",
    "function BerghA(F::StackyFan,D::Array{Int64,1})\n",
    "    X=deepcopy(F)\n",
    "    rayMatrix=convert(Array{Int64,2},Array(Polymake.common.primitive(X.fan.RAYS)))\n",
    "    coneList=getCones(X.fan)\n",
    "    dim=size(rayMatrix,2)\n",
    "    numRays=size(rayMatrix,1)\n",
    "    #check if the vector D has length equal to the number of rays in F\n",
    "    if numRays != size(D,1)\n",
    "        error(\"length of vector representing distinguished structure does not agree with number of rays in stacky fan.\")\n",
    "    end\n",
    "    \n",
    "    #A0: initialization\n",
    "    while(true)\n",
    "        rayMatrix=convert(Array{Int64,2},Array(Polymake.common.primitive(X.fan.RAYS)))\n",
    "        coneList=getCones(X.fan)\n",
    "        #A1: check if finished\n",
    "        # Find S the set of cones that contain a distinguised ray and an interior a lattice point \n",
    "        #Note: cones in S are 1-indexed.\n",
    "        S=filter(cone->distinguishedAndIntPoint(cone,rayMatrix,D),coneList)\n",
    "        printn(rayMatrix)\n",
    "        printn(S)\n",
    "        # If S is empty, the program terminates.\n",
    "        if S==[]\n",
    "            break\n",
    "        end\n",
    "        \n",
    "        #A2 - find extremal cones\n",
    "        Smax=extremalCones(S,rayMatrix,D)\n",
    "        \n",
    "        #A2 - find interior points in Smax\n",
    "        intPoints=[]\n",
    "        for cone in Smax\n",
    "            C=coneConvert(cone,rayMatrix)\n",
    "            coneIntPoints=interiorPoints(C)\n",
    "            if coneIntPoints==nothing\n",
    "                # does the program ever reach this line if it breaks at S empty?\n",
    "                return C\n",
    "            end\n",
    "            for point in coneIntPoints\n",
    "               push!(intPoints,(point,cone)) \n",
    "            end\n",
    "        end\n",
    "        \n",
    "        #A2 - find stacky points (in terms of coefficients) derived from interior points\n",
    "        P=Array{Int64,1}[]\n",
    "        for (point,cone) in intPoints\n",
    "            stackyPoint=coneRayDecomposition(cone,rayMatrix,point,X.scalars)\n",
    "            push!(P,stackyPoint)\n",
    "        end\n",
    "        \n",
    "        #A2 - find smallest element of P with respect to lex ordering.\n",
    "        psi=minimalByLex(P)\n",
    "        \n",
    "        #A3 - perform root construction\n",
    "        X=rootConstructionDistinguishedIndices(X,D,psi)\n",
    "        \n",
    "        #A3 - modify psi with respect to root construction\n",
    "        for i in 1:length(psi)\n",
    "            if D[i]==1 && psi[i]>0\n",
    "                psi[i]=1\n",
    "            end\n",
    "        end\n",
    "        \n",
    "        while(count(x->x>0,psi)>1)\n",
    "            #A4 - perform stacky star subdivision\n",
    "            # Get the indices of the non-zero coefficients in psi\n",
    "            supportCone=findall(x->x!=0,psi)\n",
    "            X=stackyBlowup(X,[x-1 for x in supportCone],findBarycenter(supportCone,X.fan))\n",
    "            D=push!(D,1)\n",
    "        \n",
    "            #A4 - modify psi\n",
    "            newpsi=zeros(Int64,length(psi)+1)\n",
    "            for i in 1:length(psi)\n",
    "                if psi[i]>1\n",
    "                    newpsi[i]=psi[i]-1\n",
    "                end\n",
    "            end\n",
    "            newpsi[end]=1\n",
    "            psi=newpsi\n",
    "        end\n",
    "    end\n",
    "    return X\n",
    "end"
   ]
  },
  {
   "cell_type": "code",
   "execution_count": 295,
   "id": "thick-bishop",
   "metadata": {},
   "outputs": [
    {
     "data": {
      "text/html": [
       "<dl> <dt>type</dt><dd> NormalToricVariety</dd> </dl><details><summary>INPUT_CONES</summary><pre>{0 1 2}</pre></details>\n",
       "<details><summary>INPUT_RAYS</summary><pre>1 0 0\n",
       "1 2 0\n",
       "1 0 3</pre></details>"
      ],
      "text/plain": [
       "type: NormalToricVariety\n",
       "\n",
       "INPUT_CONES\n",
       "\t{0 1 2}\n",
       "\n",
       "INPUT_RAYS\n",
       "\t1 0 0\n",
       "\t1 2 0\n",
       "\t1 0 3\n"
      ]
     },
     "execution_count": 295,
     "metadata": {},
     "output_type": "execute_result"
    }
   ],
   "source": [
    "X=Polymake.fulton.NormalToricVariety(INPUT_RAYS=[1 0 0;1 2 0; 1 0 3],INPUT_CONES=[[0,1,2]])"
   ]
  },
  {
   "cell_type": "code",
   "execution_count": 296,
   "id": "medieval-trunk",
   "metadata": {},
   "outputs": [
    {
     "data": {
      "text/plain": [
       "StackyFan(Polymake.BigObjectAllocated(Ptr{Nothing} @0x000000001c14f390), [1, 1, 1], Dict(\"1,0,3\" => 1,\"1,2,0\" => 1,\"1,0,0\" => 1))"
      ]
     },
     "execution_count": 296,
     "metadata": {},
     "output_type": "execute_result"
    }
   ],
   "source": [
    "F=addStackStructure(X,[1,1,1])"
   ]
  },
  {
   "cell_type": "code",
   "execution_count": 297,
   "id": "virgin-stress",
   "metadata": {},
   "outputs": [
    {
     "name": "stdout",
     "output_type": "stream",
     "text": [
      "Polymake.Integer[1 0 0; 1 2 0]Polymake.Integer[1 2 0]Polymake.Integer[1 0 0]Polymake.Integer[1 0 0; 1 2 0]Polymake.Integer[1 2 0]Polymake.Integer[1 0 0][1 0 0; 1 2 0; 1 0 3]\n",
      "Any[[0, 1, 2], [1, 2]]\n",
      "Polymake.Integer[1 0 0; 1 2 0]"
     ]
    },
    {
     "ename": "LoadError",
     "evalue": "\u001b[91mBoundsError: attempt to access 3-element Array{Int64,1} at index [0]\u001b[39m",
     "output_type": "error",
     "traceback": [
      "\u001b[91mBoundsError: attempt to access 3-element Array{Int64,1} at index [0]\u001b[39m",
      "",
      "Stacktrace:",
      " [1] setindex!(::Array{Int64,1}, ::Int64, ::Int64) at ./array.jl:847",
      " [2] coneRayDecomposition(::Array{Int64,1}, ::Array{Int64,2}, ::Array{Polymake.Integer,1}, ::Array{Int64,1}) at /mnt/c/Users/kites/Documents/GitHub/polymakejl4tv/StackyFan.jl:774",
      " [3] BerghA(::StackyFan, ::Array{Int64,1}) at ./In[294]:45",
      " [4] top-level scope at In[297]:1",
      " [5] include_string(::Function, ::Module, ::String, ::String) at ./loading.jl:1091"
     ]
    }
   ],
   "source": []
  },
  {
   "cell_type": "code",
   "execution_count": 286,
   "id": "talented-miniature",
   "metadata": {},
   "outputs": [
    {
     "name": "stdout",
     "output_type": "stream",
     "text": [
      "Polymake.Integer[3 2 3; 1 2 0; 5 4 6]Polymake.Rational[1 0 0 0; 1 3 2 3; 1 1 2 0; 1 5 4 6; 1 4 4 3; 1 8 6 9; 1 6 6 6; 1 9 8 9]"
     ]
    },
    {
     "data": {
      "text/html": [
       "<dl> <dt>type</dt><dd> Polytope<Rational></dd> </dl><details><summary>POINTS</summary><pre>1 0 0 0\n",
       "1 3 2 3\n",
       "1 1 2 0\n",
       "1 5 4 6\n",
       "1 4 4 3\n",
       "1 8 6 9\n",
       "1 6 6 6\n",
       "1 9 8 9</pre></details>"
      ],
      "text/plain": [
       "type: Polytope<Rational>\n",
       "\n",
       "POINTS\n",
       "  1  0  0  0\n",
       "  1  3  2  3\n",
       "  1  1  2  0\n",
       "  1  5  4  6\n",
       "  1  4  4  3\n",
       "  1  8  6  9\n",
       "  1  6  6  6\n",
       "  1  9  8  9\n"
      ]
     },
     "execution_count": 286,
     "metadata": {},
     "output_type": "execute_result"
    }
   ],
   "source": [
    "P=interiorPoints(C)"
   ]
  },
  {
   "cell_type": "code",
   "execution_count": 292,
   "id": "numerous-wallace",
   "metadata": {},
   "outputs": [
    {
     "data": {
      "text/plain": [
       "pm::Matrix<pm::Integer>\n"
      ]
     },
     "execution_count": 292,
     "metadata": {},
     "output_type": "execute_result"
    }
   ],
   "source": [
    "P.INTERIOR_LATTICE_POINTS"
   ]
  },
  {
   "cell_type": "code",
   "execution_count": null,
   "id": "respiratory-sculpture",
   "metadata": {},
   "outputs": [],
   "source": []
  },
  {
   "cell_type": "code",
   "execution_count": null,
   "id": "mathematical-facing",
   "metadata": {},
   "outputs": [],
   "source": []
  }
 ],
 "metadata": {
  "kernelspec": {
   "display_name": "Julia 1.6.1",
   "language": "julia",
   "name": "julia-1.6"
  },
  "language_info": {
   "file_extension": ".jl",
   "mimetype": "application/julia",
   "name": "julia",
   "version": "1.6.1"
  }
 },
 "nbformat": 4,
 "nbformat_minor": 5
}
