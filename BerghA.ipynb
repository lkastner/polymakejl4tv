{
 "cells": [
  {
   "cell_type": "code",
   "execution_count": 70,
   "id": "isolated-palace",
   "metadata": {},
   "outputs": [
    {
     "data": {
      "text/plain": [
       "coneRayDecomposition (generic function with 1 method)"
      ]
     },
     "execution_count": 70,
     "metadata": {},
     "output_type": "execute_result"
    }
   ],
   "source": [
    "include(\"StackyFan.jl\")"
   ]
  },
  {
   "cell_type": "code",
   "execution_count": null,
   "id": "printable-collect",
   "metadata": {},
   "outputs": [],
   "source": []
  },
  {
   "cell_type": "code",
   "execution_count": 71,
   "id": "baking-passion",
   "metadata": {},
   "outputs": [
    {
     "data": {
      "text/plain": [
       "BerghA (generic function with 1 method)"
      ]
     },
     "execution_count": 71,
     "metadata": {},
     "output_type": "execute_result"
    }
   ],
   "source": [
    "#inputs are a stacky fan and a vector of booleans representing the distinguished structure.\n",
    "function BerghA(F::StackyFan,D::Array{Int64,1})\n",
    "    X=deepcopy(F)\n",
    "    rayMatrix=convert(Array{Int64,2},Array(Polymake.common.primitive(X.fan.RAYS)))\n",
    "    coneList=convertIncidenceMatrix(X.fan.MAXIMAL_CONES)\n",
    "    dim=size(rayMatrix,2)\n",
    "    l=size(rayMatrix,1)\n",
    "    #check if the vector D has length equal to the number of rays in F\n",
    "    if l != size(D,1)\n",
    "        error(\"length of vector representing distinguished structure does not agree with number of rays in stacky fan.\")\n",
    "    end\n",
    "    \n",
    "    #A0\n",
    "    while(true)\n",
    "        #A1\n",
    "        #Note: cones in S are 1-indexed.\n",
    "        S=filter(cone->distinguishedAndMultiplicity(cone,rayMatrix,D),coneList)\n",
    "        if S==[]\n",
    "            break\n",
    "        end\n",
    "        \n",
    "        #A2 - find extremal cones\n",
    "        Smax=extremalCones(S,rayMatrix,D)\n",
    "        \n",
    "        #A2 - find interior points in Smax\n",
    "        intPoints=[]\n",
    "        for cone in Smax\n",
    "            C=coneConvert(cone,rayMatrix)\n",
    "            coneIntPoints=interiorPoints(C)\n",
    "            for point in coneIntPoints\n",
    "               push!(intPoints,(point,cone)) \n",
    "            end\n",
    "        end\n",
    "        \n",
    "        #A2 - find stacky points (in terms of coefficients) derived from interior points\n",
    "        P=Array{Int64,1}[]\n",
    "        for (point,cone) in intPoints\n",
    "            stackyPoint=coneRayDecomposition(cone,rayMatrix,point,X.scalars)\n",
    "            push!(P,stackyPoint)\n",
    "        end\n",
    "        \n",
    "        #A2 - find smallest element of P with respect to lex ordering.\n",
    "        print(P)\n",
    "        psi=minimalByLex(P)\n",
    "\n",
    "        #A3 - perform root construction\n",
    "        X=rootConstructionDistinguishedIndices(X,D,psi)\n",
    "        rayMatrix=convert(Array{Int64,2},Array(Polymake.common.primitive(X.fan.RAYS)))\n",
    "        \n",
    "        #A3 - modify psi with respect to root construction\n",
    "        for i in 1:length(psi)\n",
    "            if D[i]==1\n",
    "                psi[i]=1\n",
    "            end\n",
    "        end\n",
    "        \n",
    "        while(count(x->x>0,psi)>1)\n",
    "            #A4 - perform stacky star subdivision\n",
    "            supportCone=findall(x->x==1,psi)\n",
    "            blowupRay=rayMatrix*psi\n",
    "            X=stackyBlowup(X,supportCone,blowupRay)\n",
    "        \n",
    "            #A4 - modify psi\n",
    "            newpsi=zeros(Int64,length(psi)+1)\n",
    "            for i in 1:length(psi)\n",
    "                if psi[i]>1\n",
    "                    newpsi[i]=psi[i]-1\n",
    "                end\n",
    "            end\n",
    "            newpsi[end]=1\n",
    "        end\n",
    "    end\n",
    "    return X\n",
    "end"
   ]
  },
  {
   "cell_type": "code",
   "execution_count": 72,
   "id": "portable-excess",
   "metadata": {},
   "outputs": [
    {
     "data": {
      "text/html": [
       "<dl> <dt>type</dt><dd> NormalToricVariety</dd> </dl><details><summary>INPUT_CONES</summary><pre>{0 1}</pre></details>\n",
       "<details><summary>INPUT_RAYS</summary><pre>1 2\n",
       "1 0</pre></details>"
      ],
      "text/plain": [
       "type: NormalToricVariety\n",
       "\n",
       "INPUT_CONES\n",
       "\t{0 1}\n",
       "\n",
       "INPUT_RAYS\n",
       "\t1 2\n",
       "\t1 0\n"
      ]
     },
     "execution_count": 72,
     "metadata": {},
     "output_type": "execute_result"
    }
   ],
   "source": [
    "X=Polymake.fulton.NormalToricVariety(INPUT_RAYS=[1 2;1 0],INPUT_CONES=[[0,1]])"
   ]
  },
  {
   "cell_type": "code",
   "execution_count": 73,
   "id": "trained-thanks",
   "metadata": {},
   "outputs": [
    {
     "data": {
      "text/plain": [
       "StackyFan(Polymake.BigObjectAllocated(Ptr{Nothing} @0x0000000019f0b220), [1, 1], Dict(\"1,2\" => 1,\"1,0\" => 1))"
      ]
     },
     "execution_count": 73,
     "metadata": {},
     "output_type": "execute_result"
    }
   ],
   "source": [
    "F=addStackStructure(X,[1,1])"
   ]
  },
  {
   "cell_type": "code",
   "execution_count": 74,
   "id": "documentary-medicare",
   "metadata": {},
   "outputs": [
    {
     "name": "stdout",
     "output_type": "stream",
     "text": [
      "[[1, 1]]"
     ]
    },
    {
     "name": "stderr",
     "output_type": "stream",
     "text": [
      "┌ Warning: Interrupting polymake is not safe.\n",
      "│ SIGINT is disabled while waiting for polymake to finish its computations.\n",
      "└ @ Polymake /home/kitty/.julia/packages/Polymake/qeOTA/src/perlobj.jl:47\n"
     ]
    },
    {
     "ename": "LoadError",
     "evalue": "\u001b[91mInterruptException:\u001b[39m",
     "output_type": "error",
     "traceback": [
      "\u001b[91mInterruptException:\u001b[39m",
      "",
      "Stacktrace:",
      " [1] sigatomic_end at ./c.jl:425 [inlined]",
      " [2] disable_sigint at ./c.jl:448 [inlined]",
      " [3] give(::Polymake.BigObjectAllocated, ::String) at /home/kitty/.julia/packages/Polymake/qeOTA/src/perlobj.jl:41",
      " [4] getproperty at /home/kitty/.julia/packages/Polymake/qeOTA/src/perlobj.jl:59 [inlined]",
      " [5] toric_blowup(::Array{Int64,1}, ::Polymake.BigObjectAllocated, ::Array{Int64,1}) at /mnt/c/Users/kites/Documents/GitHub/polymakejl4tv/StackyFan.jl:261",
      " [6] stackyBlowup(::StackyFan, ::Array{Int64,1}, ::Array{Int64,1}) at /mnt/c/Users/kites/Documents/GitHub/polymakejl4tv/StackyFan.jl:320",
      " [7] BerghA(::StackyFan, ::Array{Int64,1}) at ./In[71]:61",
      " [8] top-level scope at In[74]:1",
      " [9] include_string(::Function, ::Module, ::String, ::String) at ./loading.jl:1091"
     ]
    }
   ],
   "source": [
    "BerghA(F,[1,1])"
   ]
  },
  {
   "cell_type": "code",
   "execution_count": 4,
   "id": "caroline-decrease",
   "metadata": {},
   "outputs": [
    {
     "data": {
      "text/plain": [
       "3"
      ]
     },
     "execution_count": 4,
     "metadata": {},
     "output_type": "execute_result"
    }
   ],
   "source": [
    "A=[0,1,2,3]\n",
    "A[end]"
   ]
  },
  {
   "cell_type": "code",
   "execution_count": null,
   "id": "passive-plymouth",
   "metadata": {},
   "outputs": [],
   "source": []
  },
  {
   "cell_type": "code",
   "execution_count": null,
   "id": "wrapped-messaging",
   "metadata": {},
   "outputs": [],
   "source": []
  },
  {
   "cell_type": "code",
   "execution_count": null,
   "id": "functioning-preference",
   "metadata": {},
   "outputs": [],
   "source": []
  }
 ],
 "metadata": {
  "kernelspec": {
   "display_name": "Julia 1.5.3",
   "language": "julia",
   "name": "julia-1.5"
  },
  "language_info": {
   "file_extension": ".jl",
   "mimetype": "application/julia",
   "name": "julia",
   "version": "1.5.3"
  }
 },
 "nbformat": 4,
 "nbformat_minor": 5
}
