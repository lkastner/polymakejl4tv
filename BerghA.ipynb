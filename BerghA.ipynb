{
 "cells": [
  {
   "cell_type": "code",
   "execution_count": 9,
   "id": "3eacb0c9",
   "metadata": {},
   "outputs": [
    {
     "data": {
      "text/plain": [
       "interiorPoints (generic function with 1 method)"
      ]
     },
     "execution_count": 9,
     "metadata": {},
     "output_type": "execute_result"
    }
   ],
   "source": [
    "include(\"StackyFan.jl\")"
   ]
  },
  {
   "cell_type": "code",
   "execution_count": 10,
   "id": "36cc6682",
   "metadata": {},
   "outputs": [
    {
     "data": {
      "text/plain": [
       "BerghA (generic function with 1 method)"
      ]
     },
     "execution_count": 10,
     "metadata": {},
     "output_type": "execute_result"
    }
   ],
   "source": [
    "#inputs are a stacky fan and a vector of booleans representing the distinguished structure.\n",
    "function BerghA(X::StackyFan,D::Array{Int64,1})\n",
    "    rayMatrix=Array(X.fan.RAYS)\n",
    "    coneList=convertIncidenceMatrix(X.fan.MAXIMAL_CONES)\n",
    "    dim=size(rayMatrix,2)\n",
    "    l=size(rayMatrix,1)\n",
    "    #check if the vector D has length equal to the number of rays in F\n",
    "    if l != size(D,1)\n",
    "        error(\"length of vector representing distinguished structure does not agree with number of rays in stacky fan.\")\n",
    "    end\n",
    "    \n",
    "    #A0\n",
    "    i=0\n",
    "    while(true)\n",
    "        #A1\n",
    "        #Note: cones in S are 1-indexed.\n",
    "        S=filter(cone->distinguishedAndMultiplicity(cone,rayMatrix,D),coneList)\n",
    "        if S==[]\n",
    "            break\n",
    "        end\n",
    "        \n",
    "        #A2 - find extremal cones\n",
    "        Smax=extremalCones(S,rayMatrix,D)\n",
    "        return Smax\n",
    "        \n",
    "    end\n",
    "    return X\n",
    "end"
   ]
  },
  {
   "cell_type": "code",
   "execution_count": 11,
   "id": "53f36af4",
   "metadata": {},
   "outputs": [
    {
     "data": {
      "text/plain": [
       "StackyFan(Polymake.BigObjectAllocated(Ptr{Nothing} @0x00007ffc7d4357d0), [1, 1, 1], Dict(\"1,2\" => 1, \"1,-1\" => 1, \"1,0\" => 1))"
      ]
     },
     "execution_count": 11,
     "metadata": {},
     "output_type": "execute_result"
    }
   ],
   "source": [
    "F=StackyFan([1 0; 1 2; 1 -1],[[0,1],[0,2]],[1,1,1])"
   ]
  },
  {
   "cell_type": "code",
   "execution_count": 12,
   "id": "121a3787",
   "metadata": {},
   "outputs": [
    {
     "data": {
      "text/plain": [
       "StackyFan(Polymake.BigObjectAllocated(Ptr{Nothing} @0x00007ffc7d4357d0), [1, 1, 1], Dict(\"1,2\" => 1, \"1,-1\" => 1, \"1,0\" => 1))"
      ]
     },
     "execution_count": 12,
     "metadata": {},
     "output_type": "execute_result"
    }
   ],
   "source": [
    "BerghA(F,[0,0,1])"
   ]
  },
  {
   "cell_type": "code",
   "execution_count": null,
   "id": "22530f3e",
   "metadata": {},
   "outputs": [],
   "source": []
  },
  {
   "cell_type": "code",
   "execution_count": 14,
   "id": "18b88922",
   "metadata": {},
   "outputs": [
    {
     "ename": "LoadError",
     "evalue": "type StackyFan has no field HASSE_DIAGRAM",
     "output_type": "error",
     "traceback": [
      "type StackyFan has no field HASSE_DIAGRAM",
      "",
      "Stacktrace:",
      " [1] getproperty(x::StackyFan, f::Symbol)",
      "   @ Base ./Base.jl:33",
      " [2] top-level scope",
      "   @ In[14]:1",
      " [3] eval",
      "   @ ./boot.jl:360 [inlined]",
      " [4] include_string(mapexpr::typeof(REPL.softscope), mod::Module, code::String, filename::String)",
      "   @ Base ./loading.jl:1094"
     ]
    }
   ],
   "source": [
    "lattice = X.HASSE_DIAGRAM\n",
    "faces = @Polymake.convert_to Array{Set{Int}} lattice.FACES"
   ]
  },
  {
   "cell_type": "code",
   "execution_count": 46,
   "id": "0d61629e",
   "metadata": {},
   "outputs": [
    {
     "data": {
      "text/html": [
       "[[$0$, $1$, $2$, $3$], [$0$, $2$, $4$], [$0$, $1$], [$0$, $2$], [$2$, $3$], [$1$, $3$], [$0$, $4$], [$2$, $4$], [$0$], [$1$], [$2$], [$3$], [$4$]]"
      ],
      "text/plain": [
       "13-element Array{Any,1}:\n",
       " [0, 1, 2, 3]\n",
       " [0, 2, 4]\n",
       " [0, 1]\n",
       " [0, 2]\n",
       " [2, 3]\n",
       " [1, 3]\n",
       " [0, 4]\n",
       " [2, 4]\n",
       " [0]\n",
       " [1]\n",
       " [2]\n",
       " [3]\n",
       " [4]"
      ]
     },
     "execution_count": 46,
     "metadata": {},
     "output_type": "execute_result"
    }
   ],
   "source": [
    "getCones(X)"
   ]
  },
  {
   "cell_type": "code",
   "execution_count": null,
   "id": "cfdfdf68",
   "metadata": {},
   "outputs": [],
   "source": []
  }
 ],
 "metadata": {
  "kernelspec": {
   "display_name": "Julia 1.6.0",
   "language": "julia",
   "name": "julia-1.6"
  },
  "language_info": {
   "file_extension": ".jl",
   "mimetype": "application/julia",
   "name": "julia",
   "version": "1.6.0"
  }
 },
 "nbformat": 4,
 "nbformat_minor": 5
}
