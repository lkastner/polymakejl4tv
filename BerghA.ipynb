{
 "cells": [
  {
   "cell_type": "code",
   "execution_count": 7,
   "id": "c2adc387",
   "metadata": {},
   "outputs": [
    {
     "data": {
      "text/plain": [
       "coneRayDecomposition (generic function with 1 method)"
      ]
     },
     "execution_count": 7,
     "metadata": {},
     "output_type": "execute_result"
    }
   ],
   "source": [
    "include(\"StackyFan.jl\")"
   ]
  },
  {
   "cell_type": "code",
   "execution_count": 89,
   "id": "a8892b3c",
   "metadata": {},
   "outputs": [
    {
     "data": {
      "text/plain": [
       "BerghA (generic function with 2 methods)"
      ]
     },
     "execution_count": 89,
     "metadata": {},
     "output_type": "execute_result"
    }
   ],
   "source": [
    "\"\"\"\n",
    "\n",
    "    BerghA(F::StackyFan,D::Array{Int64,1})\n",
    "\n",
    "    Given a stacky fan F and a vector of booleans D representing the distinguished structure,\n",
    "    returns a smooth stacky fan where the distinguished rays are independent.\n",
    "\n",
    "    \n",
    "\"\"\"\n",
    "\n",
    "function BerghA(F::StackyFan,D::Array{Int64,1},verbose::Bool=true)\n",
    "    if verbose==true\n",
    "        println(\"==algorithm is running in verbose mode==\")\n",
    "        println(\" \")\n",
    "        println(\"=======\")\n",
    "    end\n",
    "    X=deepcopy(F)\n",
    "    rayMatrix=convert(Array{Int64,2},Array(Polymake.common.primitive(X.fan.RAYS)))\n",
    "    coneList=getCones(X.fan)\n",
    "    dim=size(rayMatrix,2)\n",
    "    numRays=size(rayMatrix,1)\n",
    "    stackTracker=ones(Int64,numRays)\n",
    "    \n",
    "    #check if the vector D has length equal to the number of rays in F\n",
    "    if numRays != size(D,1)\n",
    "        error(\"length of vector representing distinguished structure does not agree with number of rays in stacky fan.\")\n",
    "    end\n",
    "    \n",
    "    #A0: initialization\n",
    "    i=0\n",
    "    while(true)\n",
    "        rayMatrix=convert(Array{Int64,2},Array(Polymake.common.primitive(X.fan.RAYS)))\n",
    "        numRays=size(rayMatrix,1)\n",
    "        coneList=getCones(X.fan)\n",
    "        if verbose==true\n",
    "            #println(\"Ray matrix: $rayMatrix\")\n",
    "            #println(\"Cone list: $coneList\")\n",
    "            #sW=stackyWeights(X)\n",
    "            #println(\"Stacky weights: $sW\")\n",
    "            #println(\"Distinguished rays: $D\")\n",
    "        end\n",
    "        coneMultiplicities=Int64[]\n",
    "        for cone in coneList\n",
    "            C=coneConvert(cone,rayMatrix)\n",
    "            push!(coneMultiplicities,coneMultiplicity(C))\n",
    "        end\n",
    "        #if verbose==true\n",
    "            #println(\"Cone multiplicities: $coneMultiplicities\")\n",
    "        #end\n",
    "        #A1: check if finished\n",
    "        # Find S the set of cones that contain a distinguised ray and an interior a lattice point \n",
    "        #Note: cones in S are 1-indexed.\n",
    "        S=filter(cone->distinguishedAndIntPoint(cone,rayMatrix,D),coneList)\n",
    "        # If S is empty, the program terminates.\n",
    "        if S==[]\n",
    "            break\n",
    "        end\n",
    "        \n",
    "        #A2 - find extremal cones\n",
    "        Smax=extremalCones(S,rayMatrix,D)\n",
    "        if verbose==true\n",
    "            Smaxcount=size(Smax,1)\n",
    "            println(\"Number of extremal cones: $Smaxcount\")\n",
    "            testCone=Smax[1]\n",
    "            c1=convertToIncidence(testCone,numRays)\n",
    "            nonDist=size(testCone,1)-dot(c1,D)\n",
    "            mult=coneMultiplicity(coneConvert(testCone,rayMatrix))\n",
    "            println(\"Maximal non-distinguished rays and multiplicity: $nonDist, $mult\")\n",
    "        end\n",
    "        \n",
    "        #A2 - find interior points in Smax\n",
    "        intPoints=[]\n",
    "        for cone in Smax\n",
    "            #C=rowMinors(rayMatrix,cone)\n",
    "            C=coneConvert(cone,rayMatrix)\n",
    "            coneIntPoints=interiorPoints(C)\n",
    "            if coneIntPoints==nothing\n",
    "                # does the program ever reach this line if it breaks at S empty?\n",
    "                return C\n",
    "            end\n",
    "            for point in coneIntPoints\n",
    "               push!(intPoints,(point,cone)) \n",
    "            end\n",
    "        end\n",
    "        \n",
    "        #A2 - find stacky points (in terms of coefficients) derived from interior points\n",
    "        P=Array{Int64,1}[]\n",
    "        numatrix=convert(Array{Int64,2},Array(Polymake.common.primitive(X.fan.RAYS)))\n",
    "        for (point,cone) in intPoints\n",
    "            stackyPoint=coneRayDecomposition(cone,rayMatrix,point,stackyWeights(X))\n",
    "            push!(P,stackyPoint)\n",
    "        end\n",
    "        \n",
    "        #A2 - find smallest element of P with respect to lex ordering.\n",
    "        psi=minimalByLex(P)\n",
    "        #if verbose==true\n",
    "            #println(\"Psi: $psi\")\n",
    "        #end\n",
    "        \n",
    "        \n",
    "        #A3 - perform root construction\n",
    "        X=rootConstructionDistinguishedIndices(X,D,psi)\n",
    "        \n",
    "        #A3 - modify psi with respect to root construction\n",
    "        for i in 1:length(psi)\n",
    "            if D[i]==1 && psi[i]>0\n",
    "                psi[i]=1\n",
    "            end\n",
    "        end\n",
    "        \n",
    "        #TODO: Currently the distinguished rays D and psi coefficients are not\n",
    "        #used in the output. Should these be removed? Also may need to annotate\n",
    "        #what stackTracker does.\n",
    "        \n",
    "        # Convert arrays to dictionaries as constructing fan objects through subdivision\n",
    "        # may reorder rays\n",
    "        \n",
    "        \n",
    "        #A5 - repeat star subdivision\n",
    "        while(count(x->x>0,psi)>1)\n",
    "            #A4 - perform stacky star subdivision\n",
    "            # Get the indices of the non-zero coefficients in psi\n",
    "            supportCone=findall(x->x!=0,psi)\n",
    "            #if verbose==true\n",
    "                #sW=stackyWeights(X)\n",
    "                #println(\"Modified stacky weights: $sW\")\n",
    "            #end\n",
    "            exceptional=findStackyBarycenter(supportCone,X)\n",
    "            #if verbose==true\n",
    "                #println(\"Blowing up at $exceptional\")\n",
    "            #end\n",
    "            \n",
    "            code_rays = mapslices(encode, Polymake.common.primitive(X.fan.RAYS), dims=2)\n",
    "            # Track the indices of distinguished rays\n",
    "            D_pairs = map((x,y) -> (x,y), code_rays, D)\n",
    "            D_Dict = Dict(D_pairs)\n",
    "            # Track psi as a linear combination of the generators\n",
    "            psiPairs = map((x,y) -> (x,y), code_rays,psi)\n",
    "            psiDict = Dict(psiPairs)\n",
    "            trackerPairs = map((x,y) -> (x,y), code_rays, stackTracker)\n",
    "            trackerDict= Dict(trackerPairs)\n",
    "            \n",
    "            X=stackyBlowup(X,[x-1 for x in supportCone],exceptional)\n",
    "            \n",
    "            G=gcd(exceptional)\n",
    "            primExcep=Polymake.common.primitive(exceptional)\n",
    "            \n",
    "            # Update the dictionaries storing fan information\n",
    "            D_Dict[encode(primExcep)]=1\n",
    "            psiDict[encode(primExcep)]=1\n",
    "            trackerDict[encode(primExcep)]=G\n",
    "            \n",
    "            newRays=slicematrix(convert(Array{Int64,2},Array(Polymake.common.primitive(X.fan.RAYS))))\n",
    "            newD=Int64[]\n",
    "            newpsi=Int64[]\n",
    "            newTracker=Int64[]\n",
    "            for ray in newRays\n",
    "                E=encode(ray)\n",
    "                excepCode=encode(primExcep)\n",
    "                push!(newD,D_Dict[E])\n",
    "                #A4 - modify psi\n",
    "                if E==excepCode\n",
    "                    push!(newpsi,1)\n",
    "                elseif psiDict[E]>1\n",
    "                    push!(newpsi,psiDict[E]-1)\n",
    "                else\n",
    "                    push!(newpsi,0)\n",
    "                end\n",
    "                push!(newTracker,trackerDict[E])\n",
    "            end\n",
    "            psi=newpsi\n",
    "            D=newD\n",
    "            stackTracker=newTracker\n",
    "            #A4 - modify psi\n",
    "        end\n",
    "        if verbose==true\n",
    "            println(\"=======\")\n",
    "        end\n",
    "        i+=1\n",
    "    end\n",
    "    if verbose==true\n",
    "        println(\"Number of steps: $i\")\n",
    "    end\n",
    "    return X, stackTracker\n",
    "end"
   ]
  },
  {
   "cell_type": "code",
   "execution_count": 91,
   "id": "b1619ea4",
   "metadata": {},
   "outputs": [
    {
     "data": {
      "text/plain": [
       "StackyFan(Polymake.BigObjectAllocated(Ptr{Nothing} @0x00007f88383a5740), Dict(\"2,5\" => 1, \"1,0\" => 1))"
      ]
     },
     "execution_count": 91,
     "metadata": {},
     "output_type": "execute_result"
    }
   ],
   "source": [
    "X=Polymake.fulton.NormalToricVariety(INPUT_RAYS=[1 0 ; 2 5],INPUT_CONES=[[0,1]])\n",
    "F=addStackStructure(X,[1,1])"
   ]
  },
  {
   "cell_type": "code",
   "execution_count": 92,
   "id": "b3fccb2b",
   "metadata": {},
   "outputs": [
    {
     "name": "stdout",
     "output_type": "stream",
     "text": [
      "==algorithm is running in verbose mode==\n",
      " \n",
      "=======\n",
      "Number of extremal cones: 1\n",
      "Maximal non-distinguished rays and multiplicity: 1, 5\n",
      "=======\n",
      "Number of extremal cones: 1\n",
      "Maximal non-distinguished rays and multiplicity: 1, 2\n",
      "=======\n",
      "Number of extremal cones: 3\n",
      "Maximal non-distinguished rays and multiplicity: 0, 5\n",
      "=======\n",
      "Number of extremal cones: 2\n",
      "Maximal non-distinguished rays and multiplicity: 0, 5\n",
      "=======\n",
      "Number of extremal cones: 1\n",
      "Maximal non-distinguished rays and multiplicity: 0, 5\n",
      "=======\n",
      "Number of extremal cones: 1\n",
      "Maximal non-distinguished rays and multiplicity: 0, 3\n",
      "=======\n",
      "Number of extremal cones: 3\n",
      "Maximal non-distinguished rays and multiplicity: 0, 2\n",
      "=======\n",
      "Number of extremal cones: 2\n",
      "Maximal non-distinguished rays and multiplicity: 0, 2\n",
      "=======\n",
      "Number of extremal cones: 1\n",
      "Maximal non-distinguished rays and multiplicity: 0, 2\n",
      "=======\n",
      "Number of steps: 9\n",
      "  4.220298 seconds (730.25 k allocations: 17.417 MiB, 1.72% compilation time)\n"
     ]
    },
    {
     "data": {
      "text/html": [
       "(StackyFan(BigObjectAllocated(Ptr{Nothing} @0x00007f883912eb00), Dict(\"5,7\"=>20, \"9,10\"=>15, \"8,9\"=>30, \"7,8\"=>15, \"5,6\"=>15, \"1,2\"=>5, \"2,5\"=>2, \"3,4\"=>10, \"4,5\"=>10, \"2,3\"=>10…)), [$5$, $1$, $2$, $1$, $10$, $1$, $5$, $2$, $10$, $1$, $15$, $20$, $5$, $30$, $30$])"
      ],
      "text/plain": [
       "(StackyFan(Polymake.BigObjectAllocated(Ptr{Nothing} @0x00007f883912eb00), Dict(\"5,7\" => 20, \"9,10\" => 15, \"8,9\" => 30, \"7,8\" => 15, \"5,6\" => 15, \"1,2\" => 5, \"2,5\" => 2, \"3,4\" => 10, \"4,5\" => 10, \"2,3\" => 10…)), [5, 1, 2, 1, 10, 1, 5, 2, 10, 1, 15, 20, 5, 30, 30])"
      ]
     },
     "execution_count": 92,
     "metadata": {},
     "output_type": "execute_result"
    }
   ],
   "source": [
    "@time C=BerghA(F,[0,1])"
   ]
  },
  {
   "cell_type": "code",
   "execution_count": null,
   "id": "874aa316",
   "metadata": {},
   "outputs": [],
   "source": []
  },
  {
   "cell_type": "code",
   "execution_count": null,
   "id": "77b27ac9",
   "metadata": {},
   "outputs": [],
   "source": []
  },
  {
   "cell_type": "code",
   "execution_count": null,
   "id": "478ef8a4",
   "metadata": {},
   "outputs": [],
   "source": []
  },
  {
   "cell_type": "code",
   "execution_count": null,
   "id": "6c1acefa",
   "metadata": {},
   "outputs": [],
   "source": []
  }
 ],
 "metadata": {
  "kernelspec": {
   "display_name": "Julia 1.6.1",
   "language": "julia",
   "name": "julia-1.6"
  },
  "language_info": {
   "file_extension": ".jl",
   "mimetype": "application/julia",
   "name": "julia",
   "version": "1.6.1"
  }
 },
 "nbformat": 4,
 "nbformat_minor": 5
}
