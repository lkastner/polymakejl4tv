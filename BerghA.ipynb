{
 "cells": [
  {
   "cell_type": "code",
   "execution_count": 270,
   "id": "c2adc387",
   "metadata": {},
   "outputs": [
    {
     "data": {
      "text/plain": [
       "coneRayDecomposition (generic function with 1 method)"
      ]
     },
     "execution_count": 270,
     "metadata": {},
     "output_type": "execute_result"
    }
   ],
   "source": [
    "include(\"StackyFan.jl\")"
   ]
  },
  {
   "cell_type": "code",
   "execution_count": null,
   "id": "60d741ba",
   "metadata": {},
   "outputs": [],
   "source": []
  },
  {
   "cell_type": "code",
   "execution_count": 293,
   "id": "a8892b3c",
   "metadata": {},
   "outputs": [
    {
     "data": {
      "text/plain": [
       "BerghA (generic function with 1 method)"
      ]
     },
     "execution_count": 293,
     "metadata": {},
     "output_type": "execute_result"
    }
   ],
   "source": [
    "\"\"\"\n",
    "\n",
    "    BerghA(F::StackyFan,D::Array{Int64,1})\n",
    "\n",
    "    Given a stacky fan F and a vector of booleans D representing the distinguished structure,\n",
    "    returns a smooth stacky fan where the distinguished rays are independent.\n",
    "\n",
    "    \n",
    "\"\"\"\n",
    "\n",
    "function BerghA(F::StackyFan,D::Array{Int64,1})\n",
    "    X=deepcopy(F)\n",
    "    rayMatrix=convert(Array{Int64,2},Array(Polymake.common.primitive(X.fan.RAYS)))\n",
    "    coneList=getCones(X.fan)\n",
    "    dim=size(rayMatrix,2)\n",
    "    numRays=size(rayMatrix,1)\n",
    "    stackTracker=ones(Int64,numRays)\n",
    "    \n",
    "    #check if the vector D has length equal to the number of rays in F\n",
    "    if numRays != size(D,1)\n",
    "        error(\"length of vector representing distinguished structure does not agree with number of rays in stacky fan.\")\n",
    "    end\n",
    "    \n",
    "    #A0: initialization\n",
    "    while(true)\n",
    "        rayMatrix=convert(Array{Int64,2},Array(Polymake.common.primitive(X.fan.RAYS)))\n",
    "        println(rayMatrix)\n",
    "        coneList=getCones(X.fan)\n",
    "        println(coneList)\n",
    "        println(stackyWeights(X))\n",
    "        println()\n",
    "        #A1: check if finished\n",
    "        # Find S the set of cones that contain a distinguised ray and an interior a lattice point \n",
    "        #Note: cones in S are 1-indexed.\n",
    "        S=filter(cone->distinguishedAndIntPoint(cone,rayMatrix,D),coneList)\n",
    "        # If S is empty, the program terminates.\n",
    "        if S==[]\n",
    "            break\n",
    "        end\n",
    "        \n",
    "        #A2 - find extremal cones\n",
    "        Smax=extremalCones(S,rayMatrix,D)\n",
    "        \n",
    "        #A2 - find interior points in Smax\n",
    "        intPoints=[]\n",
    "        for cone in Smax\n",
    "            #C=rowMinors(rayMatrix,cone)\n",
    "            C=coneConvert(cone,rayMatrix)\n",
    "            coneIntPoints=interiorPoints(C)\n",
    "            if coneIntPoints==nothing\n",
    "                # does the program ever reach this line if it breaks at S empty?\n",
    "                return C\n",
    "            end\n",
    "            for point in coneIntPoints\n",
    "               push!(intPoints,(point,cone)) \n",
    "            end\n",
    "        end\n",
    "        \n",
    "        #A2 - find stacky points (in terms of coefficients) derived from interior points\n",
    "        P=Array{Int64,1}[]\n",
    "        for (point,cone) in intPoints\n",
    "            stackyPoint=coneRayDecomposition(cone,rayMatrix,point,stackyWeights(X))\n",
    "            push!(P,stackyPoint)\n",
    "        end\n",
    "        \n",
    "        #A2 - find smallest element of P with respect to lex ordering.\n",
    "        psi=minimalByLex(P)\n",
    "        \n",
    "        #A3 - perform root construction\n",
    "        X=rootConstructionDistinguishedIndices(X,D,psi)\n",
    "        \n",
    "        #A3 - modify psi with respect to root construction\n",
    "        for i in 1:length(psi)\n",
    "            if D[i]==1 && psi[i]>0\n",
    "                psi[i]=1\n",
    "            end\n",
    "        end\n",
    "        \n",
    "        #TODO: Currently the distinguished rays D and psi coefficients are not\n",
    "        #used in the output. Should these be removed? Also may need to annotate\n",
    "        #what stackTracker does.\n",
    "        \n",
    "        # Convert arrays to dictionaries as constructing fan objects through subdivision\n",
    "        # may reorder rays\n",
    "        code_rays = mapslices(encode, Polymake.common.primitive(X.fan.RAYS), dims=2)\n",
    "        # Track the indices of distinguished rays\n",
    "        D_pairs = map((x,y) -> (x,y), code_rays, D)\n",
    "        D_Dict = Dict(D_pairs)\n",
    "        # Track psi as a linear combination of the generators\n",
    "        psiPairs = map((x,y) -> (x,y), code_rays,psi)\n",
    "        psiDict = Dict(psiPairs)\n",
    "        # \n",
    "        trackerPairs = map((x,y) -> (x,y), code_rays, stackTracker)\n",
    "        trackerDict= Dict(trackerPairs)\n",
    "        \n",
    "        #A5 - repeat star subdivision\n",
    "        while(count(x->x>0,psi)>1)\n",
    "            #A4 - perform stacky star subdivision\n",
    "            # Get the indices of the non-zero coefficients in psi\n",
    "            supportCone=findall(x->x!=0,psi)\n",
    "            exceptional=findBarycenter(supportCone,X.fan)\n",
    "            \n",
    "            X=stackyBlowup(X,[x-1 for x in supportCone],exceptional)\n",
    "            \n",
    "            G=gcd(exceptional)\n",
    "            primExcep=Polymake.common.primitive(exceptional)\n",
    "            \n",
    "            # Update the dictionaries storing fan information\n",
    "            D_Dict[encode(primExcep)]=1\n",
    "            psiDict[encode(primExcep)]=1\n",
    "            trackerDict[encode(primExcep)]=G\n",
    "        \n",
    "            #A4 - modify psi\n",
    "            newpsi=zeros(Int64,length(psi))\n",
    "            for i in 1:length(psi)\n",
    "                if psi[i]>1\n",
    "                    newpsi[i]=psi[i]-1\n",
    "                end\n",
    "            end\n",
    "            psi=newpsi\n",
    "        end\n",
    "        \n",
    "        # Convert dictionaries back into arrays in the order of the new rays\n",
    "        newRays=slicematrix(convert(Array{Int64,2},Array(Polymake.common.primitive(X.fan.RAYS))))\n",
    "        newD=Int64[]\n",
    "        newpsi=Int64[]\n",
    "        newTracker=Int64[]\n",
    "        for ray in newRays\n",
    "            E=encode(ray)\n",
    "            push!(newD,D_Dict[E])\n",
    "            push!(newpsi,psiDict[E])\n",
    "            push!(newTracker,trackerDict[E])\n",
    "        end\n",
    "        psi=newpsi\n",
    "        D=newD\n",
    "        stackTracker=newTracker\n",
    "    end\n",
    "    \n",
    "    return X, stackTracker\n",
    "end"
   ]
  },
  {
   "cell_type": "code",
   "execution_count": 294,
   "id": "b1619ea4",
   "metadata": {},
   "outputs": [
    {
     "data": {
      "text/html": [
       "<dl> <dt>type</dt><dd> NormalToricVariety</dd> </dl>   <details>\n",
       "       <summary style='display:list-item;'>INPUT_CONES</summary>\n",
       "       <pre>{0 1 2}</pre>\n",
       "   </details>\n",
       "\n",
       "   <details>\n",
       "       <summary style='display:list-item;'>INPUT_RAYS</summary>\n",
       "       <pre>1 2 3\n",
       "1 5 4\n",
       "6 11 8</pre>\n",
       "   </details>\n"
      ],
      "text/plain": [
       "type: NormalToricVariety\n",
       "\n",
       "INPUT_CONES\n",
       "\t{0 1 2}\n",
       "\n",
       "INPUT_RAYS\n",
       "\t1 2 3\n",
       "\t1 5 4\n",
       "\t6 11 8\n"
      ]
     },
     "execution_count": 294,
     "metadata": {},
     "output_type": "execute_result"
    }
   ],
   "source": [
    "X=Polymake.fulton.NormalToricVariety(INPUT_RAYS=[1 2 3;1 5 4; 6 11 8],INPUT_CONES=[[0,1,2]])"
   ]
  },
  {
   "cell_type": "code",
   "execution_count": 295,
   "id": "2b4bf635",
   "metadata": {},
   "outputs": [
    {
     "data": {
      "text/plain": [
       "StackyFan(Polymake.BigObjectAllocated(Ptr{Nothing} @0x000000001c5418c0), [3, 4, 2], Dict(\"1,5,4\" => 4, \"1,2,3\" => 3, \"6,11,8\" => 2))"
      ]
     },
     "execution_count": 295,
     "metadata": {},
     "output_type": "execute_result"
    }
   ],
   "source": [
    "F=addStackStructure(X,[3,4,2])"
   ]
  },
  {
   "cell_type": "code",
   "execution_count": null,
   "id": "2492ce3f",
   "metadata": {},
   "outputs": [],
   "source": []
  },
  {
   "cell_type": "code",
   "execution_count": 296,
   "id": "b3fccb2b",
   "metadata": {},
   "outputs": [
    {
     "name": "stdout",
     "output_type": "stream",
     "text": [
      "[1 2 3; 1 5 4; 6 11 8]\n",
      "[[1, 2, 3], [1, 2], [1, 3], [2, 3], [1], [2], [3]]\n",
      " \n",
      "[1 2 3; 1 5 4; 8 18 15; 6 11 8]\n",
      "[[1, 2, 3], [1, 3, 4], [2, 3, 4], [1, 2], [1, 3], [2, 3], [1, 4], [3, 4], [2, 4], [1], [2], [3], [4]]\n",
      " \n",
      "[1 2 3; 1 5 4; 8 18 15; 6 11 8; 15 34 27]\n",
      "[[1, 2, 3], [1, 3, 4], [2, 3, 5], [3, 4, 5], [2, 4, 5], [1, 2], [1, 3], [2, 3], [1, 4], [3, 4], [3, 5], [2, 5], [4, 5], [2, 4], [1], [2], [3], [4], [5]]\n",
      " \n",
      "[1 2 3; 1 5 4; 8 18 15; 6 11 8; 15 34 27; 29 63 50]\n",
      "[[1, 2, 3], [1, 3, 4], [2, 3, 5], [2, 4, 5], [3, 4, 6], [3, 5, 6], [4, 5, 6], [1, 2], [1, 3], [2, 3], [1, 4], [3, 4], [3, 5], [2, 5], [2, 4], [4, 5], [4, 6], [3, 6], [5, 6], [1], [2], [3], [4], [5], [6]]\n",
      " \n",
      "[1 2 3; 1 5 4; 8 18 15; 6 11 8; 15 34 27; 29 63 50; 50 108 85]\n",
      "[[1, 2, 3], [1, 3, 4], [2, 3, 5], [2, 4, 5], [3, 4, 6], [3, 5, 6], [4, 5, 7], [4, 6, 7], [5, 6, 7], [1, 2], [1, 3], [2, 3], [1, 4], [3, 4], [3, 5], [2, 5], [2, 4], [4, 5], [4, 6], [3, 6], [5, 6], [4, 7], [5, 7], [6, 7], [1], [2], [3], [4], [5], [6], [7]]\n",
      " \n",
      "[1 2 3; 1 5 4; 8 18 15; 6 11 8; 15 34 27; 29 63 50; 50 108 85; 94 205 162]\n",
      "[[1, 2, 3], [1, 3, 4], [2, 3, 5], [2, 4, 5], [3, 4, 6], [3, 5, 6], [4, 5, 7], [4, 6, 7], [5, 6, 8], [5, 7, 8], [6, 7, 8], [1, 2], [1, 3], [2, 3], [1, 4], [3, 4], [3, 5], [2, 5], [2, 4], [4, 5], [4, 6], [3, 6], [5, 6], [4, 7], [5, 7], [6, 7], [5, 8], [6, 8], [7, 8], [1], [2], [3], [4], [5], [6], [7], [8]]\n",
      " \n",
      "[1 2 3; 1 5 4; 8 18 15; 6 11 8; 15 34 27; 29 63 50; 50 108 85; 94 205 162; 173 376 297]\n",
      "[[1, 2, 3], [1, 3, 4], [2, 3, 5], [2, 4, 5], [3, 4, 6], [3, 5, 6], [4, 5, 7], [4, 6, 7], [5, 6, 8], [5, 7, 8], [6, 7, 9], [6, 8, 9], [7, 8, 9], [1, 2], [1, 3], [2, 3], [1, 4], [3, 4], [3, 5], [2, 5], [2, 4], [4, 5], [4, 6], [3, 6], [5, 6], [4, 7], [5, 7], [6, 7], [5, 8], [6, 8], [7, 8], [6, 9], [7, 9], [8, 9], [1], [2], [3], [4], [5], [6], [7], [8], [9]]\n",
      " \n",
      "[1 2 3; 1 5 4; 8 18 15; 6 11 8; 15 34 27; 29 63 50; 50 108 85; 94 205 162; 173 376 297; 223 484 382]\n",
      "[[1, 2, 3], [1, 3, 4], [2, 3, 5], [2, 4, 5], [3, 4, 6], [3, 5, 6], [4, 5, 7], [4, 6, 7], [5, 6, 8], [5, 7, 8], [6, 8, 9], [6, 7, 10], [6, 9, 10], [7, 8, 10], [8, 9, 10], [1, 2], [1, 3], [2, 3], [1, 4], [3, 4], [3, 5], [2, 5], [2, 4], [4, 5], [4, 6], [3, 6], [5, 6], [4, 7], [5, 7], [6, 7], [5, 8], [6, 8], [7, 8], [8, 9], [6, 9], [6, 10], [7, 10], [9, 10], [8, 10], [1], [2], [3], [4], [5], [6], [7], [8], [9], [10]]\n",
      " \n",
      "[1 2 3; 1 5 4; 8 18 15; 6 11 8; 15 34 27; 29 63 50; 50 108 85; 94 205 162; 173 376 297; 223 484 382; 396 860 679]\n",
      "[[1, 2, 3], [1, 3, 4], [2, 3, 5], [2, 4, 5], [3, 4, 6], [3, 5, 6], [4, 5, 7], [4, 6, 7], [5, 6, 8], [5, 7, 8], [6, 8, 9], [6, 7, 10], [7, 8, 10], [6, 9, 11], [6, 10, 11], [8, 9, 11], [8, 10, 11], [1, 2], [1, 3], [2, 3], [1, 4], [3, 4], [3, 5], [2, 5], [2, 4], [4, 5], [4, 6], [3, 6], [5, 6], [4, 7], [5, 7], [6, 7], [5, 8], [6, 8], [7, 8], [8, 9], [6, 9], [6, 10], [7, 10], [8, 10], [9, 11], [6, 11], [10, 11], [8, 11], [1], [2], [3], [4], [5], [6], [7], [8], [9], [10], [11]]\n",
      " \n",
      "[1 2 3; 1 5 4; 8 18 15; 6 11 8; 15 34 27; 29 63 50; 50 108 85; 94 205 162; 173 376 297; 223 484 382; 396 860 679; 619 1344 1061]\n",
      "[[1, 2, 3], [1, 3, 4], [2, 3, 5], [2, 4, 5], [3, 4, 6], [3, 5, 6], [4, 5, 7], [4, 6, 7], [5, 6, 8], [5, 7, 8], [6, 8, 9], [6, 7, 10], [7, 8, 10], [6, 9, 11], [8, 9, 11], [6, 10, 12], [6, 11, 12], [8, 10, 12], [8, 11, 12], [1, 2], [1, 3], [2, 3], [1, 4], [3, 4], [3, 5], [2, 5], [2, 4], [4, 5], [4, 6], [3, 6], [5, 6], [4, 7], [5, 7], [6, 7], [5, 8], [6, 8], [7, 8], [8, 9], [6, 9], [6, 10], [7, 10], [8, 10], [9, 11], [6, 11], [8, 11], [10, 12], [6, 12], [11, 12], [8, 12], [1], [2], [3], [4], [5], [6], [7], [8], [9], [10], [11], [12]]\n",
      " \n",
      "[1 2 3; 1 5 4; 8 18 15; 6 11 8; 15 34 27; 29 63 50; 50 108 85; 94 205 162; 173 376 297; 223 484 382; 396 860 679; 619 1344 1061; 35 76 60]\n",
      "[[1, 2, 3], [1, 3, 4], [2, 3, 5], [2, 4, 5], [3, 4, 6], [3, 5, 6], [4, 5, 7], [4, 6, 7], [5, 6, 8], [5, 7, 8], [6, 8, 9], [6, 7, 10], [7, 8, 10], [6, 9, 11], [8, 9, 11], [6, 10, 12], [8, 10, 12], [6, 11, 13], [6, 12, 13], [8, 11, 13], [8, 12, 13], [1, 2], [1, 3], [2, 3], [1, 4], [3, 4], [3, 5], [2, 5], [2, 4], [4, 5], [4, 6], [3, 6], [5, 6], [4, 7], [5, 7], [6, 7], [5, 8], [6, 8], [7, 8], [8, 9], [6, 9], [6, 10], [7, 10], [8, 10], [9, 11], [6, 11], [8, 11], [10, 12], [6, 12], [8, 12], [11, 13], [6, 13], [12, 13], [8, 13], [1], [2], [3], [4], [5], [6], [7], [8], [9], [10], [11], [12], [13]]\n",
      " \n",
      "[1 2 3; 1 5 4; 8 18 15; 6 11 8; 15 34 27; 29 63 50; 50 108 85; 94 205 162; 173 376 297; 223 484 382; 396 860 679; 35 76 60; 619 1344 1061; 842 1828 1443]\n",
      "[[1, 2, 3], [1, 3, 4], [2, 3, 5], [2, 4, 5], [3, 4, 6], [3, 5, 6], [4, 5, 7], [4, 6, 7], [5, 6, 8], [5, 7, 8], [6, 8, 9], [6, 7, 10], [7, 8, 10], [6, 9, 11], [8, 9, 11], [6, 11, 12], [6, 12, 13], [8, 11, 12], [8, 12, 13], [6, 10, 14], [6, 13, 14], [8, 10, 14], [8, 13, 14], [1, 2], [1, 3], [2, 3], [1, 4], [3, 4], [3, 5], [2, 5], [2, 4], [4, 5], [4, 6], [3, 6], [5, 6], [4, 7], [5, 7], [6, 7], [5, 8], [6, 8], [7, 8], [8, 9], [6, 9], [6, 10], [7, 10], [8, 10], [9, 11], [6, 11], [8, 11], [11, 12], [6, 12], [12, 13], [6, 13], [8, 12], [8, 13], [10, 14], [6, 14], [13, 14], [8, 14], [1], [2], [3], [4], [5], [6], [7], [8], [9], [10], [11], [12], [13], [14]]\n",
      " \n",
      "[1 2 3; 1 5 4; 8 18 15; 6 11 8; 15 34 27; 29 63 50; 50 108 85; 94 205 162; 173 376 297; 223 484 382; 396 860 679; 35 76 60; 619 1344 1061; 842 1828 1443; 1461 3172 2504]\n",
      "[[1, 2, 3], [1, 3, 4], [2, 3, 5], [2, 4, 5], [3, 4, 6], [3, 5, 6], [4, 5, 7], [4, 6, 7], [5, 6, 8], [5, 7, 8], [6, 8, 9], [6, 7, 10], [7, 8, 10], [6, 9, 11], [8, 9, 11], [6, 11, 12], [6, 12, 13], [8, 11, 12], [8, 12, 13], [6, 10, 14], [8, 10, 14], [6, 13, 15], [6, 14, 15], [8, 13, 15], [8, 14, 15], [1, 2], [1, 3], [2, 3], [1, 4], [3, 4], [3, 5], [2, 5], [2, 4], [4, 5], [4, 6], [3, 6], [5, 6], [4, 7], [5, 7], [6, 7], [5, 8], [6, 8], [7, 8], [8, 9], [6, 9], [6, 10], [7, 10], [8, 10], [9, 11], [6, 11], [8, 11], [11, 12], [6, 12], [12, 13], [6, 13], [8, 12], [8, 13], [10, 14], [6, 14], [8, 14], [13, 15], [6, 15], [14, 15], [8, 15], [1], [2], [3], [4], [5], [6], [7], [8], [9], [10], [11], [12], [13], [14], [15]]\n",
      " \n",
      "[1 2 3; 1 5 4; 8 18 15; 6 11 8; 15 34 27; 29 63 50; 50 108 85; 94 205 162; 173 376 297; 223 484 382; 396 860 679; 35 76 60; 619 1344 1061; 842 1828 1443; 1461 3172 2504; 2303 5000 3947]\n",
      "[[1, 2, 3], [1, 3, 4], [2, 3, 5], [2, 4, 5], [3, 4, 6], [3, 5, 6], [4, 5, 7], [4, 6, 7], [5, 6, 8], [5, 7, 8], [6, 8, 9], [6, 7, 10], [7, 8, 10], [6, 9, 11], [8, 9, 11], [6, 11, 12], [6, 12, 13], [8, 11, 12], [8, 12, 13], [6, 10, 14], [8, 10, 14], [6, 13, 15], [8, 13, 15], [6, 14, 16], [6, 15, 16], [8, 14, 16], [8, 15, 16], [1, 2], [1, 3], [2, 3], [1, 4], [3, 4], [3, 5], [2, 5], [2, 4], [4, 5], [4, 6], [3, 6], [5, 6], [4, 7], [5, 7], [6, 7], [5, 8], [6, 8], [7, 8], [8, 9], [6, 9], [6, 10], [7, 10], [8, 10], [9, 11], [6, 11], [8, 11], [11, 12], [6, 12], [12, 13], [6, 13], [8, 12], [8, 13], [10, 14], [6, 14], [8, 14], [13, 15], [6, 15], [8, 15], [14, 16], [6, 16], [15, 16], [8, 16], [1], [2], [3], [4], [5], [6], [7], [8], [9], [10], [11], [12], [13], [14], [15], [16]]\n",
      " \n",
      "[1 2 3; 1 5 4; 8 18 15; 6 11 8; 15 34 27; 29 63 50; 50 108 85; 94 205 162; 173 376 297; 223 484 382; 396 860 679; 35 76 60; 619 1344 1061; 842 1828 1443; 1461 3172 2504; 2303 5000 3947; 3764 8172 6451]\n",
      "[[1, 2, 3], [1, 3, 4], [2, 3, 5], [2, 4, 5], [3, 4, 6], [3, 5, 6], [4, 5, 7], [4, 6, 7], [5, 6, 8], [5, 7, 8], [6, 8, 9], [6, 7, 10], [7, 8, 10], [6, 9, 11], [8, 9, 11], [6, 11, 12], [6, 12, 13], [8, 11, 12], [8, 12, 13], [6, 10, 14], [8, 10, 14], [6, 13, 15], [8, 13, 15], [6, 14, 16], [8, 14, 16], [6, 15, 17], [6, 16, 17], [8, 15, 17], [8, 16, 17], [1, 2], [1, 3], [2, 3], [1, 4], [3, 4], [3, 5], [2, 5], [2, 4], [4, 5], [4, 6], [3, 6], [5, 6], [4, 7], [5, 7], [6, 7], [5, 8], [6, 8], [7, 8], [8, 9], [6, 9], [6, 10], [7, 10], [8, 10], [9, 11], [6, 11], [8, 11], [11, 12], [6, 12], [12, 13], [6, 13], [8, 12], [8, 13], [10, 14], [6, 14], [8, 14], [13, 15], [6, 15], [8, 15], [14, 16], [6, 16], [8, 16], [15, 17], [6, 17], [16, 17], [8, 17], [1], [2], [3], [4], [5], [6], [7], [8], [9], [10], [11], [12], [13], [14], [15], [16], [17]]\n",
      " \n",
      "[1 2 3; 1 5 4; 8 18 15; 6 11 8; 15 34 27; 29 63 50; 50 108 85; 94 205 162; 173 376 297; 223 484 382; 396 860 679; 35 76 60; 619 1344 1061; 842 1828 1443; 1461 3172 2504; 2303 5000 3947; 3764 8172 6451; 6067 13172 10398]\n",
      "[[1, 2, 3], [1, 3, 4], [2, 3, 5], [2, 4, 5], [3, 4, 6], [3, 5, 6], [4, 5, 7], [4, 6, 7], [5, 6, 8], [5, 7, 8], [6, 8, 9], [6, 7, 10], [7, 8, 10], [6, 9, 11], [8, 9, 11], [6, 11, 12], [6, 12, 13], [8, 11, 12], [8, 12, 13], [6, 10, 14], [8, 10, 14], [6, 13, 15], [8, 13, 15], [6, 14, 16], [8, 14, 16], [6, 15, 17], [8, 15, 17], [6, 16, 18], [6, 17, 18], [8, 16, 18], [8, 17, 18], [1, 2], [1, 3], [2, 3], [1, 4], [3, 4], [3, 5], [2, 5], [2, 4], [4, 5], [4, 6], [3, 6], [5, 6], [4, 7], [5, 7], [6, 7], [5, 8], [6, 8], [7, 8], [8, 9], [6, 9], [6, 10], [7, 10], [8, 10], [9, 11], [6, 11], [8, 11], [11, 12], [6, 12], [12, 13], [6, 13], [8, 12], [8, 13], [10, 14], [6, 14], [8, 14], [13, 15], [6, 15], [8, 15], [14, 16], [6, 16], [8, 16], [15, 17], [6, 17], [8, 17], [16, 18], [6, 18], [17, 18], [8, 18], [1], [2], [3], [4], [5], [6], [7], [8], [9], [10], [11], [12], [13], [14], [15], [16], [17], [18]]\n",
      " \n"
     ]
    },
    {
     "name": "stderr",
     "output_type": "stream",
     "text": [
      "┌ Warning: Interrupting polymake is not safe.\n",
      "│ SIGINT is disabled while waiting for polymake to finish its computations.\n",
      "└ @ Polymake /home/kitty/.julia/packages/Polymake/6iwMj/src/perlobj.jl:47\n"
     ]
    },
    {
     "ename": "LoadError",
     "evalue": "InterruptException:",
     "output_type": "error",
     "traceback": [
      "InterruptException:",
      "",
      "Stacktrace:",
      " [1] sigatomic_end",
      "   @ ./c.jl:437 [inlined]",
      " [2] disable_sigint",
      "   @ ./c.jl:460 [inlined]",
      " [3] give(obj::Polymake.BigObjectAllocated, prop::String)",
      "   @ Polymake ~/.julia/packages/Polymake/6iwMj/src/perlobj.jl:41",
      " [4] getproperty",
      "   @ ~/.julia/packages/Polymake/6iwMj/src/perlobj.jl:59 [inlined]",
      " [5] interiorPoints(rayMatrix::Matrix{Int64})",
      "   @ Main /mnt/c/Users/Kitty/Documents/Github/polymakejl4tv/StackyFan.jl:688",
      " [6] BerghA(F::StackyFan, D::Vector{Int64})",
      "   @ Main ./In[293]:46",
      " [7] top-level scope",
      "   @ In[296]:1",
      " [8] eval",
      "   @ ./boot.jl:360 [inlined]",
      " [9] include_string(mapexpr::typeof(REPL.softscope), mod::Module, code::String, filename::String)",
      "   @ Base ./loading.jl:1094"
     ]
    }
   ],
   "source": [
    "Y=BerghA(F,[1,1,1])"
   ]
  },
  {
   "cell_type": "code",
   "execution_count": null,
   "id": "874aa316",
   "metadata": {},
   "outputs": [],
   "source": []
  },
  {
   "cell_type": "code",
   "execution_count": 45,
   "id": "77b27ac9",
   "metadata": {},
   "outputs": [
    {
     "data": {
      "text/plain": [
       "pm::Matrix<double>\n",
       "0.2 0.4\n",
       "0.2 0\n"
      ]
     },
     "execution_count": 45,
     "metadata": {},
     "output_type": "execute_result"
    }
   ],
   "source": [
    "X.RAYS*(1/5)"
   ]
  },
  {
   "cell_type": "code",
   "execution_count": null,
   "id": "478ef8a4",
   "metadata": {},
   "outputs": [],
   "source": []
  },
  {
   "cell_type": "code",
   "execution_count": null,
   "id": "6c1acefa",
   "metadata": {},
   "outputs": [],
   "source": []
  }
 ],
 "metadata": {
  "kernelspec": {
   "display_name": "Julia 1.6.0",
   "language": "julia",
   "name": "julia-1.6"
  },
  "language_info": {
   "file_extension": ".jl",
   "mimetype": "application/julia",
   "name": "julia",
   "version": "1.6.0"
  }
 },
 "nbformat": 4,
 "nbformat_minor": 5
}
