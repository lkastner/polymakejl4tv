{
 "cells": [
  {
   "cell_type": "code",
   "execution_count": 95,
   "id": "turkish-campbell",
   "metadata": {},
   "outputs": [
    {
     "data": {
      "text/plain": [
       "extremalCones (generic function with 1 method)"
      ]
     },
     "execution_count": 95,
     "metadata": {},
     "output_type": "execute_result"
    }
   ],
   "source": [
    "include(\"stackyFan.jl\")"
   ]
  },
  {
   "cell_type": "code",
   "execution_count": 92,
   "id": "copyrighted-payday",
   "metadata": {},
   "outputs": [
    {
     "data": {
      "text/plain": [
       "BerghA (generic function with 1 method)"
      ]
     },
     "execution_count": 92,
     "metadata": {},
     "output_type": "execute_result"
    }
   ],
   "source": [
    "#inputs are a stacky fan and a vector of booleans representing the distinguished structure.\n",
    "function BerghA(X::stackyFan,D::Array{Int64,1})\n",
    "    rayMatrix=Array(X.fan.RAYS)\n",
    "    coneList=convertIncidenceMatrix(X.fan.MAXIMAL_CONES)\n",
    "    dim=size(rayMatrix,2)\n",
    "    l=size(rayMatrix,1)\n",
    "    #check if the vector D has length equal to the number of rays in F\n",
    "    if l != size(D,1)\n",
    "        error(\"length of vector representing distinguished structure does not agree with number of rays in stacky fan.\")\n",
    "    end\n",
    "    \n",
    "    #A0\n",
    "    i=0\n",
    "    while(true)\n",
    "        #A1\n",
    "        #Note: cones in S are 1-indexed.\n",
    "        S=filter(cone->distinguishedAndMultiplicity(cone,rayMatrix,D),coneList)\n",
    "        if S==[]\n",
    "            break\n",
    "        end\n",
    "        \n",
    "        #A2 - find extremal cones\n",
    "        Smax=extremalCones(S,rayMatrix,D)\n",
    "        return Smax\n",
    "        \n",
    "    end\n",
    "    return X\n",
    "end"
   ]
  },
  {
   "cell_type": "code",
   "execution_count": 93,
   "id": "awful-society",
   "metadata": {},
   "outputs": [
    {
     "data": {
      "text/plain": [
       "stackyFan(Polymake.BigObjectAllocated(Ptr{Nothing} @0x000000001ad86910), Dict(\"1,2\" => 1,\"1,-1\" => 1,\"1,0\" => 1))"
      ]
     },
     "execution_count": 93,
     "metadata": {},
     "output_type": "execute_result"
    }
   ],
   "source": [
    "F=makeStackyFan([1 0; 1 2; 1 -1],[[0,1],[0,2]],[1,1,1])"
   ]
  },
  {
   "cell_type": "code",
   "execution_count": 98,
   "id": "western-actress",
   "metadata": {},
   "outputs": [
    {
     "data": {
      "text/plain": [
       "stackyFan(Polymake.BigObjectAllocated(Ptr{Nothing} @0x000000001ad86910), Dict(\"1,2\" => 1,\"1,-1\" => 1,\"1,0\" => 1))"
      ]
     },
     "execution_count": 98,
     "metadata": {},
     "output_type": "execute_result"
    }
   ],
   "source": [
    "BerghA(F,[0,0,1])"
   ]
  },
  {
   "cell_type": "code",
   "execution_count": null,
   "id": "fewer-pregnancy",
   "metadata": {},
   "outputs": [],
   "source": []
  },
  {
   "cell_type": "code",
   "execution_count": 37,
   "id": "informational-wright",
   "metadata": {},
   "outputs": [
    {
     "data": {
      "text/plain": [
       "pm::Array<pm::Set<long, pm::operations::cmp>>\n",
       "{-1}\n",
       "{0 1 2 3}\n",
       "{0 2 4}\n",
       "{0 1}\n",
       "{0 2}\n",
       "{2 3}\n",
       "{1 3}\n",
       "{0 4}\n",
       "{2 4}\n",
       "{0}\n",
       "{1}\n",
       "{2}\n",
       "{3}\n",
       "{4}\n",
       "{}\n"
      ]
     },
     "execution_count": 37,
     "metadata": {},
     "output_type": "execute_result"
    }
   ],
   "source": [
    "lattice = X.HASSE_DIAGRAM\n",
    "faces = @Polymake.convert_to Array{Set{Int}} lattice.FACES"
   ]
  },
  {
   "cell_type": "code",
   "execution_count": 46,
   "id": "informative-vacuum",
   "metadata": {},
   "outputs": [
    {
     "data": {
      "text/html": [
       "[[$0$, $1$, $2$, $3$], [$0$, $2$, $4$], [$0$, $1$], [$0$, $2$], [$2$, $3$], [$1$, $3$], [$0$, $4$], [$2$, $4$], [$0$], [$1$], [$2$], [$3$], [$4$]]"
      ],
      "text/plain": [
       "13-element Array{Any,1}:\n",
       " [0, 1, 2, 3]\n",
       " [0, 2, 4]\n",
       " [0, 1]\n",
       " [0, 2]\n",
       " [2, 3]\n",
       " [1, 3]\n",
       " [0, 4]\n",
       " [2, 4]\n",
       " [0]\n",
       " [1]\n",
       " [2]\n",
       " [3]\n",
       " [4]"
      ]
     },
     "execution_count": 46,
     "metadata": {},
     "output_type": "execute_result"
    }
   ],
   "source": [
    "getCones(X)"
   ]
  },
  {
   "cell_type": "code",
   "execution_count": null,
   "id": "recovered-council",
   "metadata": {},
   "outputs": [],
   "source": []
  }
 ],
 "metadata": {
  "kernelspec": {
   "display_name": "Julia 1.5.3",
   "language": "julia",
   "name": "julia-1.5"
  },
  "language_info": {
   "file_extension": ".jl",
   "mimetype": "application/julia",
   "name": "julia",
   "version": "1.5.3"
  }
 },
 "nbformat": 4,
 "nbformat_minor": 5
}
