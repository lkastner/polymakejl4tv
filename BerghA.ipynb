{
 "cells": [
  {
   "cell_type": "code",
   "execution_count": 4,
   "id": "seasonal-concrete",
   "metadata": {},
   "outputs": [
    {
     "data": {
      "text/plain": [
       "minimalByLex (generic function with 1 method)"
      ]
     },
     "execution_count": 4,
     "metadata": {},
     "output_type": "execute_result"
    }
   ],
   "source": [
    "include(\"StackyFan.jl\")"
   ]
  },
  {
   "cell_type": "code",
   "execution_count": 10,
   "id": "lucky-ivory",
   "metadata": {},
   "outputs": [
    {
     "data": {
      "text/plain": [
       "BerghA (generic function with 1 method)"
      ]
     },
     "execution_count": 10,
     "metadata": {},
     "output_type": "execute_result"
    }
   ],
   "source": [
    "#inputs are a stacky fan and a vector of booleans representing the distinguished structure.\n",
    "function BerghA(F::StackyFan,D::Array{Int64,1})\n",
    "    X=deepcopy(F)\n",
    "    rayMatrix=Array(X.fan.RAYS)\n",
    "    coneList=convertIncidenceMatrix(X.fan.MAXIMAL_CONES)\n",
    "    dim=size(rayMatrix,2)\n",
    "    l=size(rayMatrix,1)\n",
    "    #check if the vector D has length equal to the number of rays in F\n",
    "    if l != size(D,1)\n",
    "        error(\"length of vector representing distinguished structure does not agree with number of rays in stacky fan.\")\n",
    "    end\n",
    "    \n",
    "    #A0\n",
    "    i=0\n",
    "    while(true)\n",
    "        #A1\n",
    "        #Note: cones in S are 1-indexed.\n",
    "        S=filter(cone->distinguishedAndMultiplicity(cone,rayMatrix,D),coneList)\n",
    "        if S==[]\n",
    "            break\n",
    "        end\n",
    "        \n",
    "        #A2 - find extremal cones\n",
    "        Smax=extremalCones(S,rayMatrix,D)\n",
    "        \n",
    "        #A2 - find interior points in Smax\n",
    "        intPoints=[]\n",
    "        for cone in Smax\n",
    "            C=coneConvert(cone,rayMatrix)\n",
    "            coneIntPoints=interiorPoints(C)\n",
    "            for point in coneIntPoints\n",
    "               push!(intPoints,(point,cone)) \n",
    "            end\n",
    "        end\n",
    "        \n",
    "        #A2 - find stacky points (in terms of coefficients) derived from interior points\n",
    "        P=[]\n",
    "        for (point,cone) in intPoints\n",
    "            stackyPoint=findStackyPoint(point,cone,rayMatrix,X.scalars)\n",
    "            push!(P,stackyPoint)\n",
    "        end\n",
    "        \n",
    "        #A2 - find smallest element of P with respect to lex ordering.\n",
    "        psi=minimalByLex(P)\n",
    "        \n",
    "        \n",
    "    end\n",
    "    return X\n",
    "end"
   ]
  },
  {
   "cell_type": "code",
   "execution_count": 12,
   "id": "classified-hungarian",
   "metadata": {},
   "outputs": [
    {
     "data": {
      "text/plain": [
       "StackyFan(Polymake.BigObjectAllocated(Ptr{Nothing} @0x000000001868eea0), [4, 1], Dict(\"0,1\" => 1,\"1,0\" => 4))"
      ]
     },
     "execution_count": 12,
     "metadata": {},
     "output_type": "execute_result"
    }
   ],
   "source": [
    "F=makeStackyFan([1 0;0 1],[[0,1]],[4,1])"
   ]
  },
  {
   "cell_type": "code",
   "execution_count": null,
   "id": "gothic-pension",
   "metadata": {},
   "outputs": [],
   "source": []
  },
  {
   "cell_type": "code",
   "execution_count": null,
   "id": "ready-fraud",
   "metadata": {},
   "outputs": [],
   "source": []
  },
  {
   "cell_type": "code",
   "execution_count": null,
   "id": "naval-siemens",
   "metadata": {},
   "outputs": [],
   "source": []
  },
  {
   "cell_type": "code",
   "execution_count": null,
   "id": "announced-newspaper",
   "metadata": {},
   "outputs": [],
   "source": []
  },
  {
   "cell_type": "code",
   "execution_count": null,
   "id": "brown-distance",
   "metadata": {},
   "outputs": [],
   "source": []
  },
  {
   "cell_type": "code",
   "execution_count": null,
   "id": "functional-french",
   "metadata": {},
   "outputs": [],
   "source": []
  }
 ],
 "metadata": {
  "kernelspec": {
   "display_name": "Julia 1.5.3",
   "language": "julia",
   "name": "julia-1.5"
  },
  "language_info": {
   "file_extension": ".jl",
   "mimetype": "application/julia",
   "name": "julia",
   "version": "1.5.3"
  }
 },
 "nbformat": 4,
 "nbformat_minor": 5
}
