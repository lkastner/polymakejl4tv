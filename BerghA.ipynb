{
 "cells": [
  {
   "cell_type": "code",
   "execution_count": 39,
   "id": "hired-closure",
   "metadata": {},
   "outputs": [
    {
     "data": {
      "text/plain": [
       "coneRayDecomposition (generic function with 1 method)"
      ]
     },
     "execution_count": 39,
     "metadata": {},
     "output_type": "execute_result"
    }
   ],
   "source": [
    "include(\"StackyFan.jl\")"
   ]
  },
  {
   "cell_type": "code",
   "execution_count": null,
   "id": "characteristic-combination",
   "metadata": {},
   "outputs": [],
   "source": []
  },
  {
   "cell_type": "code",
   "execution_count": 40,
   "id": "progressive-chrome",
   "metadata": {},
   "outputs": [
    {
     "data": {
      "text/plain": [
       "BerghA (generic function with 1 method)"
      ]
     },
     "execution_count": 40,
     "metadata": {},
     "output_type": "execute_result"
    }
   ],
   "source": [
    "#inputs are a stacky fan and a vector of booleans representing the distinguished structure.\n",
    "function BerghA(F::StackyFan,D::Array{Int64,1})\n",
    "    X=deepcopy(F)\n",
    "    rayMatrix=convert(Array{Int64,2},Array(Polymake.common.primitive(X.fan.RAYS)))\n",
    "    coneList=getCones(X.fan)\n",
    "    dim=size(rayMatrix,2)\n",
    "    l=size(rayMatrix,1)\n",
    "    #check if the vector D has length equal to the number of rays in F\n",
    "    if l != size(D,1)\n",
    "        error(\"length of vector representing distinguished structure does not agree with number of rays in stacky fan.\")\n",
    "    end\n",
    "    \n",
    "    #A0\n",
    "    while(true)\n",
    "        rayMatrix=convert(Array{Int64,2},Array(Polymake.common.primitive(X.fan.RAYS)))\n",
    "        coneList=getCones(X.fan)\n",
    "        #A1\n",
    "        #Note: cones in S are 1-indexed.\n",
    "        S=filter(cone->distinguishedAndIntPoint(cone,rayMatrix,D),coneList)\n",
    "        printn(rayMatrix)\n",
    "        printn(S)\n",
    "        if S==[]\n",
    "            break\n",
    "        end\n",
    "        \n",
    "        #A2 - find extremal cones\n",
    "        Smax=extremalCones(S,rayMatrix,D)\n",
    "        \n",
    "        #A2 - find interior points in Smax\n",
    "        intPoints=[]\n",
    "        for cone in Smax\n",
    "            C=coneConvert(cone,rayMatrix)\n",
    "            coneIntPoints=interiorPoints(C)\n",
    "            if coneIntPoints==nothing\n",
    "                return C\n",
    "            end\n",
    "            for point in coneIntPoints\n",
    "               push!(intPoints,(point,cone)) \n",
    "            end\n",
    "        end\n",
    "        \n",
    "        #A2 - find stacky points (in terms of coefficients) derived from interior points\n",
    "        P=Array{Int64,1}[]\n",
    "        for (point,cone) in intPoints\n",
    "            stackyPoint=coneRayDecomposition(cone,rayMatrix,point,X.scalars)\n",
    "            push!(P,stackyPoint)\n",
    "        end\n",
    "        \n",
    "        #A2 - find smallest element of P with respect to lex ordering.\n",
    "        psi=minimalByLex(P)\n",
    "        \n",
    "        #A3 - perform root construction\n",
    "        X=rootConstructionDistinguishedIndices(X,D,psi)\n",
    "        \n",
    "        #A3 - modify psi with respect to root construction\n",
    "        for i in 1:length(psi)\n",
    "            if D[i]==1 && psi[i]>0\n",
    "                psi[i]=1\n",
    "            end\n",
    "        end\n",
    "        \n",
    "        while(count(x->x>0,psi)>1)\n",
    "            #A4 - perform stacky star subdivision\n",
    "            supportCone=findall(x->x!=0,psi)\n",
    "            X=stackyBlowup(X,[x-1 for x in supportCone],findBarycenter(supportCone,X.fan))\n",
    "            D=push!(D,1)\n",
    "        \n",
    "            #A4 - modify psi\n",
    "            newpsi=zeros(Int64,length(psi)+1)\n",
    "            for i in 1:length(psi)\n",
    "                if psi[i]>1\n",
    "                    newpsi[i]=psi[i]-1\n",
    "                end\n",
    "            end\n",
    "            newpsi[end]=1\n",
    "            psi=newpsi\n",
    "        end\n",
    "    end\n",
    "    return X\n",
    "end"
   ]
  },
  {
   "cell_type": "code",
   "execution_count": 43,
   "id": "under-eligibility",
   "metadata": {},
   "outputs": [
    {
     "data": {
      "text/html": [
       "<dl> <dt>type</dt><dd> NormalToricVariety</dd> </dl><details><summary>INPUT_CONES</summary><pre>{0 1}</pre></details>\n",
       "<details><summary>INPUT_RAYS</summary><pre>1 2\n",
       "1 0</pre></details>"
      ],
      "text/plain": [
       "type: NormalToricVariety\n",
       "\n",
       "INPUT_CONES\n",
       "\t{0 1}\n",
       "\n",
       "INPUT_RAYS\n",
       "\t1 2\n",
       "\t1 0\n"
      ]
     },
     "execution_count": 43,
     "metadata": {},
     "output_type": "execute_result"
    }
   ],
   "source": [
    "X=Polymake.fulton.NormalToricVariety(INPUT_RAYS=[1 2;1 0],INPUT_CONES=[[0,1]])"
   ]
  },
  {
   "cell_type": "code",
   "execution_count": 45,
   "id": "broadband-fancy",
   "metadata": {},
   "outputs": [
    {
     "data": {
      "text/plain": [
       "StackyFan(Polymake.BigObjectAllocated(Ptr{Nothing} @0x000000001a3db8c0), [3, 4], Dict(\"1,2\" => 3,\"1,0\" => 4))"
      ]
     },
     "execution_count": 45,
     "metadata": {},
     "output_type": "execute_result"
    }
   ],
   "source": [
    "F=addStackStructure(X,[3,4])"
   ]
  },
  {
   "cell_type": "code",
   "execution_count": 46,
   "id": "amazing-crisis",
   "metadata": {},
   "outputs": [
    {
     "name": "stdout",
     "output_type": "stream",
     "text": [
      "Polymake.Integer[1 2]Polymake.Integer[1 2][1 2; 1 0]\n",
      "Any[]\n"
     ]
    },
    {
     "data": {
      "text/plain": [
       "StackyFan(Polymake.BigObjectAllocated(Ptr{Nothing} @0x000000001a3db8c0), [3, 4], Dict(\"1,2\" => 3,\"1,0\" => 4))"
      ]
     },
     "execution_count": 46,
     "metadata": {},
     "output_type": "execute_result"
    }
   ],
   "source": [
    "BerghA(F, [1, 1])"
   ]
  },
  {
   "cell_type": "code",
   "execution_count": 286,
   "id": "irish-astrology",
   "metadata": {},
   "outputs": [
    {
     "name": "stdout",
     "output_type": "stream",
     "text": [
      "Polymake.Integer[3 2 3; 1 2 0; 5 4 6]Polymake.Rational[1 0 0 0; 1 3 2 3; 1 1 2 0; 1 5 4 6; 1 4 4 3; 1 8 6 9; 1 6 6 6; 1 9 8 9]"
     ]
    },
    {
     "data": {
      "text/html": [
       "<dl> <dt>type</dt><dd> Polytope<Rational></dd> </dl><details><summary>POINTS</summary><pre>1 0 0 0\n",
       "1 3 2 3\n",
       "1 1 2 0\n",
       "1 5 4 6\n",
       "1 4 4 3\n",
       "1 8 6 9\n",
       "1 6 6 6\n",
       "1 9 8 9</pre></details>"
      ],
      "text/plain": [
       "type: Polytope<Rational>\n",
       "\n",
       "POINTS\n",
       "  1  0  0  0\n",
       "  1  3  2  3\n",
       "  1  1  2  0\n",
       "  1  5  4  6\n",
       "  1  4  4  3\n",
       "  1  8  6  9\n",
       "  1  6  6  6\n",
       "  1  9  8  9\n"
      ]
     },
     "execution_count": 286,
     "metadata": {},
     "output_type": "execute_result"
    }
   ],
   "source": [
    "P=interiorPoints(C)"
   ]
  },
  {
   "cell_type": "code",
   "execution_count": 292,
   "id": "acquired-judge",
   "metadata": {},
   "outputs": [
    {
     "data": {
      "text/plain": [
       "pm::Matrix<pm::Integer>\n"
      ]
     },
     "execution_count": 292,
     "metadata": {},
     "output_type": "execute_result"
    }
   ],
   "source": [
    "P.INTERIOR_LATTICE_POINTS"
   ]
  },
  {
   "cell_type": "code",
   "execution_count": null,
   "id": "pursuant-chapel",
   "metadata": {},
   "outputs": [],
   "source": []
  },
  {
   "cell_type": "code",
   "execution_count": null,
   "id": "structured-transport",
   "metadata": {},
   "outputs": [],
   "source": []
  }
 ],
 "metadata": {
  "kernelspec": {
   "display_name": "Julia 1.5.3",
   "language": "julia",
   "name": "julia-1.5"
  },
  "language_info": {
   "file_extension": ".jl",
   "mimetype": "application/julia",
   "name": "julia",
   "version": "1.5.3"
  }
 },
 "nbformat": 4,
 "nbformat_minor": 5
}
